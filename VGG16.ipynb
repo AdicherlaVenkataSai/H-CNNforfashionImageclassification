{
  "nbformat": 4,
  "nbformat_minor": 0,
  "metadata": {
    "colab": {
      "name": "VGG16.ipynb",
      "provenance": [],
      "collapsed_sections": [
        "tVGoQZUBcq3b",
        "71eJ9GL9eGxR",
        "J6jvkFNwVpCI"
      ],
      "mount_file_id": "1DNKqGkTviamET2VVeSLvxWX_R41tDUeB",
      "authorship_tag": "ABX9TyP3ujT+FlE7pWlcacojtqaR",
      "include_colab_link": true
    },
    "kernelspec": {
      "name": "python3",
      "display_name": "Python 3"
    },
    "accelerator": "GPU"
  },
  "cells": [
    {
      "cell_type": "markdown",
      "metadata": {
        "id": "view-in-github",
        "colab_type": "text"
      },
      "source": [
        "<a href=\"https://colab.research.google.com/github/AdicherlaVenkataSai/Hierarichal-Convolutional-Neural-Network-for-fashion-Image-Classification/blob/master/VGG16.ipynb\" target=\"_parent\"><img src=\"https://colab.research.google.com/assets/colab-badge.svg\" alt=\"Open In Colab\"/></a>"
      ]
    },
    {
      "cell_type": "markdown",
      "metadata": {
        "id": "_eduqjrXbo33",
        "colab_type": "text"
      },
      "source": [
        "# Implementing VGGNET-16 on FashioMNIST \n",
        "\n",
        ">FashionMNIST is a dataset consists of a training set of 60,000 examples and a test set of 10,000 examples. Each example is a 28*28 grayscale images, associated with a lable from 10 classes.\n",
        "\n",
        "In this work, the pre-trained model VGG19."
      ]
    },
    {
      "cell_type": "markdown",
      "metadata": {
        "id": "XPWgV1z4d19R",
        "colab_type": "text"
      },
      "source": [
        "Requirements:\n",
        ">1. google colab(GPU)\n",
        "2. dataset(fashion MNIST)"
      ]
    },
    {
      "cell_type": "markdown",
      "metadata": {
        "id": "tVGoQZUBcq3b",
        "colab_type": "text"
      },
      "source": [
        "### 1. load data"
      ]
    },
    {
      "cell_type": "code",
      "metadata": {
        "id": "LufyJJYNbanX",
        "colab_type": "code",
        "colab": {}
      },
      "source": [
        "import numpy as np\n",
        "import pandas as pd\n",
        "\n",
        "\n",
        "data_train = pd.read_csv('drive/My Drive/dataset/fashion-mnist_train.csv')\n",
        "data_test = pd.read_csv('drive/My Drive/dataset/fashion-mnist_test.csv')"
      ],
      "execution_count": 0,
      "outputs": []
    },
    {
      "cell_type": "markdown",
      "metadata": {
        "id": "yDIm7RKldadf",
        "colab_type": "text"
      },
      "source": [
        ">note:\n",
        "1. I have loaded .csv files of fashionMNIST dataset from the google drive.\n",
        "2. While executing kindly adjust the path accordingly."
      ]
    },
    {
      "cell_type": "code",
      "metadata": {
        "id": "-6G3yZIChDOa",
        "colab_type": "code",
        "outputId": "113296da-8c94-45b9-c29e-fd00263a2cd3",
        "colab": {
          "base_uri": "https://localhost:8080/",
          "height": 253
        }
      },
      "source": [
        "data_train.head()"
      ],
      "execution_count": 10,
      "outputs": [
        {
          "output_type": "execute_result",
          "data": {
            "text/html": [
              "<div>\n",
              "<style scoped>\n",
              "    .dataframe tbody tr th:only-of-type {\n",
              "        vertical-align: middle;\n",
              "    }\n",
              "\n",
              "    .dataframe tbody tr th {\n",
              "        vertical-align: top;\n",
              "    }\n",
              "\n",
              "    .dataframe thead th {\n",
              "        text-align: right;\n",
              "    }\n",
              "</style>\n",
              "<table border=\"1\" class=\"dataframe\">\n",
              "  <thead>\n",
              "    <tr style=\"text-align: right;\">\n",
              "      <th></th>\n",
              "      <th>label</th>\n",
              "      <th>pixel1</th>\n",
              "      <th>pixel2</th>\n",
              "      <th>pixel3</th>\n",
              "      <th>pixel4</th>\n",
              "      <th>pixel5</th>\n",
              "      <th>pixel6</th>\n",
              "      <th>pixel7</th>\n",
              "      <th>pixel8</th>\n",
              "      <th>pixel9</th>\n",
              "      <th>pixel10</th>\n",
              "      <th>pixel11</th>\n",
              "      <th>pixel12</th>\n",
              "      <th>pixel13</th>\n",
              "      <th>pixel14</th>\n",
              "      <th>pixel15</th>\n",
              "      <th>pixel16</th>\n",
              "      <th>pixel17</th>\n",
              "      <th>pixel18</th>\n",
              "      <th>pixel19</th>\n",
              "      <th>pixel20</th>\n",
              "      <th>pixel21</th>\n",
              "      <th>pixel22</th>\n",
              "      <th>pixel23</th>\n",
              "      <th>pixel24</th>\n",
              "      <th>pixel25</th>\n",
              "      <th>pixel26</th>\n",
              "      <th>pixel27</th>\n",
              "      <th>pixel28</th>\n",
              "      <th>pixel29</th>\n",
              "      <th>pixel30</th>\n",
              "      <th>pixel31</th>\n",
              "      <th>pixel32</th>\n",
              "      <th>pixel33</th>\n",
              "      <th>pixel34</th>\n",
              "      <th>pixel35</th>\n",
              "      <th>pixel36</th>\n",
              "      <th>pixel37</th>\n",
              "      <th>pixel38</th>\n",
              "      <th>pixel39</th>\n",
              "      <th>...</th>\n",
              "      <th>pixel745</th>\n",
              "      <th>pixel746</th>\n",
              "      <th>pixel747</th>\n",
              "      <th>pixel748</th>\n",
              "      <th>pixel749</th>\n",
              "      <th>pixel750</th>\n",
              "      <th>pixel751</th>\n",
              "      <th>pixel752</th>\n",
              "      <th>pixel753</th>\n",
              "      <th>pixel754</th>\n",
              "      <th>pixel755</th>\n",
              "      <th>pixel756</th>\n",
              "      <th>pixel757</th>\n",
              "      <th>pixel758</th>\n",
              "      <th>pixel759</th>\n",
              "      <th>pixel760</th>\n",
              "      <th>pixel761</th>\n",
              "      <th>pixel762</th>\n",
              "      <th>pixel763</th>\n",
              "      <th>pixel764</th>\n",
              "      <th>pixel765</th>\n",
              "      <th>pixel766</th>\n",
              "      <th>pixel767</th>\n",
              "      <th>pixel768</th>\n",
              "      <th>pixel769</th>\n",
              "      <th>pixel770</th>\n",
              "      <th>pixel771</th>\n",
              "      <th>pixel772</th>\n",
              "      <th>pixel773</th>\n",
              "      <th>pixel774</th>\n",
              "      <th>pixel775</th>\n",
              "      <th>pixel776</th>\n",
              "      <th>pixel777</th>\n",
              "      <th>pixel778</th>\n",
              "      <th>pixel779</th>\n",
              "      <th>pixel780</th>\n",
              "      <th>pixel781</th>\n",
              "      <th>pixel782</th>\n",
              "      <th>pixel783</th>\n",
              "      <th>pixel784</th>\n",
              "    </tr>\n",
              "  </thead>\n",
              "  <tbody>\n",
              "    <tr>\n",
              "      <th>0</th>\n",
              "      <td>2</td>\n",
              "      <td>0</td>\n",
              "      <td>0</td>\n",
              "      <td>0</td>\n",
              "      <td>0</td>\n",
              "      <td>0</td>\n",
              "      <td>0</td>\n",
              "      <td>0</td>\n",
              "      <td>0</td>\n",
              "      <td>0</td>\n",
              "      <td>0</td>\n",
              "      <td>0</td>\n",
              "      <td>0</td>\n",
              "      <td>0</td>\n",
              "      <td>0</td>\n",
              "      <td>0</td>\n",
              "      <td>0</td>\n",
              "      <td>0</td>\n",
              "      <td>0</td>\n",
              "      <td>0</td>\n",
              "      <td>0</td>\n",
              "      <td>0</td>\n",
              "      <td>0</td>\n",
              "      <td>0</td>\n",
              "      <td>0</td>\n",
              "      <td>0</td>\n",
              "      <td>0</td>\n",
              "      <td>0</td>\n",
              "      <td>0</td>\n",
              "      <td>0</td>\n",
              "      <td>0</td>\n",
              "      <td>0</td>\n",
              "      <td>0</td>\n",
              "      <td>0</td>\n",
              "      <td>0</td>\n",
              "      <td>0</td>\n",
              "      <td>0</td>\n",
              "      <td>0</td>\n",
              "      <td>0</td>\n",
              "      <td>0</td>\n",
              "      <td>...</td>\n",
              "      <td>0</td>\n",
              "      <td>0</td>\n",
              "      <td>0</td>\n",
              "      <td>0</td>\n",
              "      <td>0</td>\n",
              "      <td>0</td>\n",
              "      <td>0</td>\n",
              "      <td>0</td>\n",
              "      <td>0</td>\n",
              "      <td>0</td>\n",
              "      <td>0</td>\n",
              "      <td>0</td>\n",
              "      <td>0</td>\n",
              "      <td>0</td>\n",
              "      <td>0</td>\n",
              "      <td>0</td>\n",
              "      <td>0</td>\n",
              "      <td>0</td>\n",
              "      <td>0</td>\n",
              "      <td>0</td>\n",
              "      <td>0</td>\n",
              "      <td>0</td>\n",
              "      <td>0</td>\n",
              "      <td>0</td>\n",
              "      <td>0</td>\n",
              "      <td>0</td>\n",
              "      <td>0</td>\n",
              "      <td>0</td>\n",
              "      <td>0</td>\n",
              "      <td>0</td>\n",
              "      <td>0</td>\n",
              "      <td>0</td>\n",
              "      <td>0</td>\n",
              "      <td>0</td>\n",
              "      <td>0</td>\n",
              "      <td>0</td>\n",
              "      <td>0</td>\n",
              "      <td>0</td>\n",
              "      <td>0</td>\n",
              "      <td>0</td>\n",
              "    </tr>\n",
              "    <tr>\n",
              "      <th>1</th>\n",
              "      <td>9</td>\n",
              "      <td>0</td>\n",
              "      <td>0</td>\n",
              "      <td>0</td>\n",
              "      <td>0</td>\n",
              "      <td>0</td>\n",
              "      <td>0</td>\n",
              "      <td>0</td>\n",
              "      <td>0</td>\n",
              "      <td>0</td>\n",
              "      <td>0</td>\n",
              "      <td>0</td>\n",
              "      <td>0</td>\n",
              "      <td>0</td>\n",
              "      <td>0</td>\n",
              "      <td>0</td>\n",
              "      <td>0</td>\n",
              "      <td>0</td>\n",
              "      <td>0</td>\n",
              "      <td>0</td>\n",
              "      <td>0</td>\n",
              "      <td>0</td>\n",
              "      <td>0</td>\n",
              "      <td>0</td>\n",
              "      <td>0</td>\n",
              "      <td>0</td>\n",
              "      <td>0</td>\n",
              "      <td>0</td>\n",
              "      <td>0</td>\n",
              "      <td>0</td>\n",
              "      <td>0</td>\n",
              "      <td>0</td>\n",
              "      <td>0</td>\n",
              "      <td>0</td>\n",
              "      <td>0</td>\n",
              "      <td>0</td>\n",
              "      <td>0</td>\n",
              "      <td>0</td>\n",
              "      <td>0</td>\n",
              "      <td>0</td>\n",
              "      <td>...</td>\n",
              "      <td>0</td>\n",
              "      <td>0</td>\n",
              "      <td>0</td>\n",
              "      <td>0</td>\n",
              "      <td>0</td>\n",
              "      <td>0</td>\n",
              "      <td>0</td>\n",
              "      <td>0</td>\n",
              "      <td>0</td>\n",
              "      <td>0</td>\n",
              "      <td>0</td>\n",
              "      <td>0</td>\n",
              "      <td>0</td>\n",
              "      <td>0</td>\n",
              "      <td>0</td>\n",
              "      <td>0</td>\n",
              "      <td>0</td>\n",
              "      <td>0</td>\n",
              "      <td>0</td>\n",
              "      <td>0</td>\n",
              "      <td>0</td>\n",
              "      <td>0</td>\n",
              "      <td>0</td>\n",
              "      <td>0</td>\n",
              "      <td>0</td>\n",
              "      <td>0</td>\n",
              "      <td>0</td>\n",
              "      <td>0</td>\n",
              "      <td>0</td>\n",
              "      <td>0</td>\n",
              "      <td>0</td>\n",
              "      <td>0</td>\n",
              "      <td>0</td>\n",
              "      <td>0</td>\n",
              "      <td>0</td>\n",
              "      <td>0</td>\n",
              "      <td>0</td>\n",
              "      <td>0</td>\n",
              "      <td>0</td>\n",
              "      <td>0</td>\n",
              "    </tr>\n",
              "    <tr>\n",
              "      <th>2</th>\n",
              "      <td>6</td>\n",
              "      <td>0</td>\n",
              "      <td>0</td>\n",
              "      <td>0</td>\n",
              "      <td>0</td>\n",
              "      <td>0</td>\n",
              "      <td>0</td>\n",
              "      <td>0</td>\n",
              "      <td>5</td>\n",
              "      <td>0</td>\n",
              "      <td>0</td>\n",
              "      <td>0</td>\n",
              "      <td>105</td>\n",
              "      <td>92</td>\n",
              "      <td>101</td>\n",
              "      <td>107</td>\n",
              "      <td>100</td>\n",
              "      <td>132</td>\n",
              "      <td>0</td>\n",
              "      <td>0</td>\n",
              "      <td>2</td>\n",
              "      <td>4</td>\n",
              "      <td>0</td>\n",
              "      <td>1</td>\n",
              "      <td>0</td>\n",
              "      <td>0</td>\n",
              "      <td>0</td>\n",
              "      <td>0</td>\n",
              "      <td>0</td>\n",
              "      <td>0</td>\n",
              "      <td>0</td>\n",
              "      <td>0</td>\n",
              "      <td>0</td>\n",
              "      <td>0</td>\n",
              "      <td>0</td>\n",
              "      <td>0</td>\n",
              "      <td>0</td>\n",
              "      <td>0</td>\n",
              "      <td>0</td>\n",
              "      <td>150</td>\n",
              "      <td>...</td>\n",
              "      <td>211</td>\n",
              "      <td>220</td>\n",
              "      <td>214</td>\n",
              "      <td>74</td>\n",
              "      <td>0</td>\n",
              "      <td>255</td>\n",
              "      <td>222</td>\n",
              "      <td>128</td>\n",
              "      <td>0</td>\n",
              "      <td>0</td>\n",
              "      <td>0</td>\n",
              "      <td>0</td>\n",
              "      <td>0</td>\n",
              "      <td>0</td>\n",
              "      <td>0</td>\n",
              "      <td>0</td>\n",
              "      <td>0</td>\n",
              "      <td>44</td>\n",
              "      <td>12</td>\n",
              "      <td>0</td>\n",
              "      <td>0</td>\n",
              "      <td>40</td>\n",
              "      <td>134</td>\n",
              "      <td>162</td>\n",
              "      <td>191</td>\n",
              "      <td>214</td>\n",
              "      <td>163</td>\n",
              "      <td>146</td>\n",
              "      <td>165</td>\n",
              "      <td>79</td>\n",
              "      <td>0</td>\n",
              "      <td>0</td>\n",
              "      <td>0</td>\n",
              "      <td>30</td>\n",
              "      <td>43</td>\n",
              "      <td>0</td>\n",
              "      <td>0</td>\n",
              "      <td>0</td>\n",
              "      <td>0</td>\n",
              "      <td>0</td>\n",
              "    </tr>\n",
              "    <tr>\n",
              "      <th>3</th>\n",
              "      <td>0</td>\n",
              "      <td>0</td>\n",
              "      <td>0</td>\n",
              "      <td>0</td>\n",
              "      <td>1</td>\n",
              "      <td>2</td>\n",
              "      <td>0</td>\n",
              "      <td>0</td>\n",
              "      <td>0</td>\n",
              "      <td>0</td>\n",
              "      <td>0</td>\n",
              "      <td>114</td>\n",
              "      <td>183</td>\n",
              "      <td>112</td>\n",
              "      <td>55</td>\n",
              "      <td>23</td>\n",
              "      <td>72</td>\n",
              "      <td>102</td>\n",
              "      <td>165</td>\n",
              "      <td>160</td>\n",
              "      <td>28</td>\n",
              "      <td>0</td>\n",
              "      <td>0</td>\n",
              "      <td>0</td>\n",
              "      <td>1</td>\n",
              "      <td>0</td>\n",
              "      <td>0</td>\n",
              "      <td>0</td>\n",
              "      <td>0</td>\n",
              "      <td>0</td>\n",
              "      <td>0</td>\n",
              "      <td>0</td>\n",
              "      <td>0</td>\n",
              "      <td>1</td>\n",
              "      <td>0</td>\n",
              "      <td>0</td>\n",
              "      <td>24</td>\n",
              "      <td>188</td>\n",
              "      <td>163</td>\n",
              "      <td>93</td>\n",
              "      <td>...</td>\n",
              "      <td>171</td>\n",
              "      <td>249</td>\n",
              "      <td>207</td>\n",
              "      <td>197</td>\n",
              "      <td>202</td>\n",
              "      <td>45</td>\n",
              "      <td>0</td>\n",
              "      <td>3</td>\n",
              "      <td>0</td>\n",
              "      <td>0</td>\n",
              "      <td>0</td>\n",
              "      <td>0</td>\n",
              "      <td>0</td>\n",
              "      <td>0</td>\n",
              "      <td>0</td>\n",
              "      <td>0</td>\n",
              "      <td>0</td>\n",
              "      <td>0</td>\n",
              "      <td>1</td>\n",
              "      <td>0</td>\n",
              "      <td>0</td>\n",
              "      <td>0</td>\n",
              "      <td>22</td>\n",
              "      <td>21</td>\n",
              "      <td>25</td>\n",
              "      <td>69</td>\n",
              "      <td>52</td>\n",
              "      <td>45</td>\n",
              "      <td>74</td>\n",
              "      <td>39</td>\n",
              "      <td>3</td>\n",
              "      <td>0</td>\n",
              "      <td>0</td>\n",
              "      <td>0</td>\n",
              "      <td>0</td>\n",
              "      <td>1</td>\n",
              "      <td>0</td>\n",
              "      <td>0</td>\n",
              "      <td>0</td>\n",
              "      <td>0</td>\n",
              "    </tr>\n",
              "    <tr>\n",
              "      <th>4</th>\n",
              "      <td>3</td>\n",
              "      <td>0</td>\n",
              "      <td>0</td>\n",
              "      <td>0</td>\n",
              "      <td>0</td>\n",
              "      <td>0</td>\n",
              "      <td>0</td>\n",
              "      <td>0</td>\n",
              "      <td>0</td>\n",
              "      <td>0</td>\n",
              "      <td>0</td>\n",
              "      <td>0</td>\n",
              "      <td>0</td>\n",
              "      <td>46</td>\n",
              "      <td>0</td>\n",
              "      <td>21</td>\n",
              "      <td>68</td>\n",
              "      <td>0</td>\n",
              "      <td>0</td>\n",
              "      <td>0</td>\n",
              "      <td>0</td>\n",
              "      <td>0</td>\n",
              "      <td>0</td>\n",
              "      <td>0</td>\n",
              "      <td>0</td>\n",
              "      <td>0</td>\n",
              "      <td>0</td>\n",
              "      <td>0</td>\n",
              "      <td>0</td>\n",
              "      <td>0</td>\n",
              "      <td>0</td>\n",
              "      <td>0</td>\n",
              "      <td>0</td>\n",
              "      <td>0</td>\n",
              "      <td>0</td>\n",
              "      <td>0</td>\n",
              "      <td>0</td>\n",
              "      <td>25</td>\n",
              "      <td>187</td>\n",
              "      <td>189</td>\n",
              "      <td>...</td>\n",
              "      <td>230</td>\n",
              "      <td>237</td>\n",
              "      <td>229</td>\n",
              "      <td>0</td>\n",
              "      <td>0</td>\n",
              "      <td>1</td>\n",
              "      <td>0</td>\n",
              "      <td>0</td>\n",
              "      <td>0</td>\n",
              "      <td>0</td>\n",
              "      <td>0</td>\n",
              "      <td>0</td>\n",
              "      <td>0</td>\n",
              "      <td>0</td>\n",
              "      <td>0</td>\n",
              "      <td>0</td>\n",
              "      <td>0</td>\n",
              "      <td>0</td>\n",
              "      <td>0</td>\n",
              "      <td>0</td>\n",
              "      <td>0</td>\n",
              "      <td>68</td>\n",
              "      <td>116</td>\n",
              "      <td>112</td>\n",
              "      <td>136</td>\n",
              "      <td>147</td>\n",
              "      <td>144</td>\n",
              "      <td>121</td>\n",
              "      <td>102</td>\n",
              "      <td>63</td>\n",
              "      <td>0</td>\n",
              "      <td>0</td>\n",
              "      <td>0</td>\n",
              "      <td>0</td>\n",
              "      <td>0</td>\n",
              "      <td>0</td>\n",
              "      <td>0</td>\n",
              "      <td>0</td>\n",
              "      <td>0</td>\n",
              "      <td>0</td>\n",
              "    </tr>\n",
              "  </tbody>\n",
              "</table>\n",
              "<p>5 rows × 785 columns</p>\n",
              "</div>"
            ],
            "text/plain": [
              "   label  pixel1  pixel2  pixel3  ...  pixel781  pixel782  pixel783  pixel784\n",
              "0      2       0       0       0  ...         0         0         0         0\n",
              "1      9       0       0       0  ...         0         0         0         0\n",
              "2      6       0       0       0  ...         0         0         0         0\n",
              "3      0       0       0       0  ...         0         0         0         0\n",
              "4      3       0       0       0  ...         0         0         0         0\n",
              "\n",
              "[5 rows x 785 columns]"
            ]
          },
          "metadata": {
            "tags": []
          },
          "execution_count": 10
        }
      ]
    },
    {
      "cell_type": "code",
      "metadata": {
        "id": "moQOp74ahGdD",
        "colab_type": "code",
        "outputId": "d8c033bc-478b-4ad7-fdd3-d71be7dcb9e0",
        "colab": {
          "base_uri": "https://localhost:8080/",
          "height": 253
        }
      },
      "source": [
        "data_test.head()"
      ],
      "execution_count": 11,
      "outputs": [
        {
          "output_type": "execute_result",
          "data": {
            "text/html": [
              "<div>\n",
              "<style scoped>\n",
              "    .dataframe tbody tr th:only-of-type {\n",
              "        vertical-align: middle;\n",
              "    }\n",
              "\n",
              "    .dataframe tbody tr th {\n",
              "        vertical-align: top;\n",
              "    }\n",
              "\n",
              "    .dataframe thead th {\n",
              "        text-align: right;\n",
              "    }\n",
              "</style>\n",
              "<table border=\"1\" class=\"dataframe\">\n",
              "  <thead>\n",
              "    <tr style=\"text-align: right;\">\n",
              "      <th></th>\n",
              "      <th>label</th>\n",
              "      <th>pixel1</th>\n",
              "      <th>pixel2</th>\n",
              "      <th>pixel3</th>\n",
              "      <th>pixel4</th>\n",
              "      <th>pixel5</th>\n",
              "      <th>pixel6</th>\n",
              "      <th>pixel7</th>\n",
              "      <th>pixel8</th>\n",
              "      <th>pixel9</th>\n",
              "      <th>pixel10</th>\n",
              "      <th>pixel11</th>\n",
              "      <th>pixel12</th>\n",
              "      <th>pixel13</th>\n",
              "      <th>pixel14</th>\n",
              "      <th>pixel15</th>\n",
              "      <th>pixel16</th>\n",
              "      <th>pixel17</th>\n",
              "      <th>pixel18</th>\n",
              "      <th>pixel19</th>\n",
              "      <th>pixel20</th>\n",
              "      <th>pixel21</th>\n",
              "      <th>pixel22</th>\n",
              "      <th>pixel23</th>\n",
              "      <th>pixel24</th>\n",
              "      <th>pixel25</th>\n",
              "      <th>pixel26</th>\n",
              "      <th>pixel27</th>\n",
              "      <th>pixel28</th>\n",
              "      <th>pixel29</th>\n",
              "      <th>pixel30</th>\n",
              "      <th>pixel31</th>\n",
              "      <th>pixel32</th>\n",
              "      <th>pixel33</th>\n",
              "      <th>pixel34</th>\n",
              "      <th>pixel35</th>\n",
              "      <th>pixel36</th>\n",
              "      <th>pixel37</th>\n",
              "      <th>pixel38</th>\n",
              "      <th>pixel39</th>\n",
              "      <th>...</th>\n",
              "      <th>pixel745</th>\n",
              "      <th>pixel746</th>\n",
              "      <th>pixel747</th>\n",
              "      <th>pixel748</th>\n",
              "      <th>pixel749</th>\n",
              "      <th>pixel750</th>\n",
              "      <th>pixel751</th>\n",
              "      <th>pixel752</th>\n",
              "      <th>pixel753</th>\n",
              "      <th>pixel754</th>\n",
              "      <th>pixel755</th>\n",
              "      <th>pixel756</th>\n",
              "      <th>pixel757</th>\n",
              "      <th>pixel758</th>\n",
              "      <th>pixel759</th>\n",
              "      <th>pixel760</th>\n",
              "      <th>pixel761</th>\n",
              "      <th>pixel762</th>\n",
              "      <th>pixel763</th>\n",
              "      <th>pixel764</th>\n",
              "      <th>pixel765</th>\n",
              "      <th>pixel766</th>\n",
              "      <th>pixel767</th>\n",
              "      <th>pixel768</th>\n",
              "      <th>pixel769</th>\n",
              "      <th>pixel770</th>\n",
              "      <th>pixel771</th>\n",
              "      <th>pixel772</th>\n",
              "      <th>pixel773</th>\n",
              "      <th>pixel774</th>\n",
              "      <th>pixel775</th>\n",
              "      <th>pixel776</th>\n",
              "      <th>pixel777</th>\n",
              "      <th>pixel778</th>\n",
              "      <th>pixel779</th>\n",
              "      <th>pixel780</th>\n",
              "      <th>pixel781</th>\n",
              "      <th>pixel782</th>\n",
              "      <th>pixel783</th>\n",
              "      <th>pixel784</th>\n",
              "    </tr>\n",
              "  </thead>\n",
              "  <tbody>\n",
              "    <tr>\n",
              "      <th>0</th>\n",
              "      <td>0</td>\n",
              "      <td>0</td>\n",
              "      <td>0</td>\n",
              "      <td>0</td>\n",
              "      <td>0</td>\n",
              "      <td>0</td>\n",
              "      <td>0</td>\n",
              "      <td>0</td>\n",
              "      <td>9</td>\n",
              "      <td>8</td>\n",
              "      <td>0</td>\n",
              "      <td>0</td>\n",
              "      <td>34</td>\n",
              "      <td>29</td>\n",
              "      <td>7</td>\n",
              "      <td>0</td>\n",
              "      <td>11</td>\n",
              "      <td>24</td>\n",
              "      <td>0</td>\n",
              "      <td>0</td>\n",
              "      <td>3</td>\n",
              "      <td>3</td>\n",
              "      <td>1</td>\n",
              "      <td>0</td>\n",
              "      <td>1</td>\n",
              "      <td>1</td>\n",
              "      <td>0</td>\n",
              "      <td>0</td>\n",
              "      <td>0</td>\n",
              "      <td>0</td>\n",
              "      <td>0</td>\n",
              "      <td>4</td>\n",
              "      <td>0</td>\n",
              "      <td>0</td>\n",
              "      <td>1</td>\n",
              "      <td>0</td>\n",
              "      <td>0</td>\n",
              "      <td>0</td>\n",
              "      <td>0</td>\n",
              "      <td>0</td>\n",
              "      <td>...</td>\n",
              "      <td>242</td>\n",
              "      <td>245</td>\n",
              "      <td>224</td>\n",
              "      <td>245</td>\n",
              "      <td>234</td>\n",
              "      <td>0</td>\n",
              "      <td>3</td>\n",
              "      <td>0</td>\n",
              "      <td>0</td>\n",
              "      <td>0</td>\n",
              "      <td>0</td>\n",
              "      <td>0</td>\n",
              "      <td>0</td>\n",
              "      <td>0</td>\n",
              "      <td>0</td>\n",
              "      <td>0</td>\n",
              "      <td>0</td>\n",
              "      <td>0</td>\n",
              "      <td>0</td>\n",
              "      <td>37</td>\n",
              "      <td>69</td>\n",
              "      <td>94</td>\n",
              "      <td>123</td>\n",
              "      <td>127</td>\n",
              "      <td>138</td>\n",
              "      <td>138</td>\n",
              "      <td>142</td>\n",
              "      <td>145</td>\n",
              "      <td>135</td>\n",
              "      <td>125</td>\n",
              "      <td>103</td>\n",
              "      <td>87</td>\n",
              "      <td>56</td>\n",
              "      <td>0</td>\n",
              "      <td>0</td>\n",
              "      <td>0</td>\n",
              "      <td>0</td>\n",
              "      <td>0</td>\n",
              "      <td>0</td>\n",
              "      <td>0</td>\n",
              "    </tr>\n",
              "    <tr>\n",
              "      <th>1</th>\n",
              "      <td>1</td>\n",
              "      <td>0</td>\n",
              "      <td>0</td>\n",
              "      <td>0</td>\n",
              "      <td>0</td>\n",
              "      <td>0</td>\n",
              "      <td>0</td>\n",
              "      <td>0</td>\n",
              "      <td>0</td>\n",
              "      <td>0</td>\n",
              "      <td>0</td>\n",
              "      <td>0</td>\n",
              "      <td>209</td>\n",
              "      <td>190</td>\n",
              "      <td>181</td>\n",
              "      <td>150</td>\n",
              "      <td>170</td>\n",
              "      <td>193</td>\n",
              "      <td>180</td>\n",
              "      <td>219</td>\n",
              "      <td>5</td>\n",
              "      <td>0</td>\n",
              "      <td>0</td>\n",
              "      <td>0</td>\n",
              "      <td>0</td>\n",
              "      <td>0</td>\n",
              "      <td>0</td>\n",
              "      <td>0</td>\n",
              "      <td>0</td>\n",
              "      <td>0</td>\n",
              "      <td>0</td>\n",
              "      <td>0</td>\n",
              "      <td>0</td>\n",
              "      <td>0</td>\n",
              "      <td>0</td>\n",
              "      <td>0</td>\n",
              "      <td>0</td>\n",
              "      <td>0</td>\n",
              "      <td>0</td>\n",
              "      <td>24</td>\n",
              "      <td>...</td>\n",
              "      <td>248</td>\n",
              "      <td>238</td>\n",
              "      <td>80</td>\n",
              "      <td>0</td>\n",
              "      <td>0</td>\n",
              "      <td>0</td>\n",
              "      <td>0</td>\n",
              "      <td>0</td>\n",
              "      <td>0</td>\n",
              "      <td>0</td>\n",
              "      <td>0</td>\n",
              "      <td>0</td>\n",
              "      <td>0</td>\n",
              "      <td>0</td>\n",
              "      <td>0</td>\n",
              "      <td>0</td>\n",
              "      <td>0</td>\n",
              "      <td>0</td>\n",
              "      <td>0</td>\n",
              "      <td>0</td>\n",
              "      <td>0</td>\n",
              "      <td>0</td>\n",
              "      <td>0</td>\n",
              "      <td>174</td>\n",
              "      <td>233</td>\n",
              "      <td>155</td>\n",
              "      <td>0</td>\n",
              "      <td>65</td>\n",
              "      <td>235</td>\n",
              "      <td>216</td>\n",
              "      <td>34</td>\n",
              "      <td>0</td>\n",
              "      <td>0</td>\n",
              "      <td>0</td>\n",
              "      <td>0</td>\n",
              "      <td>0</td>\n",
              "      <td>0</td>\n",
              "      <td>0</td>\n",
              "      <td>0</td>\n",
              "      <td>0</td>\n",
              "    </tr>\n",
              "    <tr>\n",
              "      <th>2</th>\n",
              "      <td>2</td>\n",
              "      <td>0</td>\n",
              "      <td>0</td>\n",
              "      <td>0</td>\n",
              "      <td>0</td>\n",
              "      <td>0</td>\n",
              "      <td>0</td>\n",
              "      <td>14</td>\n",
              "      <td>53</td>\n",
              "      <td>99</td>\n",
              "      <td>17</td>\n",
              "      <td>0</td>\n",
              "      <td>0</td>\n",
              "      <td>0</td>\n",
              "      <td>0</td>\n",
              "      <td>0</td>\n",
              "      <td>0</td>\n",
              "      <td>0</td>\n",
              "      <td>0</td>\n",
              "      <td>12</td>\n",
              "      <td>94</td>\n",
              "      <td>68</td>\n",
              "      <td>14</td>\n",
              "      <td>0</td>\n",
              "      <td>0</td>\n",
              "      <td>0</td>\n",
              "      <td>0</td>\n",
              "      <td>0</td>\n",
              "      <td>0</td>\n",
              "      <td>0</td>\n",
              "      <td>0</td>\n",
              "      <td>0</td>\n",
              "      <td>0</td>\n",
              "      <td>0</td>\n",
              "      <td>38</td>\n",
              "      <td>106</td>\n",
              "      <td>94</td>\n",
              "      <td>89</td>\n",
              "      <td>94</td>\n",
              "      <td>68</td>\n",
              "      <td>...</td>\n",
              "      <td>0</td>\n",
              "      <td>0</td>\n",
              "      <td>0</td>\n",
              "      <td>0</td>\n",
              "      <td>0</td>\n",
              "      <td>0</td>\n",
              "      <td>87</td>\n",
              "      <td>12</td>\n",
              "      <td>26</td>\n",
              "      <td>0</td>\n",
              "      <td>0</td>\n",
              "      <td>0</td>\n",
              "      <td>0</td>\n",
              "      <td>0</td>\n",
              "      <td>0</td>\n",
              "      <td>0</td>\n",
              "      <td>46</td>\n",
              "      <td>50</td>\n",
              "      <td>29</td>\n",
              "      <td>0</td>\n",
              "      <td>2</td>\n",
              "      <td>0</td>\n",
              "      <td>0</td>\n",
              "      <td>0</td>\n",
              "      <td>0</td>\n",
              "      <td>0</td>\n",
              "      <td>0</td>\n",
              "      <td>0</td>\n",
              "      <td>0</td>\n",
              "      <td>0</td>\n",
              "      <td>0</td>\n",
              "      <td>0</td>\n",
              "      <td>0</td>\n",
              "      <td>0</td>\n",
              "      <td>63</td>\n",
              "      <td>53</td>\n",
              "      <td>31</td>\n",
              "      <td>0</td>\n",
              "      <td>0</td>\n",
              "      <td>0</td>\n",
              "    </tr>\n",
              "    <tr>\n",
              "      <th>3</th>\n",
              "      <td>2</td>\n",
              "      <td>0</td>\n",
              "      <td>0</td>\n",
              "      <td>0</td>\n",
              "      <td>0</td>\n",
              "      <td>0</td>\n",
              "      <td>0</td>\n",
              "      <td>0</td>\n",
              "      <td>0</td>\n",
              "      <td>0</td>\n",
              "      <td>161</td>\n",
              "      <td>212</td>\n",
              "      <td>138</td>\n",
              "      <td>150</td>\n",
              "      <td>169</td>\n",
              "      <td>164</td>\n",
              "      <td>176</td>\n",
              "      <td>202</td>\n",
              "      <td>255</td>\n",
              "      <td>183</td>\n",
              "      <td>26</td>\n",
              "      <td>0</td>\n",
              "      <td>0</td>\n",
              "      <td>0</td>\n",
              "      <td>0</td>\n",
              "      <td>0</td>\n",
              "      <td>0</td>\n",
              "      <td>0</td>\n",
              "      <td>0</td>\n",
              "      <td>0</td>\n",
              "      <td>0</td>\n",
              "      <td>0</td>\n",
              "      <td>1</td>\n",
              "      <td>0</td>\n",
              "      <td>0</td>\n",
              "      <td>129</td>\n",
              "      <td>221</td>\n",
              "      <td>255</td>\n",
              "      <td>255</td>\n",
              "      <td>215</td>\n",
              "      <td>...</td>\n",
              "      <td>255</td>\n",
              "      <td>255</td>\n",
              "      <td>254</td>\n",
              "      <td>252</td>\n",
              "      <td>255</td>\n",
              "      <td>101</td>\n",
              "      <td>196</td>\n",
              "      <td>254</td>\n",
              "      <td>252</td>\n",
              "      <td>100</td>\n",
              "      <td>0</td>\n",
              "      <td>0</td>\n",
              "      <td>0</td>\n",
              "      <td>0</td>\n",
              "      <td>0</td>\n",
              "      <td>168</td>\n",
              "      <td>232</td>\n",
              "      <td>225</td>\n",
              "      <td>0</td>\n",
              "      <td>41</td>\n",
              "      <td>172</td>\n",
              "      <td>147</td>\n",
              "      <td>148</td>\n",
              "      <td>153</td>\n",
              "      <td>155</td>\n",
              "      <td>146</td>\n",
              "      <td>137</td>\n",
              "      <td>141</td>\n",
              "      <td>143</td>\n",
              "      <td>137</td>\n",
              "      <td>137</td>\n",
              "      <td>126</td>\n",
              "      <td>140</td>\n",
              "      <td>0</td>\n",
              "      <td>133</td>\n",
              "      <td>224</td>\n",
              "      <td>222</td>\n",
              "      <td>56</td>\n",
              "      <td>0</td>\n",
              "      <td>0</td>\n",
              "    </tr>\n",
              "    <tr>\n",
              "      <th>4</th>\n",
              "      <td>3</td>\n",
              "      <td>0</td>\n",
              "      <td>0</td>\n",
              "      <td>0</td>\n",
              "      <td>0</td>\n",
              "      <td>0</td>\n",
              "      <td>0</td>\n",
              "      <td>0</td>\n",
              "      <td>0</td>\n",
              "      <td>0</td>\n",
              "      <td>0</td>\n",
              "      <td>37</td>\n",
              "      <td>0</td>\n",
              "      <td>0</td>\n",
              "      <td>0</td>\n",
              "      <td>0</td>\n",
              "      <td>0</td>\n",
              "      <td>0</td>\n",
              "      <td>17</td>\n",
              "      <td>0</td>\n",
              "      <td>0</td>\n",
              "      <td>0</td>\n",
              "      <td>0</td>\n",
              "      <td>0</td>\n",
              "      <td>0</td>\n",
              "      <td>0</td>\n",
              "      <td>0</td>\n",
              "      <td>0</td>\n",
              "      <td>0</td>\n",
              "      <td>0</td>\n",
              "      <td>0</td>\n",
              "      <td>0</td>\n",
              "      <td>0</td>\n",
              "      <td>0</td>\n",
              "      <td>0</td>\n",
              "      <td>0</td>\n",
              "      <td>0</td>\n",
              "      <td>21</td>\n",
              "      <td>204</td>\n",
              "      <td>235</td>\n",
              "      <td>...</td>\n",
              "      <td>0</td>\n",
              "      <td>2</td>\n",
              "      <td>0</td>\n",
              "      <td>0</td>\n",
              "      <td>0</td>\n",
              "      <td>0</td>\n",
              "      <td>0</td>\n",
              "      <td>0</td>\n",
              "      <td>0</td>\n",
              "      <td>0</td>\n",
              "      <td>0</td>\n",
              "      <td>0</td>\n",
              "      <td>0</td>\n",
              "      <td>0</td>\n",
              "      <td>0</td>\n",
              "      <td>0</td>\n",
              "      <td>0</td>\n",
              "      <td>0</td>\n",
              "      <td>0</td>\n",
              "      <td>0</td>\n",
              "      <td>0</td>\n",
              "      <td>0</td>\n",
              "      <td>0</td>\n",
              "      <td>0</td>\n",
              "      <td>1</td>\n",
              "      <td>0</td>\n",
              "      <td>2</td>\n",
              "      <td>69</td>\n",
              "      <td>0</td>\n",
              "      <td>2</td>\n",
              "      <td>0</td>\n",
              "      <td>0</td>\n",
              "      <td>0</td>\n",
              "      <td>0</td>\n",
              "      <td>0</td>\n",
              "      <td>0</td>\n",
              "      <td>0</td>\n",
              "      <td>0</td>\n",
              "      <td>0</td>\n",
              "      <td>0</td>\n",
              "    </tr>\n",
              "  </tbody>\n",
              "</table>\n",
              "<p>5 rows × 785 columns</p>\n",
              "</div>"
            ],
            "text/plain": [
              "   label  pixel1  pixel2  pixel3  ...  pixel781  pixel782  pixel783  pixel784\n",
              "0      0       0       0       0  ...         0         0         0         0\n",
              "1      1       0       0       0  ...         0         0         0         0\n",
              "2      2       0       0       0  ...        31         0         0         0\n",
              "3      2       0       0       0  ...       222        56         0         0\n",
              "4      3       0       0       0  ...         0         0         0         0\n",
              "\n",
              "[5 rows x 785 columns]"
            ]
          },
          "metadata": {
            "tags": []
          },
          "execution_count": 11
        }
      ]
    },
    {
      "cell_type": "code",
      "metadata": {
        "id": "Dy1FtHEmhKKD",
        "colab_type": "code",
        "outputId": "80e1bd8f-4b87-4354-848c-cfee66ea5c0e",
        "colab": {
          "base_uri": "https://localhost:8080/",
          "height": 34
        }
      },
      "source": [
        "data_train.shape, data_test.shape"
      ],
      "execution_count": 12,
      "outputs": [
        {
          "output_type": "execute_result",
          "data": {
            "text/plain": [
              "((60000, 785), (10000, 785))"
            ]
          },
          "metadata": {
            "tags": []
          },
          "execution_count": 12
        }
      ]
    },
    {
      "cell_type": "markdown",
      "metadata": {
        "id": "71eJ9GL9eGxR",
        "colab_type": "text"
      },
      "source": [
        "### 2. Pre-processing data\n",
        "> ##### a  \n",
        "Images and labels"
      ]
    },
    {
      "cell_type": "code",
      "metadata": {
        "id": "T8BzIWONdWQG",
        "colab_type": "code",
        "colab": {}
      },
      "source": [
        "from keras.utils import to_categorical\n",
        "# X = training images, y =training labels\n",
        " \n",
        "X = np.array(data_train.iloc[:,1:])\n",
        "y = to_categorical(np.array(data_train.iloc[:,0]))\n",
        "\n",
        "# X_test = test images, y_test = test labels\n",
        "X_test = np.array(data_test.iloc[:, 1:])\n",
        "y_test = to_categorical(np.array(data_test.iloc[:, 0]))"
      ],
      "execution_count": 0,
      "outputs": []
    },
    {
      "cell_type": "markdown",
      "metadata": {
        "id": "GOClxicte5ol",
        "colab_type": "text"
      },
      "source": [
        ">note:\n",
        "1. iloc returns a Pandas Series when one row is selected, and a Pandas DataFrame when multiple rows are selected, or if any column in full is selected.\n",
        "2. One hot encoding is applied on y, y_test using to_categorical() which is avail with in the keras.utils( tensorflow backend)."
      ]
    },
    {
      "cell_type": "code",
      "metadata": {
        "id": "ttcEFgdNe0ZL",
        "colab_type": "code",
        "outputId": "2ea1e9f5-2620-4ee7-e2fd-3b31a5ff9943",
        "colab": {
          "base_uri": "https://localhost:8080/",
          "height": 0
        }
      },
      "source": [
        "# look at the shape of the dataframes\n",
        "X.shape, X_test.shape, y.shape, y_test.shape"
      ],
      "execution_count": 14,
      "outputs": [
        {
          "output_type": "execute_result",
          "data": {
            "text/plain": [
              "((60000, 784), (10000, 784), (60000, 10), (10000, 10))"
            ]
          },
          "metadata": {
            "tags": []
          },
          "execution_count": 14
        }
      ]
    },
    {
      "cell_type": "markdown",
      "metadata": {
        "id": "Z1eKGbq9hU-D",
        "colab_type": "text"
      },
      "source": [
        "> ##### b\n",
        " The images of the fashionMNIST are black and white, while the required input for VGG19 must be colored image. Thus covert the images into colored one with 3 channes R, G, B."
      ]
    },
    {
      "cell_type": "code",
      "metadata": {
        "id": "77_kiAeyg16Z",
        "colab_type": "code",
        "outputId": "65518550-0841-4fec-8029-526fac87c4ae",
        "colab": {
          "base_uri": "https://localhost:8080/",
          "height": 0
        }
      },
      "source": [
        "X = np.dstack([X] * 3)\n",
        "X_test = np.dstack([X_test] * 3)\n",
        "\n",
        "X.shape, X_test.shape"
      ],
      "execution_count": 15,
      "outputs": [
        {
          "output_type": "execute_result",
          "data": {
            "text/plain": [
              "((60000, 784, 3), (10000, 784, 3))"
            ]
          },
          "metadata": {
            "tags": []
          },
          "execution_count": 15
        }
      ]
    },
    {
      "cell_type": "markdown",
      "metadata": {
        "id": "FwfAS8cPpADf",
        "colab_type": "text"
      },
      "source": [
        "> ##### c\n",
        "Reshape the images into tensor format as required by TensoFlow"
      ]
    },
    {
      "cell_type": "code",
      "metadata": {
        "id": "Mwne-Poko-Rn",
        "colab_type": "code",
        "outputId": "df9595a5-1c40-4636-ade5-8a389be30aa0",
        "colab": {
          "base_uri": "https://localhost:8080/",
          "height": 0
        }
      },
      "source": [
        "X = X.reshape(-1, 28, 28, 3)\n",
        "X_test = X_test.reshape(-1, 28, 28, 3)\n",
        "\n",
        "X.shape, X_test.shape"
      ],
      "execution_count": 16,
      "outputs": [
        {
          "output_type": "execute_result",
          "data": {
            "text/plain": [
              "((60000, 28, 28, 3), (10000, 28, 28, 3))"
            ]
          },
          "metadata": {
            "tags": []
          },
          "execution_count": 16
        }
      ]
    },
    {
      "cell_type": "markdown",
      "metadata": {
        "id": "IVD-PixvprnO",
        "colab_type": "text"
      },
      "source": [
        "> ##### d\n",
        "VGG19 requires min input image's width and height of 48."
      ]
    },
    {
      "cell_type": "code",
      "metadata": {
        "id": "uJ1T-F6eiZbG",
        "colab_type": "code",
        "outputId": "1305978e-9b8b-49ef-aee1-d1562488ed5d",
        "colab": {
          "base_uri": "https://localhost:8080/",
          "height": 0
        }
      },
      "source": [
        "\n",
        "from keras.preprocessing.image import img_to_array, array_to_img\n",
        "\n",
        "X = np.asarray([img_to_array(array_to_img(im, scale=False).resize((48,48))) for im in X])\n",
        "X_test = np.asarray([img_to_array(array_to_img(im, scale=False).resize((48,48))) for im in X_test])\n",
        "\n",
        "X.shape, X_test.shape"
      ],
      "execution_count": 17,
      "outputs": [
        {
          "output_type": "execute_result",
          "data": {
            "text/plain": [
              "((60000, 48, 48, 3), (10000, 48, 48, 3))"
            ]
          },
          "metadata": {
            "tags": []
          },
          "execution_count": 17
        }
      ]
    },
    {
      "cell_type": "markdown",
      "metadata": {
        "id": "M-zsJhe2txYO",
        "colab_type": "text"
      },
      "source": [
        "> ##### e\n",
        "pre-process the images by reshaping and scaling them so that all values are in the [0, 1] interval."
      ]
    },
    {
      "cell_type": "code",
      "metadata": {
        "id": "CTZnffRrtC0J",
        "colab_type": "code",
        "colab": {}
      },
      "source": [
        "X = X.astype('float32')\n",
        "X /= 255\n",
        "\n",
        "X_test = X_test.astype('float32')\n",
        "X_test /= 255"
      ],
      "execution_count": 0,
      "outputs": []
    },
    {
      "cell_type": "markdown",
      "metadata": {
        "id": "J6jvkFNwVpCI",
        "colab_type": "text"
      },
      "source": [
        "### 3. Split the data\n",
        "> The original training data (60k images) is split into 80% of training(48k images) and 20% of validation (12k images), to finally evaluate the accuracy of the model on the data it has never seen. This helps to see whether overfitting the training data or not?. Whether i should lower the learning rate and train more epochs if validation accuracy is higher than traning accuracy or stop over-training if training accuracy shift higher than the validation. \n"
      ]
    },
    {
      "cell_type": "code",
      "metadata": {
        "id": "bkTN8VmXVfi7",
        "colab_type": "code",
        "outputId": "82b7856d-a438-45e6-abcb-3839872df0b6",
        "colab": {
          "base_uri": "https://localhost:8080/",
          "height": 0
        }
      },
      "source": [
        "from sklearn.model_selection import train_test_split\n",
        "\n",
        "X_train, X_val, y_train, y_val = train_test_split(X, y, test_size =  0.2, random_state = 50)\n",
        "\n",
        "X_train.shape, X_val.shape, y_train.shape, y_val.shape"
      ],
      "execution_count": 19,
      "outputs": [
        {
          "output_type": "execute_result",
          "data": {
            "text/plain": [
              "((48000, 48, 48, 3), (12000, 48, 48, 3), (48000, 10), (12000, 10))"
            ]
          },
          "metadata": {
            "tags": []
          },
          "execution_count": 19
        }
      ]
    },
    {
      "cell_type": "markdown",
      "metadata": {
        "id": "O6aaJnLGZEfL",
        "colab_type": "text"
      },
      "source": [
        "### 4. VGG16"
      ]
    },
    {
      "cell_type": "code",
      "metadata": {
        "id": "7EkFj5fuYmtL",
        "colab_type": "code",
        "colab": {}
      },
      "source": [
        "from keras.applications import VGG16\n",
        "\n",
        "vgg16 = VGG16(weights = 'imagenet', include_top = False, input_shape = (48,48,3), classes = 10)"
      ],
      "execution_count": 0,
      "outputs": []
    },
    {
      "cell_type": "markdown",
      "metadata": {
        "id": "gBLY8oVlZ9_3",
        "colab_type": "text"
      },
      "source": [
        "> note: Passed arguments are\n",
        "1. weights specifies the weeight checkpoint fromwhich to intitialize the model.\n",
        "2. include_top  refers to including(or not) the densely connected classifier on top of the network. By default, this densely connected classifer corresponds to the 1000 classes from ImageNet. As in this were are different densely connected classifier with only 10 classes, so no need to include it\n",
        "3. input_shape(optional), only to be included if include_top is false\n",
        "4. classes(optional), no of classes to classify images."
      ]
    },
    {
      "cell_type": "code",
      "metadata": {
        "id": "6aT2i5_eYtVh",
        "colab_type": "code",
        "outputId": "c6f73159-ba55-4c30-b2ba-210684f05027",
        "colab": {
          "base_uri": "https://localhost:8080/",
          "height": 799
        }
      },
      "source": [
        "vgg16.summary()"
      ],
      "execution_count": 21,
      "outputs": [
        {
          "output_type": "stream",
          "text": [
            "Model: \"vgg16\"\n",
            "_________________________________________________________________\n",
            "Layer (type)                 Output Shape              Param #   \n",
            "=================================================================\n",
            "input_2 (InputLayer)         (None, 48, 48, 3)         0         \n",
            "_________________________________________________________________\n",
            "block1_conv1 (Conv2D)        (None, 48, 48, 64)        1792      \n",
            "_________________________________________________________________\n",
            "block1_conv2 (Conv2D)        (None, 48, 48, 64)        36928     \n",
            "_________________________________________________________________\n",
            "block1_pool (MaxPooling2D)   (None, 24, 24, 64)        0         \n",
            "_________________________________________________________________\n",
            "block2_conv1 (Conv2D)        (None, 24, 24, 128)       73856     \n",
            "_________________________________________________________________\n",
            "block2_conv2 (Conv2D)        (None, 24, 24, 128)       147584    \n",
            "_________________________________________________________________\n",
            "block2_pool (MaxPooling2D)   (None, 12, 12, 128)       0         \n",
            "_________________________________________________________________\n",
            "block3_conv1 (Conv2D)        (None, 12, 12, 256)       295168    \n",
            "_________________________________________________________________\n",
            "block3_conv2 (Conv2D)        (None, 12, 12, 256)       590080    \n",
            "_________________________________________________________________\n",
            "block3_conv3 (Conv2D)        (None, 12, 12, 256)       590080    \n",
            "_________________________________________________________________\n",
            "block3_pool (MaxPooling2D)   (None, 6, 6, 256)         0         \n",
            "_________________________________________________________________\n",
            "block4_conv1 (Conv2D)        (None, 6, 6, 512)         1180160   \n",
            "_________________________________________________________________\n",
            "block4_conv2 (Conv2D)        (None, 6, 6, 512)         2359808   \n",
            "_________________________________________________________________\n",
            "block4_conv3 (Conv2D)        (None, 6, 6, 512)         2359808   \n",
            "_________________________________________________________________\n",
            "block4_pool (MaxPooling2D)   (None, 3, 3, 512)         0         \n",
            "_________________________________________________________________\n",
            "block5_conv1 (Conv2D)        (None, 3, 3, 512)         2359808   \n",
            "_________________________________________________________________\n",
            "block5_conv2 (Conv2D)        (None, 3, 3, 512)         2359808   \n",
            "_________________________________________________________________\n",
            "block5_conv3 (Conv2D)        (None, 3, 3, 512)         2359808   \n",
            "_________________________________________________________________\n",
            "block5_pool (MaxPooling2D)   (None, 1, 1, 512)         0         \n",
            "=================================================================\n",
            "Total params: 14,714,688\n",
            "Trainable params: 14,714,688\n",
            "Non-trainable params: 0\n",
            "_________________________________________________________________\n"
          ],
          "name": "stdout"
        }
      ]
    },
    {
      "cell_type": "markdown",
      "metadata": {
        "id": "QqxZqf53bfOP",
        "colab_type": "text"
      },
      "source": [
        "### 5. Feature extraction\n",
        "> feature extraction consists of represetations learned by a previous network to extract interesting features from new samples. These features are then run through a new classifier, which is trained from scratch.\n",
        "\n",
        "> CNNs used for image classification comprise two parts; \n",
        "1. start with a series of pooling and convolution layers(CONVOLUTIONAL BASE)\n",
        "2. end with a densely connected classifer.\n",
        "\n",
        "> In case of covnets, 'feature extraction' will simply consist of taking the convolutional base of previously trained network, running the new data through it and training a new classifier on top of the output.\n",
        "\n",
        "> why only reuse the convolutional base? could we reuse the densely connected classifier as well? In general, it should be avoided. The reason is simple that the representations learned by the convolutional base are likely to be more generic(common) and therfore more reusable, the feature maps of a covnet are presence maps of generic(common) concpets over a picture which is likely useful regardless of the problem.\n",
        "\n",
        ">Representaations learned by the classifier will necessarily be very specific to the set of classes that the model was trained on, they will only contain information abou the presence probability of a class in the entire picture. Aditionally representations found in densely connected layers no longer contan any information about where objects are located in the input image, these layers get rid of the notion of space, whereas the object locaton is still described by convolutional feature maps. For objects where object location matters, densely connected features woulld be useless.\n",
        "\n",
        "\n"
      ]
    },
    {
      "cell_type": "code",
      "metadata": {
        "id": "3WKSUswZbevA",
        "colab_type": "code",
        "colab": {}
      },
      "source": [
        "from keras.applications.vgg16 import preprocess_input\n",
        "\n",
        "#pre processing the input\n",
        "X_train = preprocess_input(X_train)\n",
        "X_val = preprocess_input(X_val)\n",
        "X_test = preprocess_input(X_test)"
      ],
      "execution_count": 0,
      "outputs": []
    },
    {
      "cell_type": "markdown",
      "metadata": {
        "id": "0aICHO5qhc84",
        "colab_type": "text"
      },
      "source": [
        "\n",
        ">Now inorder to extract features from the FashionMNIST data:\n",
        "1. Run the convolutional base over the dataset\n",
        "2. Record its output to a numpy array on disk\n",
        "3. Use this data as input to a standalone densely connected classifer."
      ]
    },
    {
      "cell_type": "code",
      "metadata": {
        "id": "KYgH8TcAf46V",
        "colab_type": "code",
        "outputId": "1faf6b8f-6f39-421f-86d3-eb80da1a89f3",
        "colab": {
          "base_uri": "https://localhost:8080/",
          "height": 68
        }
      },
      "source": [
        "# feature extraction\n",
        "\n",
        "train_features = vgg16.predict(np.array(X_train), batch_size = 256, verbose =1)\n",
        "val_features = vgg16.predict(np.array(X_val), batch_size = 256, verbose =1)\n",
        "test_features = vgg16.predict(np.array(X_test), batch_size = 256, verbose =1)\n"
      ],
      "execution_count": 23,
      "outputs": [
        {
          "output_type": "stream",
          "text": [
            "48000/48000 [==============================] - 32s 661us/step\n",
            "12000/12000 [==============================] - 7s 613us/step\n",
            "10000/10000 [==============================] - 5s 527us/step\n"
          ],
          "name": "stdout"
        }
      ]
    },
    {
      "cell_type": "code",
      "metadata": {
        "id": "0pedokIqiujM",
        "colab_type": "code",
        "outputId": "ccb8d2d4-33b0-4a87-c3e4-9d785f89bdc5",
        "colab": {
          "base_uri": "https://localhost:8080/",
          "height": 34
        }
      },
      "source": [
        "# shape of features\n",
        "\n",
        "train_features.shape, val_features.shape, test_features.shape "
      ],
      "execution_count": 24,
      "outputs": [
        {
          "output_type": "execute_result",
          "data": {
            "text/plain": [
              "((48000, 1, 1, 512), (12000, 1, 1, 512), (10000, 1, 1, 512))"
            ]
          },
          "metadata": {
            "tags": []
          },
          "execution_count": 24
        }
      ]
    },
    {
      "cell_type": "markdown",
      "metadata": {
        "id": "P_-Dtqdwj1jP",
        "colab_type": "text"
      },
      "source": [
        "> note: The extracted featires are currently of shape (samples, 1, 1, 512). \n",
        "\n",
        ">Feed them to a densely connected classifer, before that flatten them."
      ]
    },
    {
      "cell_type": "code",
      "metadata": {
        "id": "TuH5okRij0q7",
        "colab_type": "code",
        "outputId": "8c08d079-b242-48de-f3a0-8bd7f677d78d",
        "colab": {
          "base_uri": "https://localhost:8080/",
          "height": 34
        }
      },
      "source": [
        "# flatten extracted features\n",
        "\n",
        "train_features = np.reshape(train_features, (48000, 1*1*512))\n",
        "val_features = np.reshape(val_features, (12000, 1*1*512))\n",
        "test_features = np.reshape(test_features, (10000, 1*1*512))\n",
        "\n",
        "# shape of features\n",
        "\n",
        "train_features.shape, val_features.shape, test_features.shape "
      ],
      "execution_count": 25,
      "outputs": [
        {
          "output_type": "execute_result",
          "data": {
            "text/plain": [
              "((48000, 512), (12000, 512), (10000, 512))"
            ]
          },
          "metadata": {
            "tags": []
          },
          "execution_count": 25
        }
      ]
    },
    {
      "cell_type": "markdown",
      "metadata": {
        "id": "NcH1Fc68k7x5",
        "colab_type": "text"
      },
      "source": [
        "> Define desenly connected classifer"
      ]
    },
    {
      "cell_type": "code",
      "metadata": {
        "id": "SpKE9PxnjYAt",
        "colab_type": "code",
        "colab": {}
      },
      "source": [
        "from keras.layers import Dense, Dropout\n",
        "from keras.models import Model\n",
        "from keras import models\n",
        "from keras import layers\n",
        "from keras import optimizers\n",
        "\n",
        "# adding Dense and Dropout layers on top of VGG16\n",
        "\n",
        "model = models.Sequential()\n",
        "model.add(layers.Dense(4096, activation = 'relu', input_dim = 1*1*512))\n",
        "model.add(layers.Dropout(0.5))\n",
        "model.add(layers.Dense(10, activation = 'softmax'))"
      ],
      "execution_count": 0,
      "outputs": []
    },
    {
      "cell_type": "markdown",
      "metadata": {
        "id": "UT4Qx7g-mEPE",
        "colab_type": "text"
      },
      "source": [
        "> note: To prevent overfitting, dropout reeguarization is processed between fully-connected layers. In prediction block 4096 channels are divided into 10 classes using softmax activation function"
      ]
    },
    {
      "cell_type": "code",
      "metadata": {
        "id": "bJZAHHsmmDtE",
        "colab_type": "code",
        "colab": {}
      },
      "source": [
        "import keras\n",
        "\n",
        "#compile the model\n",
        "\n",
        "model.compile(loss = keras.losses.categorical_crossentropy,\n",
        "              optimizer = keras.optimizers.Adam(),\n",
        "              metrics = ['accuracy'])"
      ],
      "execution_count": 0,
      "outputs": []
    },
    {
      "cell_type": "markdown",
      "metadata": {
        "id": "fJ1-XGabm1S4",
        "colab_type": "text"
      },
      "source": [
        "> note:  When compiling the model, I choose categorical_crossentropy as the loss function (which is relevent for multiclass, single-label classification problem) and Adam optimizer.\n",
        "1. The cross-entropy loss calculates the error rate between the predicted value and the original value. Categorical is used because there are 10 classes to predict from. If there were 2 classes we can use binary_crossentropy.\n",
        "2. The Adam optimizer is an improvement over SGD(Stochastic Gradient Descent). The optimizer is responsible for updating the weights of the neurons via backpropagation. It calculates the derivative of the loss function with respect to each weight and subtracts it from the weight.\n"
      ]
    },
    {
      "cell_type": "markdown",
      "metadata": {
        "id": "anv9Rke9nVlr",
        "colab_type": "text"
      },
      "source": [
        "### 6. Train the model "
      ]
    },
    {
      "cell_type": "code",
      "metadata": {
        "id": "DKvX1R8Nl-Lr",
        "colab_type": "code",
        "outputId": "30a25841-8bc1-44a2-846b-4b7fa6fa2691",
        "colab": {
          "base_uri": "https://localhost:8080/",
          "height": 1000
        }
      },
      "source": [
        "history = model.fit(train_features, y_train, batch_size = 256, epochs = 100, verbose = 1, validation_data=(val_features, y_val))"
      ],
      "execution_count": 28,
      "outputs": [
        {
          "output_type": "stream",
          "text": [
            "Train on 48000 samples, validate on 12000 samples\n",
            "Epoch 1/100\n",
            "48000/48000 [==============================] - 2s 37us/step - loss: 2.0704 - accuracy: 0.3418 - val_loss: 1.3495 - val_accuracy: 0.4966\n",
            "Epoch 2/100\n",
            "48000/48000 [==============================] - 2s 34us/step - loss: 1.2993 - accuracy: 0.5180 - val_loss: 1.1662 - val_accuracy: 0.5872\n",
            "Epoch 3/100\n",
            "48000/48000 [==============================] - 2s 33us/step - loss: 1.1620 - accuracy: 0.5768 - val_loss: 1.0759 - val_accuracy: 0.6133\n",
            "Epoch 4/100\n",
            "48000/48000 [==============================] - 2s 33us/step - loss: 1.1025 - accuracy: 0.5942 - val_loss: 1.0301 - val_accuracy: 0.6325\n",
            "Epoch 5/100\n",
            "48000/48000 [==============================] - 2s 33us/step - loss: 1.0483 - accuracy: 0.6160 - val_loss: 0.9792 - val_accuracy: 0.6562\n",
            "Epoch 6/100\n",
            "48000/48000 [==============================] - 2s 33us/step - loss: 1.0203 - accuracy: 0.6270 - val_loss: 0.9656 - val_accuracy: 0.6616\n",
            "Epoch 7/100\n",
            "48000/48000 [==============================] - 2s 33us/step - loss: 0.9938 - accuracy: 0.6379 - val_loss: 0.9407 - val_accuracy: 0.6634\n",
            "Epoch 8/100\n",
            "48000/48000 [==============================] - 2s 33us/step - loss: 0.9756 - accuracy: 0.6455 - val_loss: 0.9261 - val_accuracy: 0.6597\n",
            "Epoch 9/100\n",
            "48000/48000 [==============================] - 2s 33us/step - loss: 0.9699 - accuracy: 0.6473 - val_loss: 0.9179 - val_accuracy: 0.6640\n",
            "Epoch 10/100\n",
            "48000/48000 [==============================] - 2s 33us/step - loss: 0.9597 - accuracy: 0.6482 - val_loss: 0.8954 - val_accuracy: 0.6802\n",
            "Epoch 11/100\n",
            "48000/48000 [==============================] - 2s 33us/step - loss: 0.9454 - accuracy: 0.6551 - val_loss: 0.8998 - val_accuracy: 0.6727\n",
            "Epoch 12/100\n",
            "48000/48000 [==============================] - 2s 33us/step - loss: 0.9365 - accuracy: 0.6578 - val_loss: 0.8887 - val_accuracy: 0.6741\n",
            "Epoch 13/100\n",
            "48000/48000 [==============================] - 2s 33us/step - loss: 0.9268 - accuracy: 0.6604 - val_loss: 0.8920 - val_accuracy: 0.6705\n",
            "Epoch 14/100\n",
            "48000/48000 [==============================] - 2s 33us/step - loss: 0.9229 - accuracy: 0.6635 - val_loss: 0.8721 - val_accuracy: 0.6828\n",
            "Epoch 15/100\n",
            "48000/48000 [==============================] - 2s 33us/step - loss: 0.9139 - accuracy: 0.6646 - val_loss: 0.8925 - val_accuracy: 0.6808\n",
            "Epoch 16/100\n",
            "48000/48000 [==============================] - 2s 33us/step - loss: 0.9220 - accuracy: 0.6636 - val_loss: 0.8509 - val_accuracy: 0.6923\n",
            "Epoch 17/100\n",
            "48000/48000 [==============================] - 2s 33us/step - loss: 0.9117 - accuracy: 0.6691 - val_loss: 0.8796 - val_accuracy: 0.6707\n",
            "Epoch 18/100\n",
            "48000/48000 [==============================] - 2s 33us/step - loss: 0.9155 - accuracy: 0.6650 - val_loss: 0.8615 - val_accuracy: 0.6928\n",
            "Epoch 19/100\n",
            "48000/48000 [==============================] - 2s 33us/step - loss: 0.9014 - accuracy: 0.6726 - val_loss: 0.8542 - val_accuracy: 0.6846\n",
            "Epoch 20/100\n",
            "48000/48000 [==============================] - 2s 33us/step - loss: 0.9021 - accuracy: 0.6715 - val_loss: 0.8324 - val_accuracy: 0.6988\n",
            "Epoch 21/100\n",
            "48000/48000 [==============================] - 2s 33us/step - loss: 0.8910 - accuracy: 0.6752 - val_loss: 0.8327 - val_accuracy: 0.6940\n",
            "Epoch 22/100\n",
            "48000/48000 [==============================] - 2s 33us/step - loss: 0.9002 - accuracy: 0.6727 - val_loss: 0.8393 - val_accuracy: 0.6960\n",
            "Epoch 23/100\n",
            "48000/48000 [==============================] - 2s 33us/step - loss: 0.8994 - accuracy: 0.6714 - val_loss: 0.8403 - val_accuracy: 0.6948\n",
            "Epoch 24/100\n",
            "48000/48000 [==============================] - 2s 33us/step - loss: 0.8969 - accuracy: 0.6727 - val_loss: 0.8262 - val_accuracy: 0.7009\n",
            "Epoch 25/100\n",
            "48000/48000 [==============================] - 2s 33us/step - loss: 0.8896 - accuracy: 0.6779 - val_loss: 0.8269 - val_accuracy: 0.7038\n",
            "Epoch 26/100\n",
            "48000/48000 [==============================] - 2s 33us/step - loss: 0.8930 - accuracy: 0.6756 - val_loss: 0.8306 - val_accuracy: 0.6967\n",
            "Epoch 27/100\n",
            "48000/48000 [==============================] - 2s 33us/step - loss: 0.8877 - accuracy: 0.6764 - val_loss: 0.8350 - val_accuracy: 0.6922\n",
            "Epoch 28/100\n",
            "48000/48000 [==============================] - 2s 33us/step - loss: 0.8907 - accuracy: 0.6771 - val_loss: 0.8362 - val_accuracy: 0.6962\n",
            "Epoch 29/100\n",
            "48000/48000 [==============================] - 2s 33us/step - loss: 0.8806 - accuracy: 0.6805 - val_loss: 0.8354 - val_accuracy: 0.6917\n",
            "Epoch 30/100\n",
            "48000/48000 [==============================] - 2s 33us/step - loss: 0.8789 - accuracy: 0.6819 - val_loss: 0.8120 - val_accuracy: 0.7064\n",
            "Epoch 31/100\n",
            "48000/48000 [==============================] - 2s 33us/step - loss: 0.8790 - accuracy: 0.6811 - val_loss: 0.8117 - val_accuracy: 0.7087\n",
            "Epoch 32/100\n",
            "48000/48000 [==============================] - 2s 33us/step - loss: 0.8738 - accuracy: 0.6818 - val_loss: 0.8175 - val_accuracy: 0.7009\n",
            "Epoch 33/100\n",
            "48000/48000 [==============================] - 2s 33us/step - loss: 0.8725 - accuracy: 0.6839 - val_loss: 0.8167 - val_accuracy: 0.7042\n",
            "Epoch 34/100\n",
            "48000/48000 [==============================] - 2s 33us/step - loss: 0.8752 - accuracy: 0.6837 - val_loss: 0.8086 - val_accuracy: 0.7014\n",
            "Epoch 35/100\n",
            "48000/48000 [==============================] - 2s 33us/step - loss: 0.8726 - accuracy: 0.6844 - val_loss: 0.7941 - val_accuracy: 0.7114\n",
            "Epoch 36/100\n",
            "48000/48000 [==============================] - 2s 34us/step - loss: 0.8702 - accuracy: 0.6808 - val_loss: 0.8065 - val_accuracy: 0.7069\n",
            "Epoch 37/100\n",
            "48000/48000 [==============================] - 2s 33us/step - loss: 0.8739 - accuracy: 0.6851 - val_loss: 0.8169 - val_accuracy: 0.6962\n",
            "Epoch 38/100\n",
            "48000/48000 [==============================] - 2s 33us/step - loss: 0.8700 - accuracy: 0.6871 - val_loss: 0.8093 - val_accuracy: 0.7072\n",
            "Epoch 39/100\n",
            "48000/48000 [==============================] - 2s 33us/step - loss: 0.8730 - accuracy: 0.6849 - val_loss: 0.8142 - val_accuracy: 0.6995\n",
            "Epoch 40/100\n",
            "48000/48000 [==============================] - 2s 33us/step - loss: 0.8723 - accuracy: 0.6841 - val_loss: 0.7915 - val_accuracy: 0.7097\n",
            "Epoch 41/100\n",
            "48000/48000 [==============================] - 2s 33us/step - loss: 0.8753 - accuracy: 0.6828 - val_loss: 0.7957 - val_accuracy: 0.7103\n",
            "Epoch 42/100\n",
            "48000/48000 [==============================] - 2s 35us/step - loss: 0.8711 - accuracy: 0.6873 - val_loss: 0.7893 - val_accuracy: 0.7122\n",
            "Epoch 43/100\n",
            "48000/48000 [==============================] - 2s 35us/step - loss: 0.8697 - accuracy: 0.6882 - val_loss: 0.7902 - val_accuracy: 0.7138\n",
            "Epoch 44/100\n",
            "48000/48000 [==============================] - 2s 35us/step - loss: 0.8692 - accuracy: 0.6830 - val_loss: 0.7992 - val_accuracy: 0.7093\n",
            "Epoch 45/100\n",
            "48000/48000 [==============================] - 2s 36us/step - loss: 0.8683 - accuracy: 0.6890 - val_loss: 0.7940 - val_accuracy: 0.7075\n",
            "Epoch 46/100\n",
            "48000/48000 [==============================] - 2s 36us/step - loss: 0.8655 - accuracy: 0.6883 - val_loss: 0.7991 - val_accuracy: 0.7076\n",
            "Epoch 47/100\n",
            "48000/48000 [==============================] - 2s 35us/step - loss: 0.8639 - accuracy: 0.6885 - val_loss: 0.7758 - val_accuracy: 0.7122\n",
            "Epoch 48/100\n",
            "48000/48000 [==============================] - 2s 34us/step - loss: 0.8605 - accuracy: 0.6900 - val_loss: 0.7816 - val_accuracy: 0.7148\n",
            "Epoch 49/100\n",
            "48000/48000 [==============================] - 2s 34us/step - loss: 0.8738 - accuracy: 0.6818 - val_loss: 0.7976 - val_accuracy: 0.7017\n",
            "Epoch 50/100\n",
            "48000/48000 [==============================] - 2s 33us/step - loss: 0.8691 - accuracy: 0.6861 - val_loss: 0.7860 - val_accuracy: 0.7132\n",
            "Epoch 51/100\n",
            "48000/48000 [==============================] - 2s 34us/step - loss: 0.8634 - accuracy: 0.6870 - val_loss: 0.8054 - val_accuracy: 0.7052\n",
            "Epoch 52/100\n",
            "48000/48000 [==============================] - 2s 34us/step - loss: 0.8567 - accuracy: 0.6908 - val_loss: 0.7798 - val_accuracy: 0.7179\n",
            "Epoch 53/100\n",
            "48000/48000 [==============================] - 2s 35us/step - loss: 0.8601 - accuracy: 0.6893 - val_loss: 0.7760 - val_accuracy: 0.7161\n",
            "Epoch 54/100\n",
            "48000/48000 [==============================] - 2s 34us/step - loss: 0.8668 - accuracy: 0.6875 - val_loss: 0.7744 - val_accuracy: 0.7158\n",
            "Epoch 55/100\n",
            "48000/48000 [==============================] - 2s 34us/step - loss: 0.8652 - accuracy: 0.6877 - val_loss: 0.8035 - val_accuracy: 0.7101\n",
            "Epoch 56/100\n",
            "48000/48000 [==============================] - 2s 34us/step - loss: 0.8577 - accuracy: 0.6907 - val_loss: 0.7764 - val_accuracy: 0.7168\n",
            "Epoch 57/100\n",
            "48000/48000 [==============================] - 2s 34us/step - loss: 0.8586 - accuracy: 0.6919 - val_loss: 0.7634 - val_accuracy: 0.7227\n",
            "Epoch 58/100\n",
            "48000/48000 [==============================] - 2s 34us/step - loss: 0.8529 - accuracy: 0.6927 - val_loss: 0.7804 - val_accuracy: 0.7193\n",
            "Epoch 59/100\n",
            "48000/48000 [==============================] - 2s 34us/step - loss: 0.8630 - accuracy: 0.6880 - val_loss: 0.7747 - val_accuracy: 0.7157\n",
            "Epoch 60/100\n",
            "48000/48000 [==============================] - 2s 34us/step - loss: 0.8603 - accuracy: 0.6901 - val_loss: 0.7719 - val_accuracy: 0.7163\n",
            "Epoch 61/100\n",
            "48000/48000 [==============================] - 2s 34us/step - loss: 0.8582 - accuracy: 0.6924 - val_loss: 0.7698 - val_accuracy: 0.7153\n",
            "Epoch 62/100\n",
            "48000/48000 [==============================] - 2s 34us/step - loss: 0.8583 - accuracy: 0.6916 - val_loss: 0.7807 - val_accuracy: 0.7143\n",
            "Epoch 63/100\n",
            "48000/48000 [==============================] - 2s 34us/step - loss: 0.8572 - accuracy: 0.6911 - val_loss: 0.7700 - val_accuracy: 0.7182\n",
            "Epoch 64/100\n",
            "48000/48000 [==============================] - 2s 34us/step - loss: 0.8534 - accuracy: 0.6941 - val_loss: 0.7810 - val_accuracy: 0.7132\n",
            "Epoch 65/100\n",
            "48000/48000 [==============================] - 2s 34us/step - loss: 0.8605 - accuracy: 0.6893 - val_loss: 0.7804 - val_accuracy: 0.7177\n",
            "Epoch 66/100\n",
            "48000/48000 [==============================] - 2s 34us/step - loss: 0.8564 - accuracy: 0.6931 - val_loss: 0.7734 - val_accuracy: 0.7127\n",
            "Epoch 67/100\n",
            "48000/48000 [==============================] - 2s 34us/step - loss: 0.8547 - accuracy: 0.6932 - val_loss: 0.7641 - val_accuracy: 0.7202\n",
            "Epoch 68/100\n",
            "48000/48000 [==============================] - 2s 34us/step - loss: 0.8603 - accuracy: 0.6903 - val_loss: 0.7703 - val_accuracy: 0.7178\n",
            "Epoch 69/100\n",
            "48000/48000 [==============================] - 2s 34us/step - loss: 0.8543 - accuracy: 0.6935 - val_loss: 0.7656 - val_accuracy: 0.7157\n",
            "Epoch 70/100\n",
            "48000/48000 [==============================] - 2s 34us/step - loss: 0.8461 - accuracy: 0.6946 - val_loss: 0.7676 - val_accuracy: 0.7212\n",
            "Epoch 71/100\n",
            "48000/48000 [==============================] - 2s 34us/step - loss: 0.8533 - accuracy: 0.6950 - val_loss: 0.7583 - val_accuracy: 0.7219\n",
            "Epoch 72/100\n",
            "48000/48000 [==============================] - 2s 34us/step - loss: 0.8573 - accuracy: 0.6898 - val_loss: 0.7551 - val_accuracy: 0.7194\n",
            "Epoch 73/100\n",
            "48000/48000 [==============================] - 2s 34us/step - loss: 0.8563 - accuracy: 0.6910 - val_loss: 0.7600 - val_accuracy: 0.7203\n",
            "Epoch 74/100\n",
            "48000/48000 [==============================] - 2s 34us/step - loss: 0.8609 - accuracy: 0.6892 - val_loss: 0.7622 - val_accuracy: 0.7187\n",
            "Epoch 75/100\n",
            "48000/48000 [==============================] - 2s 34us/step - loss: 0.8561 - accuracy: 0.6923 - val_loss: 0.7896 - val_accuracy: 0.7096\n",
            "Epoch 76/100\n",
            "48000/48000 [==============================] - 2s 34us/step - loss: 0.8577 - accuracy: 0.6908 - val_loss: 0.7734 - val_accuracy: 0.7137\n",
            "Epoch 77/100\n",
            "48000/48000 [==============================] - 2s 34us/step - loss: 0.8647 - accuracy: 0.6866 - val_loss: 0.7720 - val_accuracy: 0.7207\n",
            "Epoch 78/100\n",
            "48000/48000 [==============================] - 2s 34us/step - loss: 0.8610 - accuracy: 0.6898 - val_loss: 0.7594 - val_accuracy: 0.7233\n",
            "Epoch 79/100\n",
            "48000/48000 [==============================] - 2s 34us/step - loss: 0.8620 - accuracy: 0.6910 - val_loss: 0.7770 - val_accuracy: 0.7151\n",
            "Epoch 80/100\n",
            "48000/48000 [==============================] - 2s 34us/step - loss: 0.8572 - accuracy: 0.6919 - val_loss: 0.7729 - val_accuracy: 0.7157\n",
            "Epoch 81/100\n",
            "48000/48000 [==============================] - 2s 34us/step - loss: 0.8620 - accuracy: 0.6878 - val_loss: 0.7630 - val_accuracy: 0.7206\n",
            "Epoch 82/100\n",
            "48000/48000 [==============================] - 2s 34us/step - loss: 0.8581 - accuracy: 0.6910 - val_loss: 0.7636 - val_accuracy: 0.7193\n",
            "Epoch 83/100\n",
            "48000/48000 [==============================] - 2s 34us/step - loss: 0.8532 - accuracy: 0.6936 - val_loss: 0.7519 - val_accuracy: 0.7272\n",
            "Epoch 84/100\n",
            "48000/48000 [==============================] - 2s 34us/step - loss: 0.8551 - accuracy: 0.6930 - val_loss: 0.7772 - val_accuracy: 0.7159\n",
            "Epoch 85/100\n",
            "48000/48000 [==============================] - 2s 33us/step - loss: 0.8624 - accuracy: 0.6917 - val_loss: 0.7694 - val_accuracy: 0.7187\n",
            "Epoch 86/100\n",
            "48000/48000 [==============================] - 2s 34us/step - loss: 0.8656 - accuracy: 0.6908 - val_loss: 0.7698 - val_accuracy: 0.7197\n",
            "Epoch 87/100\n",
            "48000/48000 [==============================] - 2s 34us/step - loss: 0.8646 - accuracy: 0.6894 - val_loss: 0.7554 - val_accuracy: 0.7238\n",
            "Epoch 88/100\n",
            "48000/48000 [==============================] - 2s 34us/step - loss: 0.8588 - accuracy: 0.6897 - val_loss: 0.7656 - val_accuracy: 0.7218\n",
            "Epoch 89/100\n",
            "48000/48000 [==============================] - 2s 33us/step - loss: 0.8527 - accuracy: 0.6944 - val_loss: 0.7697 - val_accuracy: 0.7186\n",
            "Epoch 90/100\n",
            "48000/48000 [==============================] - 2s 34us/step - loss: 0.8566 - accuracy: 0.6926 - val_loss: 0.7598 - val_accuracy: 0.7220\n",
            "Epoch 91/100\n",
            "48000/48000 [==============================] - 2s 34us/step - loss: 0.8581 - accuracy: 0.6909 - val_loss: 0.7590 - val_accuracy: 0.7188\n",
            "Epoch 92/100\n",
            "48000/48000 [==============================] - 2s 34us/step - loss: 0.8482 - accuracy: 0.6939 - val_loss: 0.7549 - val_accuracy: 0.7211\n",
            "Epoch 93/100\n",
            "48000/48000 [==============================] - 2s 34us/step - loss: 0.8498 - accuracy: 0.6956 - val_loss: 0.7759 - val_accuracy: 0.7138\n",
            "Epoch 94/100\n",
            "48000/48000 [==============================] - 2s 34us/step - loss: 0.8506 - accuracy: 0.6930 - val_loss: 0.7556 - val_accuracy: 0.7210\n",
            "Epoch 95/100\n",
            "48000/48000 [==============================] - 2s 34us/step - loss: 0.8472 - accuracy: 0.6934 - val_loss: 0.7726 - val_accuracy: 0.7158\n",
            "Epoch 96/100\n",
            "48000/48000 [==============================] - 2s 34us/step - loss: 0.8525 - accuracy: 0.6951 - val_loss: 0.7474 - val_accuracy: 0.7285\n",
            "Epoch 97/100\n",
            "48000/48000 [==============================] - 2s 34us/step - loss: 0.8544 - accuracy: 0.6927 - val_loss: 0.7502 - val_accuracy: 0.7201\n",
            "Epoch 98/100\n",
            "48000/48000 [==============================] - 2s 34us/step - loss: 0.8518 - accuracy: 0.6926 - val_loss: 0.7685 - val_accuracy: 0.7188\n",
            "Epoch 99/100\n",
            "48000/48000 [==============================] - 2s 34us/step - loss: 0.8559 - accuracy: 0.6913 - val_loss: 0.7606 - val_accuracy: 0.7131\n",
            "Epoch 100/100\n",
            "48000/48000 [==============================] - 2s 34us/step - loss: 0.8556 - accuracy: 0.6922 - val_loss: 0.7521 - val_accuracy: 0.7193\n"
          ],
          "name": "stdout"
        }
      ]
    },
    {
      "cell_type": "code",
      "metadata": {
        "id": "xgMGH-4Gt8fi",
        "colab_type": "code",
        "outputId": "1a0125e8-ea49-4157-9556-515ba4cbe8b8",
        "colab": {
          "base_uri": "https://localhost:8080/",
          "height": 51
        }
      },
      "source": [
        "score = model.evaluate(test_features, y_test, verbose = 0)\n",
        "print('Test loss:',score[0])\n",
        "print('Test accuracy:',score[1])"
      ],
      "execution_count": 29,
      "outputs": [
        {
          "output_type": "stream",
          "text": [
            "Test loss: 0.7405637618064881\n",
            "Test accuracy: 0.7346000075340271\n"
          ],
          "name": "stdout"
        }
      ]
    },
    {
      "cell_type": "markdown",
      "metadata": {
        "id": "RtTcaZ5Kugtm",
        "colab_type": "text"
      },
      "source": [
        "### 7. Results\n"
      ]
    },
    {
      "cell_type": "code",
      "metadata": {
        "id": "BoDuzQ5mui2k",
        "colab_type": "code",
        "outputId": "656218b9-f6ff-4c69-a89a-9f55adeaf2fa",
        "colab": {
          "base_uri": "https://localhost:8080/",
          "height": 545
        }
      },
      "source": [
        "# plot the loss and accuracy\n",
        "\n",
        "import matplotlib.pyplot as plt\n",
        "%matplotlib inline\n",
        "\n",
        "accuracy = history.history['accuracy']\n",
        "val_accuracy = history.history['val_accuracy']\n",
        "loss = history.history['loss']\n",
        "val_loss = history.history['val_loss']\n",
        "epochs = range(1, len(accuracy)+1)\n",
        "\n",
        "plt.title('Training and validation accuracy')\n",
        "plt.plot(epochs, accuracy, 'red', label='Training accuracy')\n",
        "plt.plot(epochs, val_accuracy, 'blue', label='Validation accuracy')\n",
        "plt.legend()\n",
        "\n",
        "plt.figure()\n",
        "plt.title('Training and validation loss')\n",
        "plt.plot(epochs, loss, 'red', label='Training loss')\n",
        "plt.plot(epochs, val_loss, 'blue', label='Validation loss')\n",
        "\n",
        "plt.legend()\n",
        "\n",
        "plt.show()"
      ],
      "execution_count": 30,
      "outputs": [
        {
          "output_type": "display_data",
          "data": {
            "image/png": "[encoded data removed]",
            "text/plain": [
              "<Figure size 432x288 with 1 Axes>"
            ]
          },
          "metadata": {
            "tags": [],
            "needs_background": "light"
          }
        },
        {
          "output_type": "display_data",
          "data": {
            "image/png": "[encoded data removed]",
            "text/plain": [
              "<Figure size 432x288 with 1 Axes>"
            ]
          },
          "metadata": {
            "tags": [],
            "needs_background": "light"
          }
        }
      ]
    }
  ]
}