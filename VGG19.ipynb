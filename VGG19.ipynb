{
  "nbformat": 4,
  "nbformat_minor": 0,
  "metadata": {
    "colab": {
      "name": "VGG19.ipynb",
      "provenance": [],
      "collapsed_sections": [
        "tVGoQZUBcq3b",
        "71eJ9GL9eGxR",
        "J6jvkFNwVpCI"
      ],
      "mount_file_id": "1mpGlczm5M8KvMrrcMuaeKnteT9XmWp9k",
      "authorship_tag": "ABX9TyMPs5Zp3pTRxlG35Cek5+Jd",
      "include_colab_link": true
    },
    "kernelspec": {
      "name": "python3",
      "display_name": "Python 3"
    },
    "accelerator": "GPU"
  },
  "cells": [
    {
      "cell_type": "markdown",
      "metadata": {
        "id": "view-in-github",
        "colab_type": "text"
      },
      "source": [
        "<a href=\"https://colab.research.google.com/github/AdicherlaVenkataSai/Hierarichal-Convolutional-Neural-Network-for-fashion-Image-Classification/blob/master/VGG19.ipynb\" target=\"_parent\"><img src=\"https://colab.research.google.com/assets/colab-badge.svg\" alt=\"Open In Colab\"/></a>"
      ]
    },
    {
      "cell_type": "markdown",
      "metadata": {
        "id": "_eduqjrXbo33",
        "colab_type": "text"
      },
      "source": [
        "# Implementing VGGNET-19 on FashioMNIST \n",
        "\n",
        ">FashionMNIST is a dataset consists of a training set of 60,000 examples and a test set of 10,000 examples. Each example is a 28*28 grayscale images, associated with a lable from 10 classes.\n",
        "\n",
        "In this work, the pre-trained model VGG19."
      ]
    },
    {
      "cell_type": "markdown",
      "metadata": {
        "id": "XPWgV1z4d19R",
        "colab_type": "text"
      },
      "source": [
        "Requirements:\n",
        ">1. google colab(GPU)\n",
        "2. dataset(fashion MNIST)"
      ]
    },
    {
      "cell_type": "markdown",
      "metadata": {
        "id": "tVGoQZUBcq3b",
        "colab_type": "text"
      },
      "source": [
        "### 1. load data"
      ]
    },
    {
      "cell_type": "code",
      "metadata": {
        "id": "LufyJJYNbanX",
        "colab_type": "code",
        "colab": {}
      },
      "source": [
        "import numpy as np\n",
        "import pandas as pd\n",
        "\n",
        "\n",
        "data_train = pd.read_csv('drive/My Drive/dataset/fashion-mnist_train.csv')\n",
        "data_test = pd.read_csv('drive/My Drive/dataset/fashion-mnist_test.csv')"
      ],
      "execution_count": 0,
      "outputs": []
    },
    {
      "cell_type": "markdown",
      "metadata": {
        "id": "yDIm7RKldadf",
        "colab_type": "text"
      },
      "source": [
        ">note:\n",
        "1. I have loaded .csv files of fashionMNIST dataset from the google drive.\n",
        "2. While executing kindly adjust the path accordingly."
      ]
    },
    {
      "cell_type": "code",
      "metadata": {
        "id": "-6G3yZIChDOa",
        "colab_type": "code",
        "outputId": "19f1b4a9-cbc9-4932-8fe1-a7a5cf8522fc",
        "colab": {
          "base_uri": "https://localhost:8080/"
        }
      },
      "source": [
        "data_train.head()"
      ],
      "execution_count": 0,
      "outputs": [
        {
          "output_type": "execute_result",
          "data": {
            "text/html": [
              "<div>\n",
              "<style scoped>\n",
              "    .dataframe tbody tr th:only-of-type {\n",
              "        vertical-align: middle;\n",
              "    }\n",
              "\n",
              "    .dataframe tbody tr th {\n",
              "        vertical-align: top;\n",
              "    }\n",
              "\n",
              "    .dataframe thead th {\n",
              "        text-align: right;\n",
              "    }\n",
              "</style>\n",
              "<table border=\"1\" class=\"dataframe\">\n",
              "  <thead>\n",
              "    <tr style=\"text-align: right;\">\n",
              "      <th></th>\n",
              "      <th>label</th>\n",
              "      <th>pixel1</th>\n",
              "      <th>pixel2</th>\n",
              "      <th>pixel3</th>\n",
              "      <th>pixel4</th>\n",
              "      <th>pixel5</th>\n",
              "      <th>pixel6</th>\n",
              "      <th>pixel7</th>\n",
              "      <th>pixel8</th>\n",
              "      <th>pixel9</th>\n",
              "      <th>pixel10</th>\n",
              "      <th>pixel11</th>\n",
              "      <th>pixel12</th>\n",
              "      <th>pixel13</th>\n",
              "      <th>pixel14</th>\n",
              "      <th>pixel15</th>\n",
              "      <th>pixel16</th>\n",
              "      <th>pixel17</th>\n",
              "      <th>pixel18</th>\n",
              "      <th>pixel19</th>\n",
              "      <th>pixel20</th>\n",
              "      <th>pixel21</th>\n",
              "      <th>pixel22</th>\n",
              "      <th>pixel23</th>\n",
              "      <th>pixel24</th>\n",
              "      <th>pixel25</th>\n",
              "      <th>pixel26</th>\n",
              "      <th>pixel27</th>\n",
              "      <th>pixel28</th>\n",
              "      <th>pixel29</th>\n",
              "      <th>pixel30</th>\n",
              "      <th>pixel31</th>\n",
              "      <th>pixel32</th>\n",
              "      <th>pixel33</th>\n",
              "      <th>pixel34</th>\n",
              "      <th>pixel35</th>\n",
              "      <th>pixel36</th>\n",
              "      <th>pixel37</th>\n",
              "      <th>pixel38</th>\n",
              "      <th>pixel39</th>\n",
              "      <th>...</th>\n",
              "      <th>pixel745</th>\n",
              "      <th>pixel746</th>\n",
              "      <th>pixel747</th>\n",
              "      <th>pixel748</th>\n",
              "      <th>pixel749</th>\n",
              "      <th>pixel750</th>\n",
              "      <th>pixel751</th>\n",
              "      <th>pixel752</th>\n",
              "      <th>pixel753</th>\n",
              "      <th>pixel754</th>\n",
              "      <th>pixel755</th>\n",
              "      <th>pixel756</th>\n",
              "      <th>pixel757</th>\n",
              "      <th>pixel758</th>\n",
              "      <th>pixel759</th>\n",
              "      <th>pixel760</th>\n",
              "      <th>pixel761</th>\n",
              "      <th>pixel762</th>\n",
              "      <th>pixel763</th>\n",
              "      <th>pixel764</th>\n",
              "      <th>pixel765</th>\n",
              "      <th>pixel766</th>\n",
              "      <th>pixel767</th>\n",
              "      <th>pixel768</th>\n",
              "      <th>pixel769</th>\n",
              "      <th>pixel770</th>\n",
              "      <th>pixel771</th>\n",
              "      <th>pixel772</th>\n",
              "      <th>pixel773</th>\n",
              "      <th>pixel774</th>\n",
              "      <th>pixel775</th>\n",
              "      <th>pixel776</th>\n",
              "      <th>pixel777</th>\n",
              "      <th>pixel778</th>\n",
              "      <th>pixel779</th>\n",
              "      <th>pixel780</th>\n",
              "      <th>pixel781</th>\n",
              "      <th>pixel782</th>\n",
              "      <th>pixel783</th>\n",
              "      <th>pixel784</th>\n",
              "    </tr>\n",
              "  </thead>\n",
              "  <tbody>\n",
              "    <tr>\n",
              "      <th>0</th>\n",
              "      <td>2</td>\n",
              "      <td>0</td>\n",
              "      <td>0</td>\n",
              "      <td>0</td>\n",
              "      <td>0</td>\n",
              "      <td>0</td>\n",
              "      <td>0</td>\n",
              "      <td>0</td>\n",
              "      <td>0</td>\n",
              "      <td>0</td>\n",
              "      <td>0</td>\n",
              "      <td>0</td>\n",
              "      <td>0</td>\n",
              "      <td>0</td>\n",
              "      <td>0</td>\n",
              "      <td>0</td>\n",
              "      <td>0</td>\n",
              "      <td>0</td>\n",
              "      <td>0</td>\n",
              "      <td>0</td>\n",
              "      <td>0</td>\n",
              "      <td>0</td>\n",
              "      <td>0</td>\n",
              "      <td>0</td>\n",
              "      <td>0</td>\n",
              "      <td>0</td>\n",
              "      <td>0</td>\n",
              "      <td>0</td>\n",
              "      <td>0</td>\n",
              "      <td>0</td>\n",
              "      <td>0</td>\n",
              "      <td>0</td>\n",
              "      <td>0</td>\n",
              "      <td>0</td>\n",
              "      <td>0</td>\n",
              "      <td>0</td>\n",
              "      <td>0</td>\n",
              "      <td>0</td>\n",
              "      <td>0</td>\n",
              "      <td>0</td>\n",
              "      <td>...</td>\n",
              "      <td>0</td>\n",
              "      <td>0</td>\n",
              "      <td>0</td>\n",
              "      <td>0</td>\n",
              "      <td>0</td>\n",
              "      <td>0</td>\n",
              "      <td>0</td>\n",
              "      <td>0</td>\n",
              "      <td>0</td>\n",
              "      <td>0</td>\n",
              "      <td>0</td>\n",
              "      <td>0</td>\n",
              "      <td>0</td>\n",
              "      <td>0</td>\n",
              "      <td>0</td>\n",
              "      <td>0</td>\n",
              "      <td>0</td>\n",
              "      <td>0</td>\n",
              "      <td>0</td>\n",
              "      <td>0</td>\n",
              "      <td>0</td>\n",
              "      <td>0</td>\n",
              "      <td>0</td>\n",
              "      <td>0</td>\n",
              "      <td>0</td>\n",
              "      <td>0</td>\n",
              "      <td>0</td>\n",
              "      <td>0</td>\n",
              "      <td>0</td>\n",
              "      <td>0</td>\n",
              "      <td>0</td>\n",
              "      <td>0</td>\n",
              "      <td>0</td>\n",
              "      <td>0</td>\n",
              "      <td>0</td>\n",
              "      <td>0</td>\n",
              "      <td>0</td>\n",
              "      <td>0</td>\n",
              "      <td>0</td>\n",
              "      <td>0</td>\n",
              "    </tr>\n",
              "    <tr>\n",
              "      <th>1</th>\n",
              "      <td>9</td>\n",
              "      <td>0</td>\n",
              "      <td>0</td>\n",
              "      <td>0</td>\n",
              "      <td>0</td>\n",
              "      <td>0</td>\n",
              "      <td>0</td>\n",
              "      <td>0</td>\n",
              "      <td>0</td>\n",
              "      <td>0</td>\n",
              "      <td>0</td>\n",
              "      <td>0</td>\n",
              "      <td>0</td>\n",
              "      <td>0</td>\n",
              "      <td>0</td>\n",
              "      <td>0</td>\n",
              "      <td>0</td>\n",
              "      <td>0</td>\n",
              "      <td>0</td>\n",
              "      <td>0</td>\n",
              "      <td>0</td>\n",
              "      <td>0</td>\n",
              "      <td>0</td>\n",
              "      <td>0</td>\n",
              "      <td>0</td>\n",
              "      <td>0</td>\n",
              "      <td>0</td>\n",
              "      <td>0</td>\n",
              "      <td>0</td>\n",
              "      <td>0</td>\n",
              "      <td>0</td>\n",
              "      <td>0</td>\n",
              "      <td>0</td>\n",
              "      <td>0</td>\n",
              "      <td>0</td>\n",
              "      <td>0</td>\n",
              "      <td>0</td>\n",
              "      <td>0</td>\n",
              "      <td>0</td>\n",
              "      <td>0</td>\n",
              "      <td>...</td>\n",
              "      <td>0</td>\n",
              "      <td>0</td>\n",
              "      <td>0</td>\n",
              "      <td>0</td>\n",
              "      <td>0</td>\n",
              "      <td>0</td>\n",
              "      <td>0</td>\n",
              "      <td>0</td>\n",
              "      <td>0</td>\n",
              "      <td>0</td>\n",
              "      <td>0</td>\n",
              "      <td>0</td>\n",
              "      <td>0</td>\n",
              "      <td>0</td>\n",
              "      <td>0</td>\n",
              "      <td>0</td>\n",
              "      <td>0</td>\n",
              "      <td>0</td>\n",
              "      <td>0</td>\n",
              "      <td>0</td>\n",
              "      <td>0</td>\n",
              "      <td>0</td>\n",
              "      <td>0</td>\n",
              "      <td>0</td>\n",
              "      <td>0</td>\n",
              "      <td>0</td>\n",
              "      <td>0</td>\n",
              "      <td>0</td>\n",
              "      <td>0</td>\n",
              "      <td>0</td>\n",
              "      <td>0</td>\n",
              "      <td>0</td>\n",
              "      <td>0</td>\n",
              "      <td>0</td>\n",
              "      <td>0</td>\n",
              "      <td>0</td>\n",
              "      <td>0</td>\n",
              "      <td>0</td>\n",
              "      <td>0</td>\n",
              "      <td>0</td>\n",
              "    </tr>\n",
              "    <tr>\n",
              "      <th>2</th>\n",
              "      <td>6</td>\n",
              "      <td>0</td>\n",
              "      <td>0</td>\n",
              "      <td>0</td>\n",
              "      <td>0</td>\n",
              "      <td>0</td>\n",
              "      <td>0</td>\n",
              "      <td>0</td>\n",
              "      <td>5</td>\n",
              "      <td>0</td>\n",
              "      <td>0</td>\n",
              "      <td>0</td>\n",
              "      <td>105</td>\n",
              "      <td>92</td>\n",
              "      <td>101</td>\n",
              "      <td>107</td>\n",
              "      <td>100</td>\n",
              "      <td>132</td>\n",
              "      <td>0</td>\n",
              "      <td>0</td>\n",
              "      <td>2</td>\n",
              "      <td>4</td>\n",
              "      <td>0</td>\n",
              "      <td>1</td>\n",
              "      <td>0</td>\n",
              "      <td>0</td>\n",
              "      <td>0</td>\n",
              "      <td>0</td>\n",
              "      <td>0</td>\n",
              "      <td>0</td>\n",
              "      <td>0</td>\n",
              "      <td>0</td>\n",
              "      <td>0</td>\n",
              "      <td>0</td>\n",
              "      <td>0</td>\n",
              "      <td>0</td>\n",
              "      <td>0</td>\n",
              "      <td>0</td>\n",
              "      <td>0</td>\n",
              "      <td>150</td>\n",
              "      <td>...</td>\n",
              "      <td>211</td>\n",
              "      <td>220</td>\n",
              "      <td>214</td>\n",
              "      <td>74</td>\n",
              "      <td>0</td>\n",
              "      <td>255</td>\n",
              "      <td>222</td>\n",
              "      <td>128</td>\n",
              "      <td>0</td>\n",
              "      <td>0</td>\n",
              "      <td>0</td>\n",
              "      <td>0</td>\n",
              "      <td>0</td>\n",
              "      <td>0</td>\n",
              "      <td>0</td>\n",
              "      <td>0</td>\n",
              "      <td>0</td>\n",
              "      <td>44</td>\n",
              "      <td>12</td>\n",
              "      <td>0</td>\n",
              "      <td>0</td>\n",
              "      <td>40</td>\n",
              "      <td>134</td>\n",
              "      <td>162</td>\n",
              "      <td>191</td>\n",
              "      <td>214</td>\n",
              "      <td>163</td>\n",
              "      <td>146</td>\n",
              "      <td>165</td>\n",
              "      <td>79</td>\n",
              "      <td>0</td>\n",
              "      <td>0</td>\n",
              "      <td>0</td>\n",
              "      <td>30</td>\n",
              "      <td>43</td>\n",
              "      <td>0</td>\n",
              "      <td>0</td>\n",
              "      <td>0</td>\n",
              "      <td>0</td>\n",
              "      <td>0</td>\n",
              "    </tr>\n",
              "    <tr>\n",
              "      <th>3</th>\n",
              "      <td>0</td>\n",
              "      <td>0</td>\n",
              "      <td>0</td>\n",
              "      <td>0</td>\n",
              "      <td>1</td>\n",
              "      <td>2</td>\n",
              "      <td>0</td>\n",
              "      <td>0</td>\n",
              "      <td>0</td>\n",
              "      <td>0</td>\n",
              "      <td>0</td>\n",
              "      <td>114</td>\n",
              "      <td>183</td>\n",
              "      <td>112</td>\n",
              "      <td>55</td>\n",
              "      <td>23</td>\n",
              "      <td>72</td>\n",
              "      <td>102</td>\n",
              "      <td>165</td>\n",
              "      <td>160</td>\n",
              "      <td>28</td>\n",
              "      <td>0</td>\n",
              "      <td>0</td>\n",
              "      <td>0</td>\n",
              "      <td>1</td>\n",
              "      <td>0</td>\n",
              "      <td>0</td>\n",
              "      <td>0</td>\n",
              "      <td>0</td>\n",
              "      <td>0</td>\n",
              "      <td>0</td>\n",
              "      <td>0</td>\n",
              "      <td>0</td>\n",
              "      <td>1</td>\n",
              "      <td>0</td>\n",
              "      <td>0</td>\n",
              "      <td>24</td>\n",
              "      <td>188</td>\n",
              "      <td>163</td>\n",
              "      <td>93</td>\n",
              "      <td>...</td>\n",
              "      <td>171</td>\n",
              "      <td>249</td>\n",
              "      <td>207</td>\n",
              "      <td>197</td>\n",
              "      <td>202</td>\n",
              "      <td>45</td>\n",
              "      <td>0</td>\n",
              "      <td>3</td>\n",
              "      <td>0</td>\n",
              "      <td>0</td>\n",
              "      <td>0</td>\n",
              "      <td>0</td>\n",
              "      <td>0</td>\n",
              "      <td>0</td>\n",
              "      <td>0</td>\n",
              "      <td>0</td>\n",
              "      <td>0</td>\n",
              "      <td>0</td>\n",
              "      <td>1</td>\n",
              "      <td>0</td>\n",
              "      <td>0</td>\n",
              "      <td>0</td>\n",
              "      <td>22</td>\n",
              "      <td>21</td>\n",
              "      <td>25</td>\n",
              "      <td>69</td>\n",
              "      <td>52</td>\n",
              "      <td>45</td>\n",
              "      <td>74</td>\n",
              "      <td>39</td>\n",
              "      <td>3</td>\n",
              "      <td>0</td>\n",
              "      <td>0</td>\n",
              "      <td>0</td>\n",
              "      <td>0</td>\n",
              "      <td>1</td>\n",
              "      <td>0</td>\n",
              "      <td>0</td>\n",
              "      <td>0</td>\n",
              "      <td>0</td>\n",
              "    </tr>\n",
              "    <tr>\n",
              "      <th>4</th>\n",
              "      <td>3</td>\n",
              "      <td>0</td>\n",
              "      <td>0</td>\n",
              "      <td>0</td>\n",
              "      <td>0</td>\n",
              "      <td>0</td>\n",
              "      <td>0</td>\n",
              "      <td>0</td>\n",
              "      <td>0</td>\n",
              "      <td>0</td>\n",
              "      <td>0</td>\n",
              "      <td>0</td>\n",
              "      <td>0</td>\n",
              "      <td>46</td>\n",
              "      <td>0</td>\n",
              "      <td>21</td>\n",
              "      <td>68</td>\n",
              "      <td>0</td>\n",
              "      <td>0</td>\n",
              "      <td>0</td>\n",
              "      <td>0</td>\n",
              "      <td>0</td>\n",
              "      <td>0</td>\n",
              "      <td>0</td>\n",
              "      <td>0</td>\n",
              "      <td>0</td>\n",
              "      <td>0</td>\n",
              "      <td>0</td>\n",
              "      <td>0</td>\n",
              "      <td>0</td>\n",
              "      <td>0</td>\n",
              "      <td>0</td>\n",
              "      <td>0</td>\n",
              "      <td>0</td>\n",
              "      <td>0</td>\n",
              "      <td>0</td>\n",
              "      <td>0</td>\n",
              "      <td>25</td>\n",
              "      <td>187</td>\n",
              "      <td>189</td>\n",
              "      <td>...</td>\n",
              "      <td>230</td>\n",
              "      <td>237</td>\n",
              "      <td>229</td>\n",
              "      <td>0</td>\n",
              "      <td>0</td>\n",
              "      <td>1</td>\n",
              "      <td>0</td>\n",
              "      <td>0</td>\n",
              "      <td>0</td>\n",
              "      <td>0</td>\n",
              "      <td>0</td>\n",
              "      <td>0</td>\n",
              "      <td>0</td>\n",
              "      <td>0</td>\n",
              "      <td>0</td>\n",
              "      <td>0</td>\n",
              "      <td>0</td>\n",
              "      <td>0</td>\n",
              "      <td>0</td>\n",
              "      <td>0</td>\n",
              "      <td>0</td>\n",
              "      <td>68</td>\n",
              "      <td>116</td>\n",
              "      <td>112</td>\n",
              "      <td>136</td>\n",
              "      <td>147</td>\n",
              "      <td>144</td>\n",
              "      <td>121</td>\n",
              "      <td>102</td>\n",
              "      <td>63</td>\n",
              "      <td>0</td>\n",
              "      <td>0</td>\n",
              "      <td>0</td>\n",
              "      <td>0</td>\n",
              "      <td>0</td>\n",
              "      <td>0</td>\n",
              "      <td>0</td>\n",
              "      <td>0</td>\n",
              "      <td>0</td>\n",
              "      <td>0</td>\n",
              "    </tr>\n",
              "  </tbody>\n",
              "</table>\n",
              "<p>5 rows × 785 columns</p>\n",
              "</div>"
            ],
            "text/plain": [
              "   label  pixel1  pixel2  pixel3  ...  pixel781  pixel782  pixel783  pixel784\n",
              "0      2       0       0       0  ...         0         0         0         0\n",
              "1      9       0       0       0  ...         0         0         0         0\n",
              "2      6       0       0       0  ...         0         0         0         0\n",
              "3      0       0       0       0  ...         0         0         0         0\n",
              "4      3       0       0       0  ...         0         0         0         0\n",
              "\n",
              "[5 rows x 785 columns]"
            ]
          },
          "metadata": {
            "tags": []
          },
          "execution_count": 73
        }
      ]
    },
    {
      "cell_type": "code",
      "metadata": {
        "id": "moQOp74ahGdD",
        "colab_type": "code",
        "outputId": "1b789af4-97a9-4cb8-f830-5215495562fc",
        "colab": {
          "base_uri": "https://localhost:8080/"
        }
      },
      "source": [
        "data_test.head()"
      ],
      "execution_count": 0,
      "outputs": [
        {
          "output_type": "execute_result",
          "data": {
            "text/html": [
              "<div>\n",
              "<style scoped>\n",
              "    .dataframe tbody tr th:only-of-type {\n",
              "        vertical-align: middle;\n",
              "    }\n",
              "\n",
              "    .dataframe tbody tr th {\n",
              "        vertical-align: top;\n",
              "    }\n",
              "\n",
              "    .dataframe thead th {\n",
              "        text-align: right;\n",
              "    }\n",
              "</style>\n",
              "<table border=\"1\" class=\"dataframe\">\n",
              "  <thead>\n",
              "    <tr style=\"text-align: right;\">\n",
              "      <th></th>\n",
              "      <th>label</th>\n",
              "      <th>pixel1</th>\n",
              "      <th>pixel2</th>\n",
              "      <th>pixel3</th>\n",
              "      <th>pixel4</th>\n",
              "      <th>pixel5</th>\n",
              "      <th>pixel6</th>\n",
              "      <th>pixel7</th>\n",
              "      <th>pixel8</th>\n",
              "      <th>pixel9</th>\n",
              "      <th>pixel10</th>\n",
              "      <th>pixel11</th>\n",
              "      <th>pixel12</th>\n",
              "      <th>pixel13</th>\n",
              "      <th>pixel14</th>\n",
              "      <th>pixel15</th>\n",
              "      <th>pixel16</th>\n",
              "      <th>pixel17</th>\n",
              "      <th>pixel18</th>\n",
              "      <th>pixel19</th>\n",
              "      <th>pixel20</th>\n",
              "      <th>pixel21</th>\n",
              "      <th>pixel22</th>\n",
              "      <th>pixel23</th>\n",
              "      <th>pixel24</th>\n",
              "      <th>pixel25</th>\n",
              "      <th>pixel26</th>\n",
              "      <th>pixel27</th>\n",
              "      <th>pixel28</th>\n",
              "      <th>pixel29</th>\n",
              "      <th>pixel30</th>\n",
              "      <th>pixel31</th>\n",
              "      <th>pixel32</th>\n",
              "      <th>pixel33</th>\n",
              "      <th>pixel34</th>\n",
              "      <th>pixel35</th>\n",
              "      <th>pixel36</th>\n",
              "      <th>pixel37</th>\n",
              "      <th>pixel38</th>\n",
              "      <th>pixel39</th>\n",
              "      <th>...</th>\n",
              "      <th>pixel745</th>\n",
              "      <th>pixel746</th>\n",
              "      <th>pixel747</th>\n",
              "      <th>pixel748</th>\n",
              "      <th>pixel749</th>\n",
              "      <th>pixel750</th>\n",
              "      <th>pixel751</th>\n",
              "      <th>pixel752</th>\n",
              "      <th>pixel753</th>\n",
              "      <th>pixel754</th>\n",
              "      <th>pixel755</th>\n",
              "      <th>pixel756</th>\n",
              "      <th>pixel757</th>\n",
              "      <th>pixel758</th>\n",
              "      <th>pixel759</th>\n",
              "      <th>pixel760</th>\n",
              "      <th>pixel761</th>\n",
              "      <th>pixel762</th>\n",
              "      <th>pixel763</th>\n",
              "      <th>pixel764</th>\n",
              "      <th>pixel765</th>\n",
              "      <th>pixel766</th>\n",
              "      <th>pixel767</th>\n",
              "      <th>pixel768</th>\n",
              "      <th>pixel769</th>\n",
              "      <th>pixel770</th>\n",
              "      <th>pixel771</th>\n",
              "      <th>pixel772</th>\n",
              "      <th>pixel773</th>\n",
              "      <th>pixel774</th>\n",
              "      <th>pixel775</th>\n",
              "      <th>pixel776</th>\n",
              "      <th>pixel777</th>\n",
              "      <th>pixel778</th>\n",
              "      <th>pixel779</th>\n",
              "      <th>pixel780</th>\n",
              "      <th>pixel781</th>\n",
              "      <th>pixel782</th>\n",
              "      <th>pixel783</th>\n",
              "      <th>pixel784</th>\n",
              "    </tr>\n",
              "  </thead>\n",
              "  <tbody>\n",
              "    <tr>\n",
              "      <th>0</th>\n",
              "      <td>0</td>\n",
              "      <td>0</td>\n",
              "      <td>0</td>\n",
              "      <td>0</td>\n",
              "      <td>0</td>\n",
              "      <td>0</td>\n",
              "      <td>0</td>\n",
              "      <td>0</td>\n",
              "      <td>9</td>\n",
              "      <td>8</td>\n",
              "      <td>0</td>\n",
              "      <td>0</td>\n",
              "      <td>34</td>\n",
              "      <td>29</td>\n",
              "      <td>7</td>\n",
              "      <td>0</td>\n",
              "      <td>11</td>\n",
              "      <td>24</td>\n",
              "      <td>0</td>\n",
              "      <td>0</td>\n",
              "      <td>3</td>\n",
              "      <td>3</td>\n",
              "      <td>1</td>\n",
              "      <td>0</td>\n",
              "      <td>1</td>\n",
              "      <td>1</td>\n",
              "      <td>0</td>\n",
              "      <td>0</td>\n",
              "      <td>0</td>\n",
              "      <td>0</td>\n",
              "      <td>0</td>\n",
              "      <td>4</td>\n",
              "      <td>0</td>\n",
              "      <td>0</td>\n",
              "      <td>1</td>\n",
              "      <td>0</td>\n",
              "      <td>0</td>\n",
              "      <td>0</td>\n",
              "      <td>0</td>\n",
              "      <td>0</td>\n",
              "      <td>...</td>\n",
              "      <td>242</td>\n",
              "      <td>245</td>\n",
              "      <td>224</td>\n",
              "      <td>245</td>\n",
              "      <td>234</td>\n",
              "      <td>0</td>\n",
              "      <td>3</td>\n",
              "      <td>0</td>\n",
              "      <td>0</td>\n",
              "      <td>0</td>\n",
              "      <td>0</td>\n",
              "      <td>0</td>\n",
              "      <td>0</td>\n",
              "      <td>0</td>\n",
              "      <td>0</td>\n",
              "      <td>0</td>\n",
              "      <td>0</td>\n",
              "      <td>0</td>\n",
              "      <td>0</td>\n",
              "      <td>37</td>\n",
              "      <td>69</td>\n",
              "      <td>94</td>\n",
              "      <td>123</td>\n",
              "      <td>127</td>\n",
              "      <td>138</td>\n",
              "      <td>138</td>\n",
              "      <td>142</td>\n",
              "      <td>145</td>\n",
              "      <td>135</td>\n",
              "      <td>125</td>\n",
              "      <td>103</td>\n",
              "      <td>87</td>\n",
              "      <td>56</td>\n",
              "      <td>0</td>\n",
              "      <td>0</td>\n",
              "      <td>0</td>\n",
              "      <td>0</td>\n",
              "      <td>0</td>\n",
              "      <td>0</td>\n",
              "      <td>0</td>\n",
              "    </tr>\n",
              "    <tr>\n",
              "      <th>1</th>\n",
              "      <td>1</td>\n",
              "      <td>0</td>\n",
              "      <td>0</td>\n",
              "      <td>0</td>\n",
              "      <td>0</td>\n",
              "      <td>0</td>\n",
              "      <td>0</td>\n",
              "      <td>0</td>\n",
              "      <td>0</td>\n",
              "      <td>0</td>\n",
              "      <td>0</td>\n",
              "      <td>0</td>\n",
              "      <td>209</td>\n",
              "      <td>190</td>\n",
              "      <td>181</td>\n",
              "      <td>150</td>\n",
              "      <td>170</td>\n",
              "      <td>193</td>\n",
              "      <td>180</td>\n",
              "      <td>219</td>\n",
              "      <td>5</td>\n",
              "      <td>0</td>\n",
              "      <td>0</td>\n",
              "      <td>0</td>\n",
              "      <td>0</td>\n",
              "      <td>0</td>\n",
              "      <td>0</td>\n",
              "      <td>0</td>\n",
              "      <td>0</td>\n",
              "      <td>0</td>\n",
              "      <td>0</td>\n",
              "      <td>0</td>\n",
              "      <td>0</td>\n",
              "      <td>0</td>\n",
              "      <td>0</td>\n",
              "      <td>0</td>\n",
              "      <td>0</td>\n",
              "      <td>0</td>\n",
              "      <td>0</td>\n",
              "      <td>24</td>\n",
              "      <td>...</td>\n",
              "      <td>248</td>\n",
              "      <td>238</td>\n",
              "      <td>80</td>\n",
              "      <td>0</td>\n",
              "      <td>0</td>\n",
              "      <td>0</td>\n",
              "      <td>0</td>\n",
              "      <td>0</td>\n",
              "      <td>0</td>\n",
              "      <td>0</td>\n",
              "      <td>0</td>\n",
              "      <td>0</td>\n",
              "      <td>0</td>\n",
              "      <td>0</td>\n",
              "      <td>0</td>\n",
              "      <td>0</td>\n",
              "      <td>0</td>\n",
              "      <td>0</td>\n",
              "      <td>0</td>\n",
              "      <td>0</td>\n",
              "      <td>0</td>\n",
              "      <td>0</td>\n",
              "      <td>0</td>\n",
              "      <td>174</td>\n",
              "      <td>233</td>\n",
              "      <td>155</td>\n",
              "      <td>0</td>\n",
              "      <td>65</td>\n",
              "      <td>235</td>\n",
              "      <td>216</td>\n",
              "      <td>34</td>\n",
              "      <td>0</td>\n",
              "      <td>0</td>\n",
              "      <td>0</td>\n",
              "      <td>0</td>\n",
              "      <td>0</td>\n",
              "      <td>0</td>\n",
              "      <td>0</td>\n",
              "      <td>0</td>\n",
              "      <td>0</td>\n",
              "    </tr>\n",
              "    <tr>\n",
              "      <th>2</th>\n",
              "      <td>2</td>\n",
              "      <td>0</td>\n",
              "      <td>0</td>\n",
              "      <td>0</td>\n",
              "      <td>0</td>\n",
              "      <td>0</td>\n",
              "      <td>0</td>\n",
              "      <td>14</td>\n",
              "      <td>53</td>\n",
              "      <td>99</td>\n",
              "      <td>17</td>\n",
              "      <td>0</td>\n",
              "      <td>0</td>\n",
              "      <td>0</td>\n",
              "      <td>0</td>\n",
              "      <td>0</td>\n",
              "      <td>0</td>\n",
              "      <td>0</td>\n",
              "      <td>0</td>\n",
              "      <td>12</td>\n",
              "      <td>94</td>\n",
              "      <td>68</td>\n",
              "      <td>14</td>\n",
              "      <td>0</td>\n",
              "      <td>0</td>\n",
              "      <td>0</td>\n",
              "      <td>0</td>\n",
              "      <td>0</td>\n",
              "      <td>0</td>\n",
              "      <td>0</td>\n",
              "      <td>0</td>\n",
              "      <td>0</td>\n",
              "      <td>0</td>\n",
              "      <td>0</td>\n",
              "      <td>38</td>\n",
              "      <td>106</td>\n",
              "      <td>94</td>\n",
              "      <td>89</td>\n",
              "      <td>94</td>\n",
              "      <td>68</td>\n",
              "      <td>...</td>\n",
              "      <td>0</td>\n",
              "      <td>0</td>\n",
              "      <td>0</td>\n",
              "      <td>0</td>\n",
              "      <td>0</td>\n",
              "      <td>0</td>\n",
              "      <td>87</td>\n",
              "      <td>12</td>\n",
              "      <td>26</td>\n",
              "      <td>0</td>\n",
              "      <td>0</td>\n",
              "      <td>0</td>\n",
              "      <td>0</td>\n",
              "      <td>0</td>\n",
              "      <td>0</td>\n",
              "      <td>0</td>\n",
              "      <td>46</td>\n",
              "      <td>50</td>\n",
              "      <td>29</td>\n",
              "      <td>0</td>\n",
              "      <td>2</td>\n",
              "      <td>0</td>\n",
              "      <td>0</td>\n",
              "      <td>0</td>\n",
              "      <td>0</td>\n",
              "      <td>0</td>\n",
              "      <td>0</td>\n",
              "      <td>0</td>\n",
              "      <td>0</td>\n",
              "      <td>0</td>\n",
              "      <td>0</td>\n",
              "      <td>0</td>\n",
              "      <td>0</td>\n",
              "      <td>0</td>\n",
              "      <td>63</td>\n",
              "      <td>53</td>\n",
              "      <td>31</td>\n",
              "      <td>0</td>\n",
              "      <td>0</td>\n",
              "      <td>0</td>\n",
              "    </tr>\n",
              "    <tr>\n",
              "      <th>3</th>\n",
              "      <td>2</td>\n",
              "      <td>0</td>\n",
              "      <td>0</td>\n",
              "      <td>0</td>\n",
              "      <td>0</td>\n",
              "      <td>0</td>\n",
              "      <td>0</td>\n",
              "      <td>0</td>\n",
              "      <td>0</td>\n",
              "      <td>0</td>\n",
              "      <td>161</td>\n",
              "      <td>212</td>\n",
              "      <td>138</td>\n",
              "      <td>150</td>\n",
              "      <td>169</td>\n",
              "      <td>164</td>\n",
              "      <td>176</td>\n",
              "      <td>202</td>\n",
              "      <td>255</td>\n",
              "      <td>183</td>\n",
              "      <td>26</td>\n",
              "      <td>0</td>\n",
              "      <td>0</td>\n",
              "      <td>0</td>\n",
              "      <td>0</td>\n",
              "      <td>0</td>\n",
              "      <td>0</td>\n",
              "      <td>0</td>\n",
              "      <td>0</td>\n",
              "      <td>0</td>\n",
              "      <td>0</td>\n",
              "      <td>0</td>\n",
              "      <td>1</td>\n",
              "      <td>0</td>\n",
              "      <td>0</td>\n",
              "      <td>129</td>\n",
              "      <td>221</td>\n",
              "      <td>255</td>\n",
              "      <td>255</td>\n",
              "      <td>215</td>\n",
              "      <td>...</td>\n",
              "      <td>255</td>\n",
              "      <td>255</td>\n",
              "      <td>254</td>\n",
              "      <td>252</td>\n",
              "      <td>255</td>\n",
              "      <td>101</td>\n",
              "      <td>196</td>\n",
              "      <td>254</td>\n",
              "      <td>252</td>\n",
              "      <td>100</td>\n",
              "      <td>0</td>\n",
              "      <td>0</td>\n",
              "      <td>0</td>\n",
              "      <td>0</td>\n",
              "      <td>0</td>\n",
              "      <td>168</td>\n",
              "      <td>232</td>\n",
              "      <td>225</td>\n",
              "      <td>0</td>\n",
              "      <td>41</td>\n",
              "      <td>172</td>\n",
              "      <td>147</td>\n",
              "      <td>148</td>\n",
              "      <td>153</td>\n",
              "      <td>155</td>\n",
              "      <td>146</td>\n",
              "      <td>137</td>\n",
              "      <td>141</td>\n",
              "      <td>143</td>\n",
              "      <td>137</td>\n",
              "      <td>137</td>\n",
              "      <td>126</td>\n",
              "      <td>140</td>\n",
              "      <td>0</td>\n",
              "      <td>133</td>\n",
              "      <td>224</td>\n",
              "      <td>222</td>\n",
              "      <td>56</td>\n",
              "      <td>0</td>\n",
              "      <td>0</td>\n",
              "    </tr>\n",
              "    <tr>\n",
              "      <th>4</th>\n",
              "      <td>3</td>\n",
              "      <td>0</td>\n",
              "      <td>0</td>\n",
              "      <td>0</td>\n",
              "      <td>0</td>\n",
              "      <td>0</td>\n",
              "      <td>0</td>\n",
              "      <td>0</td>\n",
              "      <td>0</td>\n",
              "      <td>0</td>\n",
              "      <td>0</td>\n",
              "      <td>37</td>\n",
              "      <td>0</td>\n",
              "      <td>0</td>\n",
              "      <td>0</td>\n",
              "      <td>0</td>\n",
              "      <td>0</td>\n",
              "      <td>0</td>\n",
              "      <td>17</td>\n",
              "      <td>0</td>\n",
              "      <td>0</td>\n",
              "      <td>0</td>\n",
              "      <td>0</td>\n",
              "      <td>0</td>\n",
              "      <td>0</td>\n",
              "      <td>0</td>\n",
              "      <td>0</td>\n",
              "      <td>0</td>\n",
              "      <td>0</td>\n",
              "      <td>0</td>\n",
              "      <td>0</td>\n",
              "      <td>0</td>\n",
              "      <td>0</td>\n",
              "      <td>0</td>\n",
              "      <td>0</td>\n",
              "      <td>0</td>\n",
              "      <td>0</td>\n",
              "      <td>21</td>\n",
              "      <td>204</td>\n",
              "      <td>235</td>\n",
              "      <td>...</td>\n",
              "      <td>0</td>\n",
              "      <td>2</td>\n",
              "      <td>0</td>\n",
              "      <td>0</td>\n",
              "      <td>0</td>\n",
              "      <td>0</td>\n",
              "      <td>0</td>\n",
              "      <td>0</td>\n",
              "      <td>0</td>\n",
              "      <td>0</td>\n",
              "      <td>0</td>\n",
              "      <td>0</td>\n",
              "      <td>0</td>\n",
              "      <td>0</td>\n",
              "      <td>0</td>\n",
              "      <td>0</td>\n",
              "      <td>0</td>\n",
              "      <td>0</td>\n",
              "      <td>0</td>\n",
              "      <td>0</td>\n",
              "      <td>0</td>\n",
              "      <td>0</td>\n",
              "      <td>0</td>\n",
              "      <td>0</td>\n",
              "      <td>1</td>\n",
              "      <td>0</td>\n",
              "      <td>2</td>\n",
              "      <td>69</td>\n",
              "      <td>0</td>\n",
              "      <td>2</td>\n",
              "      <td>0</td>\n",
              "      <td>0</td>\n",
              "      <td>0</td>\n",
              "      <td>0</td>\n",
              "      <td>0</td>\n",
              "      <td>0</td>\n",
              "      <td>0</td>\n",
              "      <td>0</td>\n",
              "      <td>0</td>\n",
              "      <td>0</td>\n",
              "    </tr>\n",
              "  </tbody>\n",
              "</table>\n",
              "<p>5 rows × 785 columns</p>\n",
              "</div>"
            ],
            "text/plain": [
              "   label  pixel1  pixel2  pixel3  ...  pixel781  pixel782  pixel783  pixel784\n",
              "0      0       0       0       0  ...         0         0         0         0\n",
              "1      1       0       0       0  ...         0         0         0         0\n",
              "2      2       0       0       0  ...        31         0         0         0\n",
              "3      2       0       0       0  ...       222        56         0         0\n",
              "4      3       0       0       0  ...         0         0         0         0\n",
              "\n",
              "[5 rows x 785 columns]"
            ]
          },
          "metadata": {
            "tags": []
          },
          "execution_count": 74
        }
      ]
    },
    {
      "cell_type": "code",
      "metadata": {
        "id": "Dy1FtHEmhKKD",
        "colab_type": "code",
        "outputId": "b492a5ce-55eb-4bab-fe7f-968bf472f84b",
        "colab": {
          "base_uri": "https://localhost:8080/"
        }
      },
      "source": [
        "data_train.shape, data_test.shape"
      ],
      "execution_count": 0,
      "outputs": [
        {
          "output_type": "execute_result",
          "data": {
            "text/plain": [
              "((60000, 785), (10000, 785))"
            ]
          },
          "metadata": {
            "tags": []
          },
          "execution_count": 75
        }
      ]
    },
    {
      "cell_type": "markdown",
      "metadata": {
        "id": "71eJ9GL9eGxR",
        "colab_type": "text"
      },
      "source": [
        "### 2. Pre-processing data\n",
        "> ##### a  \n",
        "Images and labels"
      ]
    },
    {
      "cell_type": "code",
      "metadata": {
        "id": "T8BzIWONdWQG",
        "colab_type": "code",
        "colab": {}
      },
      "source": [
        "from keras.utils import to_categorical\n",
        "# X = training images, y =training labels\n",
        " \n",
        "X = np.array(data_train.iloc[:,1:])\n",
        "y = to_categorical(np.array(data_train.iloc[:,0]))\n",
        "\n",
        "# X_test = test images, y_test = test labels\n",
        "X_test = np.array(data_test.iloc[:, 1:])\n",
        "y_test = to_categorical(np.array(data_test.iloc[:, 0]))"
      ],
      "execution_count": 0,
      "outputs": []
    },
    {
      "cell_type": "markdown",
      "metadata": {
        "id": "GOClxicte5ol",
        "colab_type": "text"
      },
      "source": [
        ">note:\n",
        "1. iloc returns a Pandas Series when one row is selected, and a Pandas DataFrame when multiple rows are selected, or if any column in full is selected.\n",
        "2. One hot encoding is applied on y, y_test using to_categorical() which is avail with in the keras.utils( tensorflow backend)."
      ]
    },
    {
      "cell_type": "code",
      "metadata": {
        "id": "ttcEFgdNe0ZL",
        "colab_type": "code",
        "outputId": "f4f969d5-9459-4c51-d140-56f948eb842d",
        "colab": {
          "base_uri": "https://localhost:8080/"
        }
      },
      "source": [
        "# look at the shape of the dataframes\n",
        "X.shape, X_test.shape, y.shape, y_test.shape"
      ],
      "execution_count": 0,
      "outputs": [
        {
          "output_type": "execute_result",
          "data": {
            "text/plain": [
              "((60000, 784), (10000, 784), (60000, 10), (10000, 10))"
            ]
          },
          "metadata": {
            "tags": []
          },
          "execution_count": 77
        }
      ]
    },
    {
      "cell_type": "markdown",
      "metadata": {
        "id": "Z1eKGbq9hU-D",
        "colab_type": "text"
      },
      "source": [
        "> ##### b\n",
        " The images of the fashionMNIST are black and white, while the required input for VGG19 must be colored image. Thus covert the images into colored one with 3 channes R, G, B."
      ]
    },
    {
      "cell_type": "code",
      "metadata": {
        "id": "77_kiAeyg16Z",
        "colab_type": "code",
        "outputId": "6c8c9a69-dc1b-4b8b-fa94-8d3602950292",
        "colab": {
          "base_uri": "https://localhost:8080/"
        }
      },
      "source": [
        "X = np.dstack([X] * 3)\n",
        "X_test = np.dstack([X_test] * 3)\n",
        "\n",
        "X.shape, X_test.shape"
      ],
      "execution_count": 0,
      "outputs": [
        {
          "output_type": "execute_result",
          "data": {
            "text/plain": [
              "((60000, 784, 3), (10000, 784, 3))"
            ]
          },
          "metadata": {
            "tags": []
          },
          "execution_count": 78
        }
      ]
    },
    {
      "cell_type": "markdown",
      "metadata": {
        "id": "FwfAS8cPpADf",
        "colab_type": "text"
      },
      "source": [
        "> ##### c\n",
        "Reshape the images into tensor format as required by TensoFlow"
      ]
    },
    {
      "cell_type": "code",
      "metadata": {
        "id": "Mwne-Poko-Rn",
        "colab_type": "code",
        "outputId": "e31d4275-5e01-49e4-fafb-12d04b320f85",
        "colab": {
          "base_uri": "https://localhost:8080/"
        }
      },
      "source": [
        "X = X.reshape(-1, 28, 28, 3)\n",
        "X_test = X_test.reshape(-1, 28, 28, 3)\n",
        "\n",
        "X.shape, X_test.shape"
      ],
      "execution_count": 0,
      "outputs": [
        {
          "output_type": "execute_result",
          "data": {
            "text/plain": [
              "((60000, 28, 28, 3), (10000, 28, 28, 3))"
            ]
          },
          "metadata": {
            "tags": []
          },
          "execution_count": 79
        }
      ]
    },
    {
      "cell_type": "markdown",
      "metadata": {
        "id": "IVD-PixvprnO",
        "colab_type": "text"
      },
      "source": [
        "> ##### d\n",
        "VGG19 requires min input image's width and height of 48."
      ]
    },
    {
      "cell_type": "code",
      "metadata": {
        "id": "uJ1T-F6eiZbG",
        "colab_type": "code",
        "outputId": "45d5a371-ff80-4345-d80a-d36a9e93ef10",
        "colab": {
          "base_uri": "https://localhost:8080/"
        }
      },
      "source": [
        "\n",
        "from keras.preprocessing.image import img_to_array, array_to_img\n",
        "\n",
        "X = np.asarray([img_to_array(array_to_img(im, scale=False).resize((48,48))) for im in X])\n",
        "X_test = np.asarray([img_to_array(array_to_img(im, scale=False).resize((48,48))) for im in X_test])\n",
        "\n",
        "X.shape, X_test.shape"
      ],
      "execution_count": 0,
      "outputs": [
        {
          "output_type": "execute_result",
          "data": {
            "text/plain": [
              "((60000, 48, 48, 3), (10000, 48, 48, 3))"
            ]
          },
          "metadata": {
            "tags": []
          },
          "execution_count": 80
        }
      ]
    },
    {
      "cell_type": "markdown",
      "metadata": {
        "id": "M-zsJhe2txYO",
        "colab_type": "text"
      },
      "source": [
        "> ##### e\n",
        "pre-process the images by reshaping and scaling them so that all values are in the [0, 1] interval."
      ]
    },
    {
      "cell_type": "code",
      "metadata": {
        "id": "CTZnffRrtC0J",
        "colab_type": "code",
        "colab": {}
      },
      "source": [
        "X = X.astype('float32')\n",
        "X /= 255\n",
        "\n",
        "X_test = X_test.astype('float32')\n",
        "X_test /= 255"
      ],
      "execution_count": 0,
      "outputs": []
    },
    {
      "cell_type": "markdown",
      "metadata": {
        "id": "J6jvkFNwVpCI",
        "colab_type": "text"
      },
      "source": [
        "### 3. Split the data\n",
        "> The original training data (60k images) is split into 80% of training(48k images) and 20% of validation (12k images), to finally evaluate the accuracy of the model on the data it has never seen. This helps to see whether overfitting the training data or not?. Whether i should lower the learning rate and train more epochs if validation accuracy is higher than traning accuracy or stop over-training if training accuracy shift higher than the validation. \n"
      ]
    },
    {
      "cell_type": "code",
      "metadata": {
        "id": "bkTN8VmXVfi7",
        "colab_type": "code",
        "outputId": "b21f6056-3472-4688-d201-2bde747de982",
        "colab": {
          "base_uri": "https://localhost:8080/"
        }
      },
      "source": [
        "from sklearn.model_selection import train_test_split\n",
        "\n",
        "X_train, X_val, y_train, y_val = train_test_split(X, y, test_size =  0.2, random_state = 50)\n",
        "\n",
        "X_train.shape, X_val.shape, y_train.shape, y_val.shape"
      ],
      "execution_count": 0,
      "outputs": [
        {
          "output_type": "execute_result",
          "data": {
            "text/plain": [
              "((48000, 48, 48, 3), (12000, 48, 48, 3), (48000, 10), (12000, 10))"
            ]
          },
          "metadata": {
            "tags": []
          },
          "execution_count": 82
        }
      ]
    },
    {
      "cell_type": "markdown",
      "metadata": {
        "id": "O6aaJnLGZEfL",
        "colab_type": "text"
      },
      "source": [
        "### 4. VGG19"
      ]
    },
    {
      "cell_type": "code",
      "metadata": {
        "id": "7EkFj5fuYmtL",
        "colab_type": "code",
        "colab": {}
      },
      "source": [
        "from keras.applications import VGG19\n",
        "\n",
        "vgg19 = VGG19(weights = 'imagenet', include_top = False, input_shape = (48,48,3), classes = 10)"
      ],
      "execution_count": 0,
      "outputs": []
    },
    {
      "cell_type": "markdown",
      "metadata": {
        "id": "gBLY8oVlZ9_3",
        "colab_type": "text"
      },
      "source": [
        "> note: Passed arguments are\n",
        "1. weights specifies the weeight checkpoint fromwhich to intitialize the model.\n",
        "2. include_top  refers to including(or not) the densely connected classifier on top of the network. By default, this densely connected classifer corresponds to the 1000 classes from ImageNet. As in this were are different densely connected classifier with only 10 classes, so no need to include it\n",
        "3. input_shape(optional), only to be included if include_top is false\n",
        "4. classes(optional), no of classes to classify images."
      ]
    },
    {
      "cell_type": "code",
      "metadata": {
        "id": "6aT2i5_eYtVh",
        "colab_type": "code",
        "outputId": "d3ac9a91-c346-439c-f8dd-018fae9aea99",
        "colab": {
          "base_uri": "https://localhost:8080/",
          "height": 901
        }
      },
      "source": [
        "vgg19.summary()"
      ],
      "execution_count": 0,
      "outputs": [
        {
          "output_type": "stream",
          "text": [
            "Model: \"vgg19\"\n",
            "_________________________________________________________________\n",
            "Layer (type)                 Output Shape              Param #   \n",
            "=================================================================\n",
            "input_4 (InputLayer)         (None, 48, 48, 3)         0         \n",
            "_________________________________________________________________\n",
            "block1_conv1 (Conv2D)        (None, 48, 48, 64)        1792      \n",
            "_________________________________________________________________\n",
            "block1_conv2 (Conv2D)        (None, 48, 48, 64)        36928     \n",
            "_________________________________________________________________\n",
            "block1_pool (MaxPooling2D)   (None, 24, 24, 64)        0         \n",
            "_________________________________________________________________\n",
            "block2_conv1 (Conv2D)        (None, 24, 24, 128)       73856     \n",
            "_________________________________________________________________\n",
            "block2_conv2 (Conv2D)        (None, 24, 24, 128)       147584    \n",
            "_________________________________________________________________\n",
            "block2_pool (MaxPooling2D)   (None, 12, 12, 128)       0         \n",
            "_________________________________________________________________\n",
            "block3_conv1 (Conv2D)        (None, 12, 12, 256)       295168    \n",
            "_________________________________________________________________\n",
            "block3_conv2 (Conv2D)        (None, 12, 12, 256)       590080    \n",
            "_________________________________________________________________\n",
            "block3_conv3 (Conv2D)        (None, 12, 12, 256)       590080    \n",
            "_________________________________________________________________\n",
            "block3_conv4 (Conv2D)        (None, 12, 12, 256)       590080    \n",
            "_________________________________________________________________\n",
            "block3_pool (MaxPooling2D)   (None, 6, 6, 256)         0         \n",
            "_________________________________________________________________\n",
            "block4_conv1 (Conv2D)        (None, 6, 6, 512)         1180160   \n",
            "_________________________________________________________________\n",
            "block4_conv2 (Conv2D)        (None, 6, 6, 512)         2359808   \n",
            "_________________________________________________________________\n",
            "block4_conv3 (Conv2D)        (None, 6, 6, 512)         2359808   \n",
            "_________________________________________________________________\n",
            "block4_conv4 (Conv2D)        (None, 6, 6, 512)         2359808   \n",
            "_________________________________________________________________\n",
            "block4_pool (MaxPooling2D)   (None, 3, 3, 512)         0         \n",
            "_________________________________________________________________\n",
            "block5_conv1 (Conv2D)        (None, 3, 3, 512)         2359808   \n",
            "_________________________________________________________________\n",
            "block5_conv2 (Conv2D)        (None, 3, 3, 512)         2359808   \n",
            "_________________________________________________________________\n",
            "block5_conv3 (Conv2D)        (None, 3, 3, 512)         2359808   \n",
            "_________________________________________________________________\n",
            "block5_conv4 (Conv2D)        (None, 3, 3, 512)         2359808   \n",
            "_________________________________________________________________\n",
            "block5_pool (MaxPooling2D)   (None, 1, 1, 512)         0         \n",
            "=================================================================\n",
            "Total params: 20,024,384\n",
            "Trainable params: 20,024,384\n",
            "Non-trainable params: 0\n",
            "_________________________________________________________________\n"
          ],
          "name": "stdout"
        }
      ]
    },
    {
      "cell_type": "markdown",
      "metadata": {
        "id": "QqxZqf53bfOP",
        "colab_type": "text"
      },
      "source": [
        "### 5. Feature extraction\n",
        "> feature extraction consists of represetations learned by a previous network to extract interesting features from new samples. These features are then run through a new classifier, which is trained from scratch.\n",
        "\n",
        "> CNNs used for image classification comprise two parts; \n",
        "1. start with a series of pooling and convolution layers(CONVOLUTIONAL BASE)\n",
        "2. end with a densely connected classifer.\n",
        "\n",
        "> In case of covnets, 'feature extraction' will simply consist of taking the convolutional base of previously trained network, running the new data through it and training a new classifier on top of the output.\n",
        "\n",
        "> why only reuse the convolutional base? could we reuse the densely connected classifier as well? In general, it should be avoided. The reason is simple that the representations learned by the convolutional base are likely to be more generic(common) and therfore more reusable, the feature maps of a covnet are presence maps of generic(common) concpets over a picture which is likely useful regardless of the problem.\n",
        "\n",
        ">Representaations learned by the classifier will necessarily be very specific to the set of classes that the model was trained on, they will only contain information abou the presence probability of a class in the entire picture. Aditionally representations found in densely connected layers no longer contan any information about where objects are located in the input image, these layers get rid of the notion of space, whereas the object locaton is still described by convolutional feature maps. For objects where object location matters, densely connected features woulld be useless.\n",
        "\n",
        "\n"
      ]
    },
    {
      "cell_type": "code",
      "metadata": {
        "id": "3WKSUswZbevA",
        "colab_type": "code",
        "colab": {}
      },
      "source": [
        "from keras.applications.vgg19 import preprocess_input\n",
        "\n",
        "#pre processing the input\n",
        "X_train = preprocess_input(X_train)\n",
        "X_val = preprocess_input(X_val)\n",
        "X_test = preprocess_input(X_test)"
      ],
      "execution_count": 0,
      "outputs": []
    },
    {
      "cell_type": "markdown",
      "metadata": {
        "id": "0aICHO5qhc84",
        "colab_type": "text"
      },
      "source": [
        "\n",
        ">Now inorder to extract features from the FashionMNIST data:\n",
        "1. Run the convolutional base over the dataset\n",
        "2. Record its output to a numpy array on disk\n",
        "3. Use this data as input to a standalone densely connected classifer."
      ]
    },
    {
      "cell_type": "code",
      "metadata": {
        "id": "KYgH8TcAf46V",
        "colab_type": "code",
        "outputId": "78a75e84-be54-4e1e-c089-2be8ed3826fa",
        "colab": {
          "base_uri": "https://localhost:8080/",
          "height": 68
        }
      },
      "source": [
        "# feature extraction\n",
        "\n",
        "train_features = vgg19.predict(np.array(X_train), batch_size = 16, verbose =1)\n",
        "val_features = vgg19.predict(np.array(X_val), batch_size = 16, verbose =1)\n",
        "test_features = vgg19.predict(np.array(X_test), batch_size = 16, verbose =1)\n"
      ],
      "execution_count": 0,
      "outputs": [
        {
          "output_type": "stream",
          "text": [
            "48000/48000 [==============================] - 40s 824us/step\n",
            "12000/12000 [==============================] - 10s 824us/step\n",
            "10000/10000 [==============================] - 8s 822us/step\n"
          ],
          "name": "stdout"
        }
      ]
    },
    {
      "cell_type": "code",
      "metadata": {
        "id": "0pedokIqiujM",
        "colab_type": "code",
        "outputId": "b80700bc-a106-41ce-9422-c61b204daf6f",
        "colab": {
          "base_uri": "https://localhost:8080/",
          "height": 34
        }
      },
      "source": [
        "# shape of features\n",
        "\n",
        "train_features.shape, val_features.shape, test_features.shape "
      ],
      "execution_count": 0,
      "outputs": [
        {
          "output_type": "execute_result",
          "data": {
            "text/plain": [
              "((48000, 1, 1, 512), (12000, 1, 1, 512), (10000, 1, 1, 512))"
            ]
          },
          "metadata": {
            "tags": []
          },
          "execution_count": 87
        }
      ]
    },
    {
      "cell_type": "markdown",
      "metadata": {
        "id": "P_-Dtqdwj1jP",
        "colab_type": "text"
      },
      "source": [
        "> note: The extracted featires are currently of shape (samples, 1, 1, 512). \n",
        "\n",
        ">Feed them to a densely connected classifer, before that flatten them."
      ]
    },
    {
      "cell_type": "code",
      "metadata": {
        "id": "TuH5okRij0q7",
        "colab_type": "code",
        "outputId": "0fb7f457-bba4-4e8f-d549-4932b39e388e",
        "colab": {
          "base_uri": "https://localhost:8080/",
          "height": 34
        }
      },
      "source": [
        "# flatten extracted features\n",
        "\n",
        "train_features = np.reshape(train_features, (48000, 1*1*512))\n",
        "val_features = np.reshape(val_features, (12000, 1*1*512))\n",
        "test_features = np.reshape(test_features, (10000, 1*1*512))\n",
        "\n",
        "# shape of features\n",
        "\n",
        "train_features.shape, val_features.shape, test_features.shape "
      ],
      "execution_count": 0,
      "outputs": [
        {
          "output_type": "execute_result",
          "data": {
            "text/plain": [
              "((48000, 512), (12000, 512), (10000, 512))"
            ]
          },
          "metadata": {
            "tags": []
          },
          "execution_count": 88
        }
      ]
    },
    {
      "cell_type": "markdown",
      "metadata": {
        "id": "NcH1Fc68k7x5",
        "colab_type": "text"
      },
      "source": [
        "> Define desenly connected classifer"
      ]
    },
    {
      "cell_type": "code",
      "metadata": {
        "id": "SpKE9PxnjYAt",
        "colab_type": "code",
        "colab": {}
      },
      "source": [
        "from keras.layers import Dense, Dropout\n",
        "from keras.models import Model\n",
        "from keras import models\n",
        "from keras import layers\n",
        "from keras import optimizers\n",
        "\n",
        "# adding Dense and Dropout layers on top of VGG19\n",
        "\n",
        "model = models.Sequential()\n",
        "model.add(layers.Dense(4096, activation = 'relu', input_dim = 1*1*512))\n",
        "model.add(layers.Dropout(0.5))\n",
        "model.add(layers.Dense(10, activation = 'softmax'))"
      ],
      "execution_count": 0,
      "outputs": []
    },
    {
      "cell_type": "markdown",
      "metadata": {
        "id": "UT4Qx7g-mEPE",
        "colab_type": "text"
      },
      "source": [
        "> note: To prevent overfitting, dropout reeguarization is processed between fully-connected layers. In prediction block 4096 channels are divided into 10 classes using softmax activation function"
      ]
    },
    {
      "cell_type": "code",
      "metadata": {
        "id": "bJZAHHsmmDtE",
        "colab_type": "code",
        "colab": {}
      },
      "source": [
        "import keras\n",
        "\n",
        "#compile the model\n",
        "\n",
        "model.compile(loss = keras.losses.categorical_crossentropy,\n",
        "              optimizer = keras.optimizers.Adam(),\n",
        "              metrics = ['accuracy'])"
      ],
      "execution_count": 0,
      "outputs": []
    },
    {
      "cell_type": "markdown",
      "metadata": {
        "id": "fJ1-XGabm1S4",
        "colab_type": "text"
      },
      "source": [
        "> note:  When compiling the model, I choose categorical_crossentropy as the loss function (which is relevent for multiclass, single-label classification problem) and Adam optimizer.\n",
        "1. The cross-entropy loss calculates the error rate between the predicted value and the original value. Categorical is used because there are 10 classes to predict from. If there were 2 classes we can use binary_crossentropy.\n",
        "2. The Adam optimizer is an improvement over SGD(Stochastic Gradient Descent). The optimizer is responsible for updating the weights of the neurons via backpropagation. It calculates the derivative of the loss function with respect to each weight and subtracts it from the weight.\n"
      ]
    },
    {
      "cell_type": "markdown",
      "metadata": {
        "id": "anv9Rke9nVlr",
        "colab_type": "text"
      },
      "source": [
        "### 6. Train the model "
      ]
    },
    {
      "cell_type": "code",
      "metadata": {
        "id": "DKvX1R8Nl-Lr",
        "colab_type": "code",
        "outputId": "4deaea36-695a-41ec-fdc5-d7b022ec8674",
        "colab": {
          "base_uri": "https://localhost:8080/",
          "height": 1000
        }
      },
      "source": [
        "history1 = model.fit(train_features, y_train, batch_size = 256, epochs = 100, verbose = 1, validation_data=(val_features, y_val))"
      ],
      "execution_count": 0,
      "outputs": [
        {
          "output_type": "stream",
          "text": [
            "Train on 48000 samples, validate on 12000 samples\n",
            "Epoch 1/100\n",
            "48000/48000 [==============================] - 1s 28us/step - loss: 2.3180 - accuracy: 0.2859 - val_loss: 1.5431 - val_accuracy: 0.4397\n",
            "Epoch 2/100\n",
            "48000/48000 [==============================] - 1s 26us/step - loss: 1.4703 - accuracy: 0.4697 - val_loss: 1.3274 - val_accuracy: 0.5265\n",
            "Epoch 3/100\n",
            "48000/48000 [==============================] - 1s 26us/step - loss: 1.3307 - accuracy: 0.5176 - val_loss: 1.2786 - val_accuracy: 0.5334\n",
            "Epoch 4/100\n",
            "48000/48000 [==============================] - 1s 25us/step - loss: 1.2554 - accuracy: 0.5461 - val_loss: 1.1853 - val_accuracy: 0.5857\n",
            "Epoch 5/100\n",
            "48000/48000 [==============================] - 1s 26us/step - loss: 1.2127 - accuracy: 0.5586 - val_loss: 1.1266 - val_accuracy: 0.6183\n",
            "Epoch 6/100\n",
            "48000/48000 [==============================] - 1s 26us/step - loss: 1.1774 - accuracy: 0.5723 - val_loss: 1.1015 - val_accuracy: 0.6267\n",
            "Epoch 7/100\n",
            "48000/48000 [==============================] - 1s 26us/step - loss: 1.1480 - accuracy: 0.5839 - val_loss: 1.1108 - val_accuracy: 0.6020\n",
            "Epoch 8/100\n",
            "48000/48000 [==============================] - 1s 26us/step - loss: 1.1245 - accuracy: 0.5895 - val_loss: 1.0969 - val_accuracy: 0.6074\n",
            "Epoch 9/100\n",
            "48000/48000 [==============================] - 1s 26us/step - loss: 1.1017 - accuracy: 0.6032 - val_loss: 1.0717 - val_accuracy: 0.6223\n",
            "Epoch 10/100\n",
            "48000/48000 [==============================] - 1s 26us/step - loss: 1.0854 - accuracy: 0.6059 - val_loss: 1.0192 - val_accuracy: 0.6474\n",
            "Epoch 11/100\n",
            "48000/48000 [==============================] - 1s 25us/step - loss: 1.0720 - accuracy: 0.6095 - val_loss: 1.0010 - val_accuracy: 0.6522\n",
            "Epoch 12/100\n",
            "48000/48000 [==============================] - 1s 25us/step - loss: 1.0639 - accuracy: 0.6130 - val_loss: 1.0455 - val_accuracy: 0.6172\n",
            "Epoch 13/100\n",
            "48000/48000 [==============================] - 1s 26us/step - loss: 1.0602 - accuracy: 0.6129 - val_loss: 0.9751 - val_accuracy: 0.6628\n",
            "Epoch 14/100\n",
            "48000/48000 [==============================] - 1s 25us/step - loss: 1.0466 - accuracy: 0.6172 - val_loss: 0.9952 - val_accuracy: 0.6507\n",
            "Epoch 15/100\n",
            "48000/48000 [==============================] - 1s 26us/step - loss: 1.0394 - accuracy: 0.6255 - val_loss: 0.9916 - val_accuracy: 0.6450\n",
            "Epoch 16/100\n",
            "48000/48000 [==============================] - 1s 26us/step - loss: 1.0399 - accuracy: 0.6218 - val_loss: 0.9901 - val_accuracy: 0.6437\n",
            "Epoch 17/100\n",
            "48000/48000 [==============================] - 1s 25us/step - loss: 1.0352 - accuracy: 0.6233 - val_loss: 0.9783 - val_accuracy: 0.6596\n",
            "Epoch 18/100\n",
            "48000/48000 [==============================] - 1s 26us/step - loss: 1.0260 - accuracy: 0.6282 - val_loss: 0.9906 - val_accuracy: 0.6507\n",
            "Epoch 19/100\n",
            "48000/48000 [==============================] - 1s 25us/step - loss: 1.0182 - accuracy: 0.6289 - val_loss: 0.9371 - val_accuracy: 0.6673\n",
            "Epoch 20/100\n",
            "48000/48000 [==============================] - 1s 26us/step - loss: 1.0149 - accuracy: 0.6314 - val_loss: 0.9325 - val_accuracy: 0.6752\n",
            "Epoch 21/100\n",
            "48000/48000 [==============================] - 1s 25us/step - loss: 1.0170 - accuracy: 0.6326 - val_loss: 0.9414 - val_accuracy: 0.6661\n",
            "Epoch 22/100\n",
            "48000/48000 [==============================] - 1s 26us/step - loss: 1.0143 - accuracy: 0.6317 - val_loss: 0.9685 - val_accuracy: 0.6520\n",
            "Epoch 23/100\n",
            "48000/48000 [==============================] - 1s 25us/step - loss: 1.0059 - accuracy: 0.6360 - val_loss: 0.9256 - val_accuracy: 0.6803\n",
            "Epoch 24/100\n",
            "48000/48000 [==============================] - 1s 25us/step - loss: 1.0040 - accuracy: 0.6365 - val_loss: 0.9308 - val_accuracy: 0.6663\n",
            "Epoch 25/100\n",
            "48000/48000 [==============================] - 1s 26us/step - loss: 1.0056 - accuracy: 0.6364 - val_loss: 0.9296 - val_accuracy: 0.6746\n",
            "Epoch 26/100\n",
            "48000/48000 [==============================] - 1s 25us/step - loss: 0.9956 - accuracy: 0.6416 - val_loss: 0.9126 - val_accuracy: 0.6743\n",
            "Epoch 27/100\n",
            "48000/48000 [==============================] - 1s 26us/step - loss: 1.0003 - accuracy: 0.6406 - val_loss: 0.9272 - val_accuracy: 0.6662\n",
            "Epoch 28/100\n",
            "48000/48000 [==============================] - 1s 26us/step - loss: 0.9925 - accuracy: 0.6422 - val_loss: 0.9325 - val_accuracy: 0.6729\n",
            "Epoch 29/100\n",
            "48000/48000 [==============================] - 1s 26us/step - loss: 0.9855 - accuracy: 0.6441 - val_loss: 0.8953 - val_accuracy: 0.6814\n",
            "Epoch 30/100\n",
            "48000/48000 [==============================] - 1s 25us/step - loss: 0.9812 - accuracy: 0.6452 - val_loss: 0.8934 - val_accuracy: 0.6890\n",
            "Epoch 31/100\n",
            "48000/48000 [==============================] - 1s 26us/step - loss: 0.9846 - accuracy: 0.6431 - val_loss: 0.8970 - val_accuracy: 0.6744\n",
            "Epoch 32/100\n",
            "48000/48000 [==============================] - 1s 26us/step - loss: 0.9765 - accuracy: 0.6478 - val_loss: 0.8680 - val_accuracy: 0.6957\n",
            "Epoch 33/100\n",
            "48000/48000 [==============================] - 1s 26us/step - loss: 0.9726 - accuracy: 0.6504 - val_loss: 0.8713 - val_accuracy: 0.6923\n",
            "Epoch 34/100\n",
            "48000/48000 [==============================] - 1s 25us/step - loss: 0.9723 - accuracy: 0.6501 - val_loss: 0.8705 - val_accuracy: 0.6949\n",
            "Epoch 35/100\n",
            "48000/48000 [==============================] - 1s 25us/step - loss: 0.9781 - accuracy: 0.6456 - val_loss: 0.8580 - val_accuracy: 0.6993\n",
            "Epoch 36/100\n",
            "48000/48000 [==============================] - 1s 26us/step - loss: 0.9755 - accuracy: 0.6482 - val_loss: 0.8835 - val_accuracy: 0.6821\n",
            "Epoch 37/100\n",
            "48000/48000 [==============================] - 1s 26us/step - loss: 0.9783 - accuracy: 0.6507 - val_loss: 0.8557 - val_accuracy: 0.7009\n",
            "Epoch 38/100\n",
            "48000/48000 [==============================] - 1s 26us/step - loss: 0.9842 - accuracy: 0.6454 - val_loss: 0.8561 - val_accuracy: 0.6972\n",
            "Epoch 39/100\n",
            "48000/48000 [==============================] - 1s 26us/step - loss: 0.9775 - accuracy: 0.6490 - val_loss: 0.8747 - val_accuracy: 0.6989\n",
            "Epoch 40/100\n",
            "48000/48000 [==============================] - 1s 26us/step - loss: 0.9751 - accuracy: 0.6501 - val_loss: 0.8889 - val_accuracy: 0.6766\n",
            "Epoch 41/100\n",
            "48000/48000 [==============================] - 1s 25us/step - loss: 0.9704 - accuracy: 0.6503 - val_loss: 0.8674 - val_accuracy: 0.6899\n",
            "Epoch 42/100\n",
            "48000/48000 [==============================] - 1s 26us/step - loss: 0.9736 - accuracy: 0.6506 - val_loss: 0.8668 - val_accuracy: 0.6902\n",
            "Epoch 43/100\n",
            "48000/48000 [==============================] - 1s 26us/step - loss: 0.9691 - accuracy: 0.6515 - val_loss: 0.8453 - val_accuracy: 0.7073\n",
            "Epoch 44/100\n",
            "48000/48000 [==============================] - 1s 26us/step - loss: 0.9681 - accuracy: 0.6538 - val_loss: 0.8561 - val_accuracy: 0.6917\n",
            "Epoch 45/100\n",
            "48000/48000 [==============================] - 1s 26us/step - loss: 0.9761 - accuracy: 0.6501 - val_loss: 0.8734 - val_accuracy: 0.6851\n",
            "Epoch 46/100\n",
            "48000/48000 [==============================] - 1s 26us/step - loss: 0.9749 - accuracy: 0.6498 - val_loss: 0.8610 - val_accuracy: 0.6961\n",
            "Epoch 47/100\n",
            "48000/48000 [==============================] - 1s 25us/step - loss: 0.9733 - accuracy: 0.6522 - val_loss: 0.8598 - val_accuracy: 0.7044\n",
            "Epoch 48/100\n",
            "48000/48000 [==============================] - 1s 26us/step - loss: 0.9754 - accuracy: 0.6509 - val_loss: 0.8625 - val_accuracy: 0.6909\n",
            "Epoch 49/100\n",
            "48000/48000 [==============================] - 1s 25us/step - loss: 0.9757 - accuracy: 0.6499 - val_loss: 0.8652 - val_accuracy: 0.6904\n",
            "Epoch 50/100\n",
            "48000/48000 [==============================] - 1s 25us/step - loss: 0.9696 - accuracy: 0.6538 - val_loss: 0.8300 - val_accuracy: 0.7067\n",
            "Epoch 51/100\n",
            "48000/48000 [==============================] - 1s 26us/step - loss: 0.9832 - accuracy: 0.6454 - val_loss: 0.8664 - val_accuracy: 0.6919\n",
            "Epoch 52/100\n",
            "48000/48000 [==============================] - 1s 26us/step - loss: 0.9770 - accuracy: 0.6489 - val_loss: 0.8678 - val_accuracy: 0.6920\n",
            "Epoch 53/100\n",
            "48000/48000 [==============================] - 1s 26us/step - loss: 0.9939 - accuracy: 0.6426 - val_loss: 0.8739 - val_accuracy: 0.6953\n",
            "Epoch 54/100\n",
            "48000/48000 [==============================] - 1s 26us/step - loss: 0.9893 - accuracy: 0.6438 - val_loss: 0.8617 - val_accuracy: 0.6945\n",
            "Epoch 55/100\n",
            "48000/48000 [==============================] - 1s 26us/step - loss: 0.9912 - accuracy: 0.6439 - val_loss: 0.8662 - val_accuracy: 0.6910\n",
            "Epoch 56/100\n",
            "48000/48000 [==============================] - 1s 26us/step - loss: 0.9837 - accuracy: 0.6466 - val_loss: 0.8508 - val_accuracy: 0.6985\n",
            "Epoch 57/100\n",
            "48000/48000 [==============================] - 1s 26us/step - loss: 0.9862 - accuracy: 0.6457 - val_loss: 0.8711 - val_accuracy: 0.6999\n",
            "Epoch 58/100\n",
            "48000/48000 [==============================] - 1s 26us/step - loss: 0.9870 - accuracy: 0.6463 - val_loss: 0.8609 - val_accuracy: 0.6948\n",
            "Epoch 59/100\n",
            "48000/48000 [==============================] - 1s 26us/step - loss: 0.9840 - accuracy: 0.6462 - val_loss: 0.8635 - val_accuracy: 0.6997\n",
            "Epoch 60/100\n",
            "48000/48000 [==============================] - 1s 26us/step - loss: 0.9765 - accuracy: 0.6509 - val_loss: 0.8400 - val_accuracy: 0.6998\n",
            "Epoch 61/100\n",
            "48000/48000 [==============================] - 1s 25us/step - loss: 0.9775 - accuracy: 0.6480 - val_loss: 0.8550 - val_accuracy: 0.6882\n",
            "Epoch 62/100\n",
            "48000/48000 [==============================] - 1s 26us/step - loss: 0.9832 - accuracy: 0.6451 - val_loss: 0.8556 - val_accuracy: 0.6948\n",
            "Epoch 63/100\n",
            "48000/48000 [==============================] - 1s 25us/step - loss: 0.9772 - accuracy: 0.6510 - val_loss: 0.8456 - val_accuracy: 0.7001\n",
            "Epoch 64/100\n",
            "48000/48000 [==============================] - 1s 25us/step - loss: 0.9689 - accuracy: 0.6542 - val_loss: 0.8481 - val_accuracy: 0.6988\n",
            "Epoch 65/100\n",
            "48000/48000 [==============================] - 1s 26us/step - loss: 0.9764 - accuracy: 0.6466 - val_loss: 0.8269 - val_accuracy: 0.7056\n",
            "Epoch 66/100\n",
            "48000/48000 [==============================] - 1s 25us/step - loss: 0.9748 - accuracy: 0.6509 - val_loss: 0.8274 - val_accuracy: 0.7088\n",
            "Epoch 67/100\n",
            "48000/48000 [==============================] - 1s 26us/step - loss: 0.9649 - accuracy: 0.6542 - val_loss: 0.8308 - val_accuracy: 0.7084\n",
            "Epoch 68/100\n",
            "48000/48000 [==============================] - 1s 26us/step - loss: 0.9584 - accuracy: 0.6595 - val_loss: 0.8128 - val_accuracy: 0.7141\n",
            "Epoch 69/100\n",
            "48000/48000 [==============================] - 1s 26us/step - loss: 0.9699 - accuracy: 0.6529 - val_loss: 0.8314 - val_accuracy: 0.7009\n",
            "Epoch 70/100\n",
            "48000/48000 [==============================] - 1s 26us/step - loss: 0.9631 - accuracy: 0.6529 - val_loss: 0.8536 - val_accuracy: 0.6954\n",
            "Epoch 71/100\n",
            "48000/48000 [==============================] - 1s 25us/step - loss: 0.9599 - accuracy: 0.6556 - val_loss: 0.8463 - val_accuracy: 0.7025\n",
            "Epoch 72/100\n",
            "48000/48000 [==============================] - 1s 26us/step - loss: 0.9585 - accuracy: 0.6541 - val_loss: 0.8285 - val_accuracy: 0.7026\n",
            "Epoch 73/100\n",
            "48000/48000 [==============================] - 1s 26us/step - loss: 0.9648 - accuracy: 0.6526 - val_loss: 0.8620 - val_accuracy: 0.6953\n",
            "Epoch 74/100\n",
            "48000/48000 [==============================] - 1s 26us/step - loss: 0.9633 - accuracy: 0.6517 - val_loss: 0.8115 - val_accuracy: 0.7128\n",
            "Epoch 75/100\n",
            "48000/48000 [==============================] - 1s 25us/step - loss: 0.9535 - accuracy: 0.6572 - val_loss: 0.8059 - val_accuracy: 0.7104\n",
            "Epoch 76/100\n",
            "48000/48000 [==============================] - 1s 25us/step - loss: 0.9587 - accuracy: 0.6550 - val_loss: 0.8236 - val_accuracy: 0.7134\n",
            "Epoch 77/100\n",
            "48000/48000 [==============================] - 1s 26us/step - loss: 0.9573 - accuracy: 0.6546 - val_loss: 0.8372 - val_accuracy: 0.7010\n",
            "Epoch 78/100\n",
            "48000/48000 [==============================] - 1s 26us/step - loss: 0.9623 - accuracy: 0.6525 - val_loss: 0.8188 - val_accuracy: 0.7122\n",
            "Epoch 79/100\n",
            "48000/48000 [==============================] - 1s 26us/step - loss: 0.9650 - accuracy: 0.6506 - val_loss: 0.8294 - val_accuracy: 0.7106\n",
            "Epoch 80/100\n",
            "48000/48000 [==============================] - 1s 26us/step - loss: 0.9561 - accuracy: 0.6548 - val_loss: 0.8234 - val_accuracy: 0.7040\n",
            "Epoch 81/100\n",
            "48000/48000 [==============================] - 1s 26us/step - loss: 0.9593 - accuracy: 0.6550 - val_loss: 0.8198 - val_accuracy: 0.7076\n",
            "Epoch 82/100\n",
            "48000/48000 [==============================] - 1s 26us/step - loss: 0.9663 - accuracy: 0.6523 - val_loss: 0.8315 - val_accuracy: 0.7089\n",
            "Epoch 83/100\n",
            "48000/48000 [==============================] - 1s 26us/step - loss: 0.9721 - accuracy: 0.6476 - val_loss: 0.8310 - val_accuracy: 0.7066\n",
            "Epoch 84/100\n",
            "48000/48000 [==============================] - 1s 26us/step - loss: 0.9677 - accuracy: 0.6488 - val_loss: 0.8264 - val_accuracy: 0.7067\n",
            "Epoch 85/100\n",
            "48000/48000 [==============================] - 1s 26us/step - loss: 0.9657 - accuracy: 0.6550 - val_loss: 0.8018 - val_accuracy: 0.7210\n",
            "Epoch 86/100\n",
            "48000/48000 [==============================] - 1s 25us/step - loss: 0.9689 - accuracy: 0.6505 - val_loss: 0.8300 - val_accuracy: 0.7097\n",
            "Epoch 87/100\n",
            "48000/48000 [==============================] - 1s 26us/step - loss: 0.9613 - accuracy: 0.6566 - val_loss: 0.8159 - val_accuracy: 0.7064\n",
            "Epoch 88/100\n",
            "48000/48000 [==============================] - 1s 26us/step - loss: 0.9665 - accuracy: 0.6523 - val_loss: 0.8147 - val_accuracy: 0.7124\n",
            "Epoch 89/100\n",
            "48000/48000 [==============================] - 1s 26us/step - loss: 0.9630 - accuracy: 0.6559 - val_loss: 0.7945 - val_accuracy: 0.7141\n",
            "Epoch 90/100\n",
            "48000/48000 [==============================] - 1s 26us/step - loss: 0.9608 - accuracy: 0.6542 - val_loss: 0.8017 - val_accuracy: 0.7203\n",
            "Epoch 91/100\n",
            "48000/48000 [==============================] - 1s 26us/step - loss: 0.9566 - accuracy: 0.6579 - val_loss: 0.8086 - val_accuracy: 0.7085\n",
            "Epoch 92/100\n",
            "48000/48000 [==============================] - 1s 26us/step - loss: 0.9493 - accuracy: 0.6593 - val_loss: 0.8245 - val_accuracy: 0.6992\n",
            "Epoch 93/100\n",
            "48000/48000 [==============================] - 1s 26us/step - loss: 0.9523 - accuracy: 0.6582 - val_loss: 0.8036 - val_accuracy: 0.7150\n",
            "Epoch 94/100\n",
            "48000/48000 [==============================] - 1s 26us/step - loss: 0.9633 - accuracy: 0.6539 - val_loss: 0.8184 - val_accuracy: 0.7165\n",
            "Epoch 95/100\n",
            "48000/48000 [==============================] - 1s 25us/step - loss: 0.9602 - accuracy: 0.6559 - val_loss: 0.8075 - val_accuracy: 0.7220\n",
            "Epoch 96/100\n",
            "48000/48000 [==============================] - 1s 26us/step - loss: 0.9653 - accuracy: 0.6550 - val_loss: 0.8025 - val_accuracy: 0.7148\n",
            "Epoch 97/100\n",
            "48000/48000 [==============================] - 1s 26us/step - loss: 0.9536 - accuracy: 0.6583 - val_loss: 0.8248 - val_accuracy: 0.7021\n",
            "Epoch 98/100\n",
            "48000/48000 [==============================] - 1s 26us/step - loss: 0.9673 - accuracy: 0.6509 - val_loss: 0.8078 - val_accuracy: 0.7182\n",
            "Epoch 99/100\n",
            "48000/48000 [==============================] - 1s 26us/step - loss: 0.9678 - accuracy: 0.6519 - val_loss: 0.8154 - val_accuracy: 0.7070\n",
            "Epoch 100/100\n",
            "48000/48000 [==============================] - 1s 25us/step - loss: 0.9659 - accuracy: 0.6548 - val_loss: 0.7989 - val_accuracy: 0.7195\n"
          ],
          "name": "stdout"
        }
      ]
    },
    {
      "cell_type": "code",
      "metadata": {
        "id": "xgMGH-4Gt8fi",
        "colab_type": "code",
        "outputId": "dbc7f180-7563-42ec-d427-8bed1a49b20d",
        "colab": {
          "base_uri": "https://localhost:8080/",
          "height": 51
        }
      },
      "source": [
        "score1 = model.evaluate(test_features, y_test, verbose = 0)\n",
        "print('Test loss:',score1[0])\n",
        "print('Test accuracy:',score1[1])"
      ],
      "execution_count": 0,
      "outputs": [
        {
          "output_type": "stream",
          "text": [
            "Test loss: 0.792193456363678\n",
            "Test accuracy: 0.727400004863739\n"
          ],
          "name": "stdout"
        }
      ]
    },
    {
      "cell_type": "code",
      "metadata": {
        "id": "k14qg-mhnpBy",
        "colab_type": "code",
        "outputId": "0b219d5c-b4bb-417b-d868-5b763bda667d",
        "colab": {
          "base_uri": "https://localhost:8080/",
          "height": 1000
        }
      },
      "source": [
        "history2 = model.fit(train_features, y_train, batch_size = 128, epochs = 50, verbose = 1, validation_data=(val_features, y_val))"
      ],
      "execution_count": 0,
      "outputs": [
        {
          "output_type": "stream",
          "text": [
            "Train on 48000 samples, validate on 12000 samples\n",
            "Epoch 1/50\n",
            "48000/48000 [==============================] - 2s 44us/step - loss: 1.0466 - accuracy: 0.6174 - val_loss: 0.9042 - val_accuracy: 0.6833\n",
            "Epoch 2/50\n",
            "48000/48000 [==============================] - 2s 44us/step - loss: 1.0355 - accuracy: 0.6215 - val_loss: 0.8822 - val_accuracy: 0.6944\n",
            "Epoch 3/50\n",
            "48000/48000 [==============================] - 2s 44us/step - loss: 1.0495 - accuracy: 0.6145 - val_loss: 0.8617 - val_accuracy: 0.7028\n",
            "Epoch 4/50\n",
            "48000/48000 [==============================] - 2s 44us/step - loss: 1.0438 - accuracy: 0.6204 - val_loss: 0.8454 - val_accuracy: 0.7004\n",
            "Epoch 5/50\n",
            "48000/48000 [==============================] - 2s 44us/step - loss: 1.0306 - accuracy: 0.6231 - val_loss: 0.8274 - val_accuracy: 0.7141\n",
            "Epoch 6/50\n",
            "48000/48000 [==============================] - 2s 44us/step - loss: 1.0241 - accuracy: 0.6278 - val_loss: 0.8256 - val_accuracy: 0.7128\n",
            "Epoch 7/50\n",
            "48000/48000 [==============================] - 2s 44us/step - loss: 1.0371 - accuracy: 0.6234 - val_loss: 0.8556 - val_accuracy: 0.7055\n",
            "Epoch 8/50\n",
            "48000/48000 [==============================] - 2s 43us/step - loss: 1.0470 - accuracy: 0.6180 - val_loss: 0.8883 - val_accuracy: 0.6834\n",
            "Epoch 9/50\n",
            "48000/48000 [==============================] - 2s 44us/step - loss: 1.0258 - accuracy: 0.6308 - val_loss: 0.8476 - val_accuracy: 0.7120\n",
            "Epoch 10/50\n",
            "48000/48000 [==============================] - 2s 44us/step - loss: 1.0205 - accuracy: 0.6312 - val_loss: 0.8352 - val_accuracy: 0.7052\n",
            "Epoch 11/50\n",
            "48000/48000 [==============================] - 2s 43us/step - loss: 1.0314 - accuracy: 0.6277 - val_loss: 0.8763 - val_accuracy: 0.6884\n",
            "Epoch 12/50\n",
            "48000/48000 [==============================] - 2s 44us/step - loss: 1.0328 - accuracy: 0.6252 - val_loss: 0.8331 - val_accuracy: 0.7030\n",
            "Epoch 13/50\n",
            "48000/48000 [==============================] - 2s 43us/step - loss: 1.0340 - accuracy: 0.6246 - val_loss: 0.8540 - val_accuracy: 0.6913\n",
            "Epoch 14/50\n",
            "48000/48000 [==============================] - 2s 44us/step - loss: 1.0336 - accuracy: 0.6257 - val_loss: 0.8735 - val_accuracy: 0.7017\n",
            "Epoch 15/50\n",
            "48000/48000 [==============================] - 2s 43us/step - loss: 1.0500 - accuracy: 0.6207 - val_loss: 0.8733 - val_accuracy: 0.6970\n",
            "Epoch 16/50\n",
            "48000/48000 [==============================] - 2s 44us/step - loss: 1.0692 - accuracy: 0.6100 - val_loss: 0.8856 - val_accuracy: 0.6905\n",
            "Epoch 17/50\n",
            "48000/48000 [==============================] - 2s 43us/step - loss: 1.0546 - accuracy: 0.6164 - val_loss: 0.8481 - val_accuracy: 0.7061\n",
            "Epoch 18/50\n",
            "48000/48000 [==============================] - 2s 43us/step - loss: 1.0408 - accuracy: 0.6233 - val_loss: 0.8477 - val_accuracy: 0.7042\n",
            "Epoch 19/50\n",
            "48000/48000 [==============================] - 2s 44us/step - loss: 1.0486 - accuracy: 0.6184 - val_loss: 0.8612 - val_accuracy: 0.7044\n",
            "Epoch 20/50\n",
            "48000/48000 [==============================] - 2s 44us/step - loss: 1.0475 - accuracy: 0.6209 - val_loss: 0.8366 - val_accuracy: 0.7097\n",
            "Epoch 21/50\n",
            "48000/48000 [==============================] - 2s 43us/step - loss: 1.0377 - accuracy: 0.6265 - val_loss: 0.8607 - val_accuracy: 0.6992\n",
            "Epoch 22/50\n",
            "48000/48000 [==============================] - 2s 43us/step - loss: 1.0493 - accuracy: 0.6192 - val_loss: 0.8342 - val_accuracy: 0.7088\n",
            "Epoch 23/50\n",
            "48000/48000 [==============================] - 2s 44us/step - loss: 1.0459 - accuracy: 0.6193 - val_loss: 0.8682 - val_accuracy: 0.6980\n",
            "Epoch 24/50\n",
            "48000/48000 [==============================] - 2s 44us/step - loss: 1.0629 - accuracy: 0.6135 - val_loss: 0.8381 - val_accuracy: 0.7113\n",
            "Epoch 25/50\n",
            "48000/48000 [==============================] - 2s 43us/step - loss: 1.0579 - accuracy: 0.6139 - val_loss: 0.8473 - val_accuracy: 0.7103\n",
            "Epoch 26/50\n",
            "48000/48000 [==============================] - 2s 43us/step - loss: 1.0447 - accuracy: 0.6238 - val_loss: 0.8714 - val_accuracy: 0.6993\n",
            "Epoch 27/50\n",
            "48000/48000 [==============================] - 2s 43us/step - loss: 1.0483 - accuracy: 0.6212 - val_loss: 0.8852 - val_accuracy: 0.7023\n",
            "Epoch 28/50\n",
            "48000/48000 [==============================] - 2s 43us/step - loss: 1.0438 - accuracy: 0.6206 - val_loss: 0.8728 - val_accuracy: 0.6923\n",
            "Epoch 29/50\n",
            "48000/48000 [==============================] - 2s 43us/step - loss: 1.0541 - accuracy: 0.6169 - val_loss: 0.8608 - val_accuracy: 0.6971\n",
            "Epoch 30/50\n",
            "48000/48000 [==============================] - 2s 43us/step - loss: 1.0428 - accuracy: 0.6215 - val_loss: 0.8677 - val_accuracy: 0.7067\n",
            "Epoch 31/50\n",
            "48000/48000 [==============================] - 2s 43us/step - loss: 1.0456 - accuracy: 0.6192 - val_loss: 0.8581 - val_accuracy: 0.7038\n",
            "Epoch 32/50\n",
            "48000/48000 [==============================] - 2s 44us/step - loss: 1.0429 - accuracy: 0.6198 - val_loss: 0.8582 - val_accuracy: 0.7035\n",
            "Epoch 33/50\n",
            "48000/48000 [==============================] - 2s 44us/step - loss: 1.0436 - accuracy: 0.6203 - val_loss: 0.8930 - val_accuracy: 0.6890\n",
            "Epoch 34/50\n",
            "48000/48000 [==============================] - 2s 43us/step - loss: 1.0273 - accuracy: 0.6260 - val_loss: 0.8736 - val_accuracy: 0.6945\n",
            "Epoch 35/50\n",
            "48000/48000 [==============================] - 2s 44us/step - loss: 1.0425 - accuracy: 0.6230 - val_loss: 0.8408 - val_accuracy: 0.7072\n",
            "Epoch 36/50\n",
            "48000/48000 [==============================] - 2s 44us/step - loss: 1.0428 - accuracy: 0.6204 - val_loss: 0.8892 - val_accuracy: 0.6873\n",
            "Epoch 37/50\n",
            "48000/48000 [==============================] - 2s 43us/step - loss: 1.0498 - accuracy: 0.6209 - val_loss: 0.8443 - val_accuracy: 0.7052\n",
            "Epoch 38/50\n",
            "48000/48000 [==============================] - 2s 44us/step - loss: 1.0270 - accuracy: 0.6311 - val_loss: 0.8453 - val_accuracy: 0.7123\n",
            "Epoch 39/50\n",
            "48000/48000 [==============================] - 2s 43us/step - loss: 1.0346 - accuracy: 0.6244 - val_loss: 0.8419 - val_accuracy: 0.7027\n",
            "Epoch 40/50\n",
            "48000/48000 [==============================] - 2s 44us/step - loss: 1.0377 - accuracy: 0.6218 - val_loss: 0.8398 - val_accuracy: 0.7087\n",
            "Epoch 41/50\n",
            "48000/48000 [==============================] - 2s 44us/step - loss: 1.0301 - accuracy: 0.6268 - val_loss: 0.8375 - val_accuracy: 0.7017\n",
            "Epoch 42/50\n",
            "48000/48000 [==============================] - 2s 44us/step - loss: 1.0300 - accuracy: 0.6245 - val_loss: 0.8570 - val_accuracy: 0.6963\n",
            "Epoch 43/50\n",
            "48000/48000 [==============================] - 2s 44us/step - loss: 1.0267 - accuracy: 0.6262 - val_loss: 0.8297 - val_accuracy: 0.7042\n",
            "Epoch 44/50\n",
            "48000/48000 [==============================] - 2s 44us/step - loss: 1.0213 - accuracy: 0.6288 - val_loss: 0.8276 - val_accuracy: 0.7069\n",
            "Epoch 45/50\n",
            "48000/48000 [==============================] - 2s 44us/step - loss: 1.0303 - accuracy: 0.6233 - val_loss: 0.8484 - val_accuracy: 0.7052\n",
            "Epoch 46/50\n",
            "48000/48000 [==============================] - 2s 43us/step - loss: 1.0398 - accuracy: 0.6204 - val_loss: 0.8294 - val_accuracy: 0.7022\n",
            "Epoch 47/50\n",
            "48000/48000 [==============================] - 2s 43us/step - loss: 1.0403 - accuracy: 0.6226 - val_loss: 0.8400 - val_accuracy: 0.6972\n",
            "Epoch 48/50\n",
            "48000/48000 [==============================] - 2s 43us/step - loss: 1.0211 - accuracy: 0.6309 - val_loss: 0.8293 - val_accuracy: 0.7110\n",
            "Epoch 49/50\n",
            "48000/48000 [==============================] - 2s 44us/step - loss: 1.0210 - accuracy: 0.6248 - val_loss: 0.8334 - val_accuracy: 0.7051\n",
            "Epoch 50/50\n",
            "48000/48000 [==============================] - 2s 44us/step - loss: 1.0216 - accuracy: 0.6276 - val_loss: 0.8187 - val_accuracy: 0.7071\n"
          ],
          "name": "stdout"
        }
      ]
    },
    {
      "cell_type": "code",
      "metadata": {
        "id": "pX23jvxquUTH",
        "colab_type": "code",
        "outputId": "2a1b6276-0f24-4e6f-bf23-a983b73e04d9",
        "colab": {
          "base_uri": "https://localhost:8080/",
          "height": 51
        }
      },
      "source": [
        "score2 = model.evaluate(test_features, y_test, verbose = 0)\n",
        "print('Test loss:',score2[0])\n",
        "print('Test accuracy:',score2[1])"
      ],
      "execution_count": 0,
      "outputs": [
        {
          "output_type": "stream",
          "text": [
            "Test loss: 0.8155799748420716\n",
            "Test accuracy: 0.7142000198364258\n"
          ],
          "name": "stdout"
        }
      ]
    },
    {
      "cell_type": "code",
      "metadata": {
        "id": "_ko8g9sdtpGS",
        "colab_type": "code",
        "outputId": "1570fa01-492d-4462-bd53-b827940db08f",
        "colab": {
          "base_uri": "https://localhost:8080/",
          "height": 1000
        }
      },
      "source": [
        "history3 = model.fit(train_features, y_train, batch_size = 64, epochs = 50, verbose = 1, validation_data=(val_features, y_val))"
      ],
      "execution_count": 0,
      "outputs": [
        {
          "output_type": "stream",
          "text": [
            "Train on 48000 samples, validate on 12000 samples\n",
            "Epoch 1/50\n",
            "48000/48000 [==============================] - 4s 80us/step - loss: 1.1163 - accuracy: 0.5855 - val_loss: 0.8680 - val_accuracy: 0.7078\n",
            "Epoch 2/50\n",
            "48000/48000 [==============================] - 4s 80us/step - loss: 1.1157 - accuracy: 0.5898 - val_loss: 0.8682 - val_accuracy: 0.7021\n",
            "Epoch 3/50\n",
            "48000/48000 [==============================] - 4s 83us/step - loss: 1.1156 - accuracy: 0.5913 - val_loss: 0.8637 - val_accuracy: 0.7035\n",
            "Epoch 4/50\n",
            "48000/48000 [==============================] - 4s 85us/step - loss: 1.0946 - accuracy: 0.5960 - val_loss: 0.9096 - val_accuracy: 0.6754\n",
            "Epoch 5/50\n",
            "48000/48000 [==============================] - 4s 85us/step - loss: 1.0930 - accuracy: 0.5969 - val_loss: 0.8713 - val_accuracy: 0.7019\n",
            "Epoch 6/50\n",
            "48000/48000 [==============================] - 4s 85us/step - loss: 1.0971 - accuracy: 0.5965 - val_loss: 0.8727 - val_accuracy: 0.6892\n",
            "Epoch 7/50\n",
            "48000/48000 [==============================] - 4s 81us/step - loss: 1.0876 - accuracy: 0.6010 - val_loss: 0.8887 - val_accuracy: 0.6897\n",
            "Epoch 8/50\n",
            "48000/48000 [==============================] - 4s 81us/step - loss: 1.0899 - accuracy: 0.6009 - val_loss: 0.8937 - val_accuracy: 0.6883\n",
            "Epoch 9/50\n",
            "48000/48000 [==============================] - 4s 80us/step - loss: 1.0760 - accuracy: 0.6038 - val_loss: 0.8530 - val_accuracy: 0.6950\n",
            "Epoch 10/50\n",
            "48000/48000 [==============================] - 4s 80us/step - loss: 1.0878 - accuracy: 0.6020 - val_loss: 0.8738 - val_accuracy: 0.7045\n",
            "Epoch 11/50\n",
            "48000/48000 [==============================] - 4s 81us/step - loss: 1.0842 - accuracy: 0.5994 - val_loss: 0.8665 - val_accuracy: 0.7052\n",
            "Epoch 12/50\n",
            "48000/48000 [==============================] - 4s 79us/step - loss: 1.0795 - accuracy: 0.6037 - val_loss: 0.8436 - val_accuracy: 0.7012\n",
            "Epoch 13/50\n",
            "48000/48000 [==============================] - 4s 80us/step - loss: 1.0885 - accuracy: 0.5961 - val_loss: 0.8767 - val_accuracy: 0.6958\n",
            "Epoch 14/50\n",
            "48000/48000 [==============================] - 4s 80us/step - loss: 1.0974 - accuracy: 0.5944 - val_loss: 0.8517 - val_accuracy: 0.7064\n",
            "Epoch 15/50\n",
            "48000/48000 [==============================] - 4s 81us/step - loss: 1.0861 - accuracy: 0.6008 - val_loss: 0.8747 - val_accuracy: 0.6929\n",
            "Epoch 16/50\n",
            "48000/48000 [==============================] - 4s 80us/step - loss: 1.0785 - accuracy: 0.6035 - val_loss: 0.8931 - val_accuracy: 0.6851\n",
            "Epoch 17/50\n",
            "48000/48000 [==============================] - 4s 81us/step - loss: 1.0947 - accuracy: 0.5911 - val_loss: 0.8667 - val_accuracy: 0.7019\n",
            "Epoch 18/50\n",
            "48000/48000 [==============================] - 4s 80us/step - loss: 1.0895 - accuracy: 0.5960 - val_loss: 0.8727 - val_accuracy: 0.6919\n",
            "Epoch 19/50\n",
            "48000/48000 [==============================] - 4s 80us/step - loss: 1.0871 - accuracy: 0.5978 - val_loss: 0.8728 - val_accuracy: 0.7006\n",
            "Epoch 20/50\n",
            "48000/48000 [==============================] - 4s 80us/step - loss: 1.0785 - accuracy: 0.6044 - val_loss: 0.8308 - val_accuracy: 0.7130\n",
            "Epoch 21/50\n",
            "48000/48000 [==============================] - 4s 80us/step - loss: 1.0790 - accuracy: 0.6027 - val_loss: 0.9112 - val_accuracy: 0.6729\n",
            "Epoch 22/50\n",
            "48000/48000 [==============================] - 4s 80us/step - loss: 1.1028 - accuracy: 0.5912 - val_loss: 0.8822 - val_accuracy: 0.7043\n",
            "Epoch 23/50\n",
            "48000/48000 [==============================] - 4s 80us/step - loss: 1.0920 - accuracy: 0.5943 - val_loss: 0.8390 - val_accuracy: 0.7128\n",
            "Epoch 24/50\n",
            "48000/48000 [==============================] - 4s 80us/step - loss: 1.0841 - accuracy: 0.6005 - val_loss: 0.9175 - val_accuracy: 0.6808\n",
            "Epoch 25/50\n",
            "48000/48000 [==============================] - 4s 80us/step - loss: 1.0864 - accuracy: 0.5997 - val_loss: 0.8772 - val_accuracy: 0.6894\n",
            "Epoch 26/50\n",
            "48000/48000 [==============================] - 4s 80us/step - loss: 1.0954 - accuracy: 0.5956 - val_loss: 0.8576 - val_accuracy: 0.7035\n",
            "Epoch 27/50\n",
            "48000/48000 [==============================] - 4s 80us/step - loss: 1.0940 - accuracy: 0.5990 - val_loss: 0.9057 - val_accuracy: 0.6692\n",
            "Epoch 28/50\n",
            "48000/48000 [==============================] - 4s 80us/step - loss: 1.0880 - accuracy: 0.5989 - val_loss: 0.8867 - val_accuracy: 0.6953\n",
            "Epoch 29/50\n",
            "48000/48000 [==============================] - 4s 80us/step - loss: 1.0793 - accuracy: 0.6007 - val_loss: 0.8952 - val_accuracy: 0.6902\n",
            "Epoch 30/50\n",
            "48000/48000 [==============================] - 4s 80us/step - loss: 1.0885 - accuracy: 0.5977 - val_loss: 0.8901 - val_accuracy: 0.7033\n",
            "Epoch 31/50\n",
            "48000/48000 [==============================] - 4s 80us/step - loss: 1.0886 - accuracy: 0.5947 - val_loss: 0.8830 - val_accuracy: 0.7039\n",
            "Epoch 32/50\n",
            "48000/48000 [==============================] - 4s 80us/step - loss: 1.0823 - accuracy: 0.6015 - val_loss: 0.8700 - val_accuracy: 0.7116\n",
            "Epoch 33/50\n",
            "48000/48000 [==============================] - 4s 81us/step - loss: 1.0732 - accuracy: 0.6033 - val_loss: 0.8390 - val_accuracy: 0.7083\n",
            "Epoch 34/50\n",
            "48000/48000 [==============================] - 4s 81us/step - loss: 1.0763 - accuracy: 0.6020 - val_loss: 0.8401 - val_accuracy: 0.7053\n",
            "Epoch 35/50\n",
            "48000/48000 [==============================] - 4s 80us/step - loss: 1.0772 - accuracy: 0.6043 - val_loss: 0.8783 - val_accuracy: 0.7138\n",
            "Epoch 36/50\n",
            "48000/48000 [==============================] - 4s 81us/step - loss: 1.0782 - accuracy: 0.6041 - val_loss: 0.8655 - val_accuracy: 0.7014\n",
            "Epoch 37/50\n",
            "48000/48000 [==============================] - 4s 81us/step - loss: 1.0819 - accuracy: 0.6048 - val_loss: 0.8872 - val_accuracy: 0.6920\n",
            "Epoch 38/50\n",
            "48000/48000 [==============================] - 4s 81us/step - loss: 1.0944 - accuracy: 0.5950 - val_loss: 0.8663 - val_accuracy: 0.6939\n",
            "Epoch 39/50\n",
            "48000/48000 [==============================] - 4s 80us/step - loss: 1.0948 - accuracy: 0.5961 - val_loss: 0.8987 - val_accuracy: 0.6919\n",
            "Epoch 40/50\n",
            "48000/48000 [==============================] - 4s 80us/step - loss: 1.0955 - accuracy: 0.5973 - val_loss: 0.8618 - val_accuracy: 0.7109\n",
            "Epoch 41/50\n",
            "48000/48000 [==============================] - 4s 80us/step - loss: 1.0963 - accuracy: 0.5974 - val_loss: 0.8539 - val_accuracy: 0.7108\n",
            "Epoch 42/50\n",
            "48000/48000 [==============================] - 4s 80us/step - loss: 1.1000 - accuracy: 0.5968 - val_loss: 0.8736 - val_accuracy: 0.7037\n",
            "Epoch 43/50\n",
            "48000/48000 [==============================] - 4s 80us/step - loss: 1.0958 - accuracy: 0.5989 - val_loss: 0.8598 - val_accuracy: 0.7049\n",
            "Epoch 44/50\n",
            "48000/48000 [==============================] - 4s 80us/step - loss: 1.0904 - accuracy: 0.6002 - val_loss: 0.8707 - val_accuracy: 0.6912\n",
            "Epoch 45/50\n",
            "48000/48000 [==============================] - 4s 80us/step - loss: 1.1025 - accuracy: 0.5956 - val_loss: 0.8490 - val_accuracy: 0.7078\n",
            "Epoch 46/50\n",
            "48000/48000 [==============================] - 4s 80us/step - loss: 1.1003 - accuracy: 0.5938 - val_loss: 0.8951 - val_accuracy: 0.6920\n",
            "Epoch 47/50\n",
            "48000/48000 [==============================] - 4s 80us/step - loss: 1.0906 - accuracy: 0.5985 - val_loss: 0.8409 - val_accuracy: 0.7153\n",
            "Epoch 48/50\n",
            "48000/48000 [==============================] - 4s 80us/step - loss: 1.0981 - accuracy: 0.5945 - val_loss: 0.8921 - val_accuracy: 0.6862\n",
            "Epoch 49/50\n",
            "48000/48000 [==============================] - 4s 80us/step - loss: 1.0917 - accuracy: 0.5985 - val_loss: 0.8635 - val_accuracy: 0.6942\n",
            "Epoch 50/50\n",
            "48000/48000 [==============================] - 4s 80us/step - loss: 1.0899 - accuracy: 0.6003 - val_loss: 0.8404 - val_accuracy: 0.7135\n"
          ],
          "name": "stdout"
        }
      ]
    },
    {
      "cell_type": "code",
      "metadata": {
        "id": "cMSMbafpuYkM",
        "colab_type": "code",
        "outputId": "52ddd120-80b6-4c24-d750-b5e09e3b0e40",
        "colab": {
          "base_uri": "https://localhost:8080/",
          "height": 51
        }
      },
      "source": [
        "score3 = model.evaluate(test_features, y_test, verbose = 0)\n",
        "print('Test loss:',score3[0])\n",
        "print('Test accuracy:',score3[1])"
      ],
      "execution_count": 0,
      "outputs": [
        {
          "output_type": "stream",
          "text": [
            "Test loss: 0.8386492921829224\n",
            "Test accuracy: 0.717199981212616\n"
          ],
          "name": "stdout"
        }
      ]
    },
    {
      "cell_type": "markdown",
      "metadata": {
        "id": "RtTcaZ5Kugtm",
        "colab_type": "text"
      },
      "source": [
        "### 7. Results\n",
        "\n",
        ">note: only batch_size hyperparameter is tuned over different values as appear in results."
      ]
    },
    {
      "cell_type": "code",
      "metadata": {
        "id": "BoDuzQ5mui2k",
        "colab_type": "code",
        "outputId": "2cd92163-b290-4f31-a988-d462821b77a5",
        "colab": {
          "base_uri": "https://localhost:8080/",
          "height": 545
        }
      },
      "source": [
        "# plot the loss and accuracy\n",
        "\n",
        "import matplotlib.pyplot as plt\n",
        "%matplotlib inline\n",
        "\n",
        "accuracy = history1.history['accuracy']\n",
        "val_accuracy = history1.history['val_accuracy']\n",
        "loss = history1.history['loss']\n",
        "val_loss = history1.history['val_loss']\n",
        "epochs = range(1, len(accuracy)+1)\n",
        "\n",
        "plt.title('Training and validation accuracy')\n",
        "plt.plot(epochs, accuracy, 'red', label='Training accuracy')\n",
        "plt.plot(epochs, val_accuracy, 'blue', label='Validation accuracy')\n",
        "plt.legend()\n",
        "\n",
        "plt.figure()\n",
        "plt.title('Training and validation loss')\n",
        "plt.plot(epochs, loss, 'red', label='Training loss')\n",
        "plt.plot(epochs, val_loss, 'blue', label='Validation loss')\n",
        "\n",
        "plt.legend()\n",
        "\n",
        "plt.show()"
      ],
      "execution_count": 0,
      "outputs": [
        {
          "output_type": "display_data",
          "data": {
            "image/png": "[encoded data removed]",
            "text/plain": [
              "<Figure size 432x288 with 1 Axes>"
            ]
          },
          "metadata": {
            "tags": [],
            "needs_background": "light"
          }
        },
        {
          "output_type": "display_data",
          "data": {
            "image/png": "[encoded data removed]",
            "text/plain": [
              "<Figure size 432x288 with 1 Axes>"
            ]
          },
          "metadata": {
            "tags": [],
            "needs_background": "light"
          }
        }
      ]
    },
    {
      "cell_type": "code",
      "metadata": {
        "id": "-Jxw2esZvXw-",
        "colab_type": "code",
        "outputId": "35130b73-ddec-48f7-bb7d-733188c0fdc2",
        "colab": {
          "base_uri": "https://localhost:8080/",
          "height": 545
        }
      },
      "source": [
        "# plot the loss and accuracy\n",
        "\n",
        "import matplotlib.pyplot as plt\n",
        "%matplotlib inline\n",
        "\n",
        "accuracy = history2.history['accuracy']\n",
        "val_accuracy = history2.history['val_accuracy']\n",
        "loss = history2.history['loss']\n",
        "val_loss = history2.history['val_loss']\n",
        "epochs = range(1, len(accuracy)+1)\n",
        "\n",
        "plt.title('Training and validation accuracy')\n",
        "plt.plot(epochs, accuracy, 'red', label='Training accuracy')\n",
        "plt.plot(epochs, val_accuracy, 'blue', label='Validation accuracy')\n",
        "plt.legend()\n",
        "\n",
        "plt.figure()\n",
        "plt.title('Training and validation loss')\n",
        "plt.plot(epochs, loss, 'red', label='Training loss')\n",
        "plt.plot(epochs, val_loss, 'blue', label='Validation loss')\n",
        "\n",
        "plt.legend()\n",
        "\n",
        "plt.show()"
      ],
      "execution_count": 0,
      "outputs": [
        {
          "output_type": "display_data",
          "data": {
            "image/png": "[encoded data removed]",
            "text/plain": [
              "<Figure size 432x288 with 1 Axes>"
            ]
          },
          "metadata": {
            "tags": [],
            "needs_background": "light"
          }
        },
        {
          "output_type": "display_data",
          "data": {
            "image/png": "[encoded data removed]",
            "text/plain": [
              "<Figure size 432x288 with 1 Axes>"
            ]
          },
          "metadata": {
            "tags": [],
            "needs_background": "light"
          }
        }
      ]
    },
    {
      "cell_type": "code",
      "metadata": {
        "id": "3HC3AT7svdPL",
        "colab_type": "code",
        "outputId": "980e2fd6-8340-4595-b320-280c9edb089d",
        "colab": {
          "base_uri": "https://localhost:8080/",
          "height": 545
        }
      },
      "source": [
        "# plot the loss and accuracy\n",
        "\n",
        "import matplotlib.pyplot as plt\n",
        "%matplotlib inline\n",
        "\n",
        "accuracy = history3.history['accuracy']\n",
        "val_accuracy = history3.history['val_accuracy']\n",
        "loss = history3.history['loss']\n",
        "val_loss = history3.history['val_loss']\n",
        "epochs = range(1, len(accuracy)+1)\n",
        "\n",
        "plt.title('Training and validation accuracy')\n",
        "plt.plot(epochs, accuracy, 'red', label='Training accuracy')\n",
        "plt.plot(epochs, val_accuracy, 'blue', label='Validation accuracy')\n",
        "plt.legend()\n",
        "\n",
        "plt.figure()\n",
        "plt.title('Training and validation loss')\n",
        "plt.plot(epochs, loss, 'red', label='Training loss')\n",
        "plt.plot(epochs, val_loss, 'blue', label='Validation loss')\n",
        "\n",
        "plt.legend()\n",
        "\n",
        "plt.show()"
      ],
      "execution_count": 0,
      "outputs": [
        {
          "output_type": "display_data",
          "data": {
            "image/png": "[encoded data removed]",
            "text/plain": [
              "<Figure size 432x288 with 1 Axes>"
            ]
          },
          "metadata": {
            "tags": [],
            "needs_background": "light"
          }
        },
        {
          "output_type": "display_data",
          "data": {
            "image/png": "[encoded data removed]",
            "text/plain": [
              "<Figure size 432x288 with 1 Axes>"
            ]
          },
          "metadata": {
            "tags": [],
            "needs_background": "light"
          }
        }
      ]
    },
    {
      "cell_type": "code",
      "metadata": {
        "id": "r14LX6wnytIU",
        "colab_type": "code",
        "colab": {}
      },
      "source": [
        ""
      ],
      "execution_count": 0,
      "outputs": []
    }
  ]
}