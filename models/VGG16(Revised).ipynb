{
  "nbformat": 4,
  "nbformat_minor": 0,
  "metadata": {
    "colab": {
      "name": "VGG16(Revised).ipynb",
      "provenance": [],
      "collapsed_sections": [],
      "authorship_tag": "ABX9TyNhcaj83Kf9EyUzr2VRpwJ1",
      "include_colab_link": true
    },
    "kernelspec": {
      "name": "python3",
      "display_name": "Python 3"
    }
  },
  "cells": [
    {
      "cell_type": "markdown",
      "metadata": {
        "id": "view-in-github",
        "colab_type": "text"
      },
      "source": [
        "<a href=\"https://colab.research.google.com/github/AdicherlaVenkataSai/HCNN-ML/blob/master/VGG16(Revised).ipynb\" target=\"_parent\"><img src=\"https://colab.research.google.com/assets/colab-badge.svg\" alt=\"Open In Colab\"/></a>"
      ]
    },
    {
      "cell_type": "code",
      "metadata": {
        "id": "Gr8oHxpR3sH2",
        "colab_type": "code",
        "colab": {
          "base_uri": "https://localhost:8080/",
          "height": 34
        },
        "outputId": "3d1ba828-b4a0-4ca7-86b8-52d108519a84"
      },
      "source": [
        "import tensorflow as tf\n",
        "from keras.layers.normalization import BatchNormalization\n",
        "\n",
        "def VGG16_model(learinig_rate):\n",
        "  '''\n",
        "\n",
        "block1 : 2Conv + 1 MaxPooling with stride 2x2, filter size 3x3\n",
        "block2 : 2Conv + 1 MaxPooling with stride 2x2, filter size 23\n",
        "block3 : 3Conv + 1 MaxPooling with stride 2x2, filter size 3x3\n",
        "block4 : 3Conv + 1 MaxPooling with stride 2x2, filter size 3x3\n",
        "block5 : 3Conv + 1 MaxPooling with stride 2x2, filter size 3x3\n",
        "\n",
        "activation function = ReLU\n",
        "batch normalizaation  = easier initialization and faster traning\n",
        "dropout regularization = prevents overfitting\n",
        "softmax function\n",
        "\n",
        "  '''\n",
        "\n",
        "  model = tf.keras.models.Sequential\n",
        "\n",
        "  #block1  \n",
        "  model.add(Conv2D(filters=64, kernel_size=(3, 3), activation='relu', strides=1, padding='same', input_shape=(28,28,1)))\n",
        "  model.add(Conv2D(filters=64, kernel_size=(3, 3), activation='relu', strides=1, padding='same', input_shape=(28,28,1)))\n",
        "\n",
        "  model.add(MaxPooling2D(pool_size=(2, 2)))\n",
        "\n",
        "  #block2\n",
        "  model.add(Conv2D(filters=128, kernel_size=(3, 3), activation='relu', strides=1, padding='same', input_shape=(28,28,1)))\n",
        "  model.add(Conv2D(filters=128, kernel_size=(3, 3), activation='relu', strides=1, padding='same', input_shape=(28,28,1)))\n",
        "\n",
        "  model.add(MaxPooling2D(pool_size=(2, 2)))\n",
        "\n",
        "  #block3\n",
        "  model.add(Conv2D(filters=256, kernel_size=(3, 3), activation='relu', strides=1, padding='same', input_shape=(28,28,1)))\n",
        "  model.add(Conv2D(filters=256, kernel_size=(3, 3), activation='relu', strides=1, padding='same', input_shape=(28,28,1)))\n",
        "  model.add(Conv2D(filters=256, kernel_size=(3, 3), activation='relu', strides=1, padding='same', input_shape=(28,28,1)))\n",
        "\n",
        "  model.add(MaxPooling2D(pool_size=(2, 2)))\n",
        "\n",
        "  #block4\n",
        "  model.add(Conv2D(filters=512, kernel_size=(3, 3), activation='relu', strides=1, padding='same', input_shape=(28,28,1)))\n",
        "  model.add(Conv2D(filters=512, kernel_size=(3, 3), activation='relu', strides=1, padding='same', input_shape=(28,28,1)))\n",
        "  model.add(Conv2D(filters=512, kernel_size=(3, 3), activation='relu', strides=1, padding='same', input_shape=(28,28,1)))\n",
        "\n",
        "  model.add(MaxPooling2D(pool_size=(2, 2)))\n",
        "\n",
        "  #block5\n",
        "  model.add(Conv2D(filters=512, kernel_size=(3, 3), activation='relu', strides=1, padding='same', input_shape=(28,28,1)))\n",
        "  model.add(Conv2D(filters=512, kernel_size=(3, 3), activation='relu', strides=1, padding='same', input_shape=(28,28,1)))\n",
        "  model.add(Conv2D(filters=512, kernel_size=(3, 3), activation='relu', strides=1, padding='same', input_shape=(28,28,1)))\n",
        "\n",
        "  model.add(MaxPooling2D(pool_size=(2, 2)))\n",
        "  model.add(BatchNormalization())\n",
        "  model.add(Dropout(0.25))\n",
        "\n",
        "  model.add(Flatten())\n",
        "\n",
        "  model.add(Dense(4096, activation='relu'))\n",
        "  model.add(BatchNormalization())\n",
        "  model.add(Dropout(0.25))\n",
        "\n",
        "  model.add(Dense(4096, activation='relu'))\n",
        "  model.add(BatchNormalization())\n",
        "  model.add(Dropout(0.25))\n",
        "\n",
        "  model.add(Dense(10, activation='softmax'))\n",
        "\n",
        "\n",
        "  # Compiling the model\n",
        "  model.compile(loss='categorical_crossentropy',optimizer=keras.optimizers.Adam(lr = learning_rate),metrics=['accracy'])\n",
        "\n",
        "  return model\n",
        "\n",
        "\n",
        "def VGG16_train(model, x_train, y_train, batch_size , epoch_size , validation_split):\n",
        "\n",
        "  # Fit the Model\n",
        "  history = model.fit_generator(x = x_train, y = y_train, batch_size = batch_size,\n",
        "                      epochs = epoch_size, validation_split = validation_split)\n",
        "  \n",
        "  epochs = history.epoch\n",
        "  \n",
        "  return epochs, history.history\n",
        "  \n",
        "\n",
        "print('Model creation is done')\n",
        "\n",
        "\n",
        "\n",
        "\n",
        "\n",
        " \n",
        " \n",
        "\n"
      ],
      "execution_count": 10,
      "outputs": [
        {
          "output_type": "stream",
          "text": [
            "Model creation is done\n"
          ],
          "name": "stdout"
        }
      ]
    }
  ]
}